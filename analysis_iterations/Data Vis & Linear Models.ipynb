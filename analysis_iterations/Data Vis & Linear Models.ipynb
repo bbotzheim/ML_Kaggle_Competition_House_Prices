{
 "cells": [
  {
   "cell_type": "markdown",
   "metadata": {},
   "source": [
    " ## Contents:\n",
    "1. [Data Visualization](#first-section)\n",
    "2. [Data Processing:](#second-section)\n",
    "    1. [Train Set](#second-section)\n",
    "    2. [Test Set](#third-section)\n",
    "3. [Linear Regression:](#fourth_section)\n",
    "    1. [MLR](#fifth_section)\n",
    "    2. [Ridge](#sixth_section)\n",
    "    3. [Lasso](#seventh_section)\n",
    "4. [Submission #1](#eighth_section)"
   ]
  },
  {
   "cell_type": "markdown",
   "metadata": {},
   "source": [
    "# House Prices: Advanced Regression Techniques"
   ]
  },
  {
   "cell_type": "code",
   "execution_count": 1,
   "metadata": {},
   "outputs": [],
   "source": [
    "import numpy as np\n",
    "import pandas as pd\n",
    "from pandas.plotting import scatter_matrix\n",
    "from matplotlib import pyplot as plt\n",
    "import seaborn as sns\n",
    "\n",
    "train = pd.read_csv('data/train.csv')\n",
    "train = train.drop('Id', axis =1)\n",
    "test = pd.read_csv('data/test.csv')"
   ]
  },
  {
   "cell_type": "markdown",
   "metadata": {},
   "source": [
    "# Data Visualization: <a class=\"anchor\" id=\"first-section\"></a>\n",
    "### What does the data look like?"
   ]
  },
  {
   "cell_type": "code",
   "execution_count": 2,
   "metadata": {},
   "outputs": [
    {
     "data": {
      "text/plain": [
       "count      1460.000000\n",
       "mean     180921.195890\n",
       "std       79442.502883\n",
       "min       34900.000000\n",
       "25%      129975.000000\n",
       "50%      163000.000000\n",
       "75%      214000.000000\n",
       "max      755000.000000\n",
       "Name: SalePrice, dtype: float64"
      ]
     },
     "execution_count": 2,
     "metadata": {},
     "output_type": "execute_result"
    }
   ],
   "source": [
    "train.SalePrice.describe()"
   ]
  },
  {
   "cell_type": "code",
   "execution_count": 3,
   "metadata": {},
   "outputs": [
    {
     "data": {
      "text/plain": [
       "Text(0, 0.5, 'Count')"
      ]
     },
     "execution_count": 3,
     "metadata": {},
     "output_type": "execute_result"
    },
    {
     "data": {
      "image/png": "[encoded data removed]",
      "text/plain": [
       "<Figure size 432x288 with 1 Axes>"
      ]
     },
     "metadata": {
      "needs_background": "light"
     },
     "output_type": "display_data"
    }
   ],
   "source": [
    "plt.hist(train.SalePrice, bins = 50, color = \"#BD9BC2\")\n",
    "plt.xlabel('Sale Prices')\n",
    "plt.ylabel('Count')"
   ]
  },
  {
   "cell_type": "code",
   "execution_count": 4,
   "metadata": {},
   "outputs": [
    {
     "data": {
      "text/plain": [
       "Text(0, 0.5, 'Count')"
      ]
     },
     "execution_count": 4,
     "metadata": {},
     "output_type": "execute_result"
    },
    {
     "data": {
      "image/png": "[encoded data removed]",
      "text/plain": [
       "<Figure size 432x288 with 1 Axes>"
      ]
     },
     "metadata": {
      "needs_background": "light"
     },
     "output_type": "display_data"
    }
   ],
   "source": [
    "plt.hist(np.log(train.SalePrice), bins = 50, color = \"#BD9BC2\")\n",
    "plt.xlabel('Log of Sale Prices')\n",
    "plt.ylabel('Count')"
   ]
  },
  {
   "cell_type": "code",
   "execution_count": 7,
   "metadata": {},
   "outputs": [],
   "source": [
    "# right skew to the target variable, but taking the log corrects corrects much of the issue"
   ]
  },
  {
   "cell_type": "code",
   "execution_count": 5,
   "metadata": {},
   "outputs": [
    {
     "data": {
      "text/plain": [
       "Text(0, 0.5, 'Count')"
      ]
     },
     "execution_count": 5,
     "metadata": {},
     "output_type": "execute_result"
    },
    {
     "data": {
      "image/png": "[encoded data removed]",
      "text/plain": [
       "<Figure size 432x288 with 1 Axes>"
      ]
     },
     "metadata": {
      "needs_background": "light"
     },
     "output_type": "display_data"
    }
   ],
   "source": [
    "plt.hist(train.LotArea, bins = 70, color = 'tab:cyan')\n",
    "plt.xlabel('Lot Area')\n",
    "plt.ylabel('Count')"
   ]
  },
  {
   "cell_type": "code",
   "execution_count": 6,
   "metadata": {
    "scrolled": false
   },
   "outputs": [
    {
     "data": {
      "text/plain": [
       "array([[<matplotlib.axes._subplots.AxesSubplot object at 0x000002297D9239B0>,\n",
       "        <matplotlib.axes._subplots.AxesSubplot object at 0x000002297E270748>,\n",
       "        <matplotlib.axes._subplots.AxesSubplot object at 0x000002297E2A5CF8>,\n",
       "        <matplotlib.axes._subplots.AxesSubplot object at 0x000002297E2E22B0>],\n",
       "       [<matplotlib.axes._subplots.AxesSubplot object at 0x000002297E311828>,\n",
       "        <matplotlib.axes._subplots.AxesSubplot object at 0x000002297E343DD8>,\n",
       "        <matplotlib.axes._subplots.AxesSubplot object at 0x000002297E3823C8>,\n",
       "        <matplotlib.axes._subplots.AxesSubplot object at 0x000002297E3B19B0>],\n",
       "       [<matplotlib.axes._subplots.AxesSubplot object at 0x000002297E3B19E8>,\n",
       "        <matplotlib.axes._subplots.AxesSubplot object at 0x000002297E423518>,\n",
       "        <matplotlib.axes._subplots.AxesSubplot object at 0x000002297E453AC8>,\n",
       "        <matplotlib.axes._subplots.AxesSubplot object at 0x000002297E4910B8>],\n",
       "       [<matplotlib.axes._subplots.AxesSubplot object at 0x000002297E4C3668>,\n",
       "        <matplotlib.axes._subplots.AxesSubplot object at 0x000002297E4F4C18>,\n",
       "        <matplotlib.axes._subplots.AxesSubplot object at 0x000002297E534208>,\n",
       "        <matplotlib.axes._subplots.AxesSubplot object at 0x000002297E5647B8>],\n",
       "       [<matplotlib.axes._subplots.AxesSubplot object at 0x000002297E597D68>,\n",
       "        <matplotlib.axes._subplots.AxesSubplot object at 0x000002297E5D5358>,\n",
       "        <matplotlib.axes._subplots.AxesSubplot object at 0x000002297E605908>,\n",
       "        <matplotlib.axes._subplots.AxesSubplot object at 0x000002297E636EB8>],\n",
       "       [<matplotlib.axes._subplots.AxesSubplot object at 0x000002297E6734A8>,\n",
       "        <matplotlib.axes._subplots.AxesSubplot object at 0x000002297E6A4A58>,\n",
       "        <matplotlib.axes._subplots.AxesSubplot object at 0x000002297E6E4048>,\n",
       "        <matplotlib.axes._subplots.AxesSubplot object at 0x000002297E7145F8>],\n",
       "       [<matplotlib.axes._subplots.AxesSubplot object at 0x000002297E745BA8>,\n",
       "        <matplotlib.axes._subplots.AxesSubplot object at 0x000002297E785198>,\n",
       "        <matplotlib.axes._subplots.AxesSubplot object at 0x000002297E7B5748>,\n",
       "        <matplotlib.axes._subplots.AxesSubplot object at 0x000002297E7E6BA8>],\n",
       "       [<matplotlib.axes._subplots.AxesSubplot object at 0x000002297E825198>,\n",
       "        <matplotlib.axes._subplots.AxesSubplot object at 0x000002297E853748>,\n",
       "        <matplotlib.axes._subplots.AxesSubplot object at 0x000002297E887CF8>,\n",
       "        <matplotlib.axes._subplots.AxesSubplot object at 0x000002297E8C62E8>],\n",
       "       [<matplotlib.axes._subplots.AxesSubplot object at 0x000002297E8F2898>,\n",
       "        <matplotlib.axes._subplots.AxesSubplot object at 0x000002297E927E48>,\n",
       "        <matplotlib.axes._subplots.AxesSubplot object at 0x000002297E964438>,\n",
       "        <matplotlib.axes._subplots.AxesSubplot object at 0x000002297E9959E8>],\n",
       "       [<matplotlib.axes._subplots.AxesSubplot object at 0x000002297E9C9F98>,\n",
       "        <matplotlib.axes._subplots.AxesSubplot object at 0x000002297EA04588>,\n",
       "        <matplotlib.axes._subplots.AxesSubplot object at 0x000002297EA38B38>,\n",
       "        <matplotlib.axes._subplots.AxesSubplot object at 0x000002297EA75128>]],\n",
       "      dtype=object)"
      ]
     },
     "execution_count": 6,
     "metadata": {},
     "output_type": "execute_result"
    },
    {
     "data": {
      "image/png": "[encoded data removed]",
      "text/plain": [
       "<Figure size 1080x1440 with 40 Axes>"
      ]
     },
     "metadata": {
      "needs_background": "light"
     },
     "output_type": "display_data"
    }
   ],
   "source": [
    "numeric_features = train.select_dtypes(include=[np.number])\n",
    "numeric_features.hist(layout = (10,4), bins = 30, figsize=(15,20))\n"
   ]
  },
  {
   "cell_type": "code",
   "execution_count": 7,
   "metadata": {},
   "outputs": [],
   "source": [
    "skewed = ['1stFlrSF', 'BsmtFinSF1', 'BsmtUnfSF', 'GrLivArea', 'TotalBsmtSF', 'OpenPorchSF']"
   ]
  },
  {
   "cell_type": "markdown",
   "metadata": {},
   "source": [
    "### Explore the relationship between sale price and other variables:"
   ]
  },
  {
   "cell_type": "markdown",
   "metadata": {},
   "source": [
    "The top 5 positively & negatively correlated features:"
   ]
  },
  {
   "cell_type": "code",
   "execution_count": 8,
   "metadata": {},
   "outputs": [
    {
     "data": {
      "text/html": [
       "<style  type=\"text/css\" >\n",
       "    #T_5c4cd5d8_948b_11ea_a360_a4c3f07b763arow0_col0 {\n",
       "            background-color:  #67001f;\n",
       "            color:  #f1f1f1;\n",
       "        }    #T_5c4cd5d8_948b_11ea_a360_a4c3f07b763arow1_col0 {\n",
       "            background-color:  #fbe6da;\n",
       "            color:  #000000;\n",
       "        }    #T_5c4cd5d8_948b_11ea_a360_a4c3f07b763arow2_col0 {\n",
       "            background-color:  #cae1ee;\n",
       "            color:  #000000;\n",
       "        }    #T_5c4cd5d8_948b_11ea_a360_a4c3f07b763arow3_col0 {\n",
       "            background-color:  #68abd0;\n",
       "            color:  #000000;\n",
       "        }    #T_5c4cd5d8_948b_11ea_a360_a4c3f07b763arow4_col0 {\n",
       "            background-color:  #4997c5;\n",
       "            color:  #000000;\n",
       "        }    #T_5c4cd5d8_948b_11ea_a360_a4c3f07b763arow5_col0 {\n",
       "            background-color:  #3f8ec0;\n",
       "            color:  #000000;\n",
       "        }    #T_5c4cd5d8_948b_11ea_a360_a4c3f07b763arow6_col0 {\n",
       "            background-color:  #3a87bd;\n",
       "            color:  #000000;\n",
       "        }    #T_5c4cd5d8_948b_11ea_a360_a4c3f07b763arow7_col0 {\n",
       "            background-color:  #1b5a9c;\n",
       "            color:  #f1f1f1;\n",
       "        }    #T_5c4cd5d8_948b_11ea_a360_a4c3f07b763arow8_col0 {\n",
       "            background-color:  #0a3b70;\n",
       "            color:  #f1f1f1;\n",
       "        }    #T_5c4cd5d8_948b_11ea_a360_a4c3f07b763arow9_col0 {\n",
       "            background-color:  #053061;\n",
       "            color:  #f1f1f1;\n",
       "        }</style><table id=\"T_5c4cd5d8_948b_11ea_a360_a4c3f07b763a\" ><thead>    <tr>        <th class=\"blank level0\" ></th>        <th class=\"col_heading level0 col0\" >SalePrice</th>    </tr></thead><tbody>\n",
       "                <tr>\n",
       "                        <th id=\"T_5c4cd5d8_948b_11ea_a360_a4c3f07b763alevel0_row0\" class=\"row_heading level0 row0\" >SalePrice</th>\n",
       "                        <td id=\"T_5c4cd5d8_948b_11ea_a360_a4c3f07b763arow0_col0\" class=\"data row0 col0\" >1</td>\n",
       "            </tr>\n",
       "            <tr>\n",
       "                        <th id=\"T_5c4cd5d8_948b_11ea_a360_a4c3f07b763alevel0_row1\" class=\"row_heading level0 row1\" >OverallQual</th>\n",
       "                        <td id=\"T_5c4cd5d8_948b_11ea_a360_a4c3f07b763arow1_col0\" class=\"data row1 col0\" >0.790982</td>\n",
       "            </tr>\n",
       "            <tr>\n",
       "                        <th id=\"T_5c4cd5d8_948b_11ea_a360_a4c3f07b763alevel0_row2\" class=\"row_heading level0 row2\" >GrLivArea</th>\n",
       "                        <td id=\"T_5c4cd5d8_948b_11ea_a360_a4c3f07b763arow2_col0\" class=\"data row2 col0\" >0.708624</td>\n",
       "            </tr>\n",
       "            <tr>\n",
       "                        <th id=\"T_5c4cd5d8_948b_11ea_a360_a4c3f07b763alevel0_row3\" class=\"row_heading level0 row3\" >GarageCars</th>\n",
       "                        <td id=\"T_5c4cd5d8_948b_11ea_a360_a4c3f07b763arow3_col0\" class=\"data row3 col0\" >0.640409</td>\n",
       "            </tr>\n",
       "            <tr>\n",
       "                        <th id=\"T_5c4cd5d8_948b_11ea_a360_a4c3f07b763alevel0_row4\" class=\"row_heading level0 row4\" >GarageArea</th>\n",
       "                        <td id=\"T_5c4cd5d8_948b_11ea_a360_a4c3f07b763arow4_col0\" class=\"data row4 col0\" >0.623431</td>\n",
       "            </tr>\n",
       "            <tr>\n",
       "                        <th id=\"T_5c4cd5d8_948b_11ea_a360_a4c3f07b763alevel0_row5\" class=\"row_heading level0 row5\" >TotalBsmtSF</th>\n",
       "                        <td id=\"T_5c4cd5d8_948b_11ea_a360_a4c3f07b763arow5_col0\" class=\"data row5 col0\" >0.613581</td>\n",
       "            </tr>\n",
       "            <tr>\n",
       "                        <th id=\"T_5c4cd5d8_948b_11ea_a360_a4c3f07b763alevel0_row6\" class=\"row_heading level0 row6\" >1stFlrSF</th>\n",
       "                        <td id=\"T_5c4cd5d8_948b_11ea_a360_a4c3f07b763arow6_col0\" class=\"data row6 col0\" >0.605852</td>\n",
       "            </tr>\n",
       "            <tr>\n",
       "                        <th id=\"T_5c4cd5d8_948b_11ea_a360_a4c3f07b763alevel0_row7\" class=\"row_heading level0 row7\" >FullBath</th>\n",
       "                        <td id=\"T_5c4cd5d8_948b_11ea_a360_a4c3f07b763arow7_col0\" class=\"data row7 col0\" >0.560664</td>\n",
       "            </tr>\n",
       "            <tr>\n",
       "                        <th id=\"T_5c4cd5d8_948b_11ea_a360_a4c3f07b763alevel0_row8\" class=\"row_heading level0 row8\" >TotRmsAbvGrd</th>\n",
       "                        <td id=\"T_5c4cd5d8_948b_11ea_a360_a4c3f07b763arow8_col0\" class=\"data row8 col0\" >0.533723</td>\n",
       "            </tr>\n",
       "            <tr>\n",
       "                        <th id=\"T_5c4cd5d8_948b_11ea_a360_a4c3f07b763alevel0_row9\" class=\"row_heading level0 row9\" >YearBuilt</th>\n",
       "                        <td id=\"T_5c4cd5d8_948b_11ea_a360_a4c3f07b763arow9_col0\" class=\"data row9 col0\" >0.522897</td>\n",
       "            </tr>\n",
       "    </tbody></table>"
      ],
      "text/plain": [
       "<pandas.io.formats.style.Styler at 0x229000ad198>"
      ]
     },
     "execution_count": 8,
     "metadata": {},
     "output_type": "execute_result"
    }
   ],
   "source": [
    "numeric_features = train.select_dtypes(include=[np.number])\n",
    "corr = numeric_features.corr()\n",
    "corr[['SalePrice']].sort_values('SalePrice', ascending=False)[:10].style.background_gradient(cmap='RdBu_r')"
   ]
  },
  {
   "cell_type": "code",
   "execution_count": 9,
   "metadata": {},
   "outputs": [
    {
     "data": {
      "text/html": [
       "<style  type=\"text/css\" >\n",
       "    #T_5cba55f4_948b_11ea_95d4_a4c3f07b763arow0_col0 {\n",
       "            background-color:  #67001f;\n",
       "            color:  #f1f1f1;\n",
       "        }    #T_5cba55f4_948b_11ea_95d4_a4c3f07b763arow1_col0 {\n",
       "            background-color:  #840924;\n",
       "            color:  #f1f1f1;\n",
       "        }    #T_5cba55f4_948b_11ea_95d4_a4c3f07b763arow2_col0 {\n",
       "            background-color:  #f09c7b;\n",
       "            color:  #000000;\n",
       "        }    #T_5cba55f4_948b_11ea_95d4_a4c3f07b763arow3_col0 {\n",
       "            background-color:  #f6b191;\n",
       "            color:  #000000;\n",
       "        }    #T_5cba55f4_948b_11ea_95d4_a4c3f07b763arow4_col0 {\n",
       "            background-color:  #d4e6f1;\n",
       "            color:  #000000;\n",
       "        }    #T_5cba55f4_948b_11ea_95d4_a4c3f07b763arow5_col0 {\n",
       "            background-color:  #cae1ee;\n",
       "            color:  #000000;\n",
       "        }    #T_5cba55f4_948b_11ea_95d4_a4c3f07b763arow6_col0 {\n",
       "            background-color:  #bbdaea;\n",
       "            color:  #000000;\n",
       "        }    #T_5cba55f4_948b_11ea_95d4_a4c3f07b763arow7_col0 {\n",
       "            background-color:  #acd2e5;\n",
       "            color:  #000000;\n",
       "        }    #T_5cba55f4_948b_11ea_95d4_a4c3f07b763arow8_col0 {\n",
       "            background-color:  #98c8e0;\n",
       "            color:  #000000;\n",
       "        }    #T_5cba55f4_948b_11ea_95d4_a4c3f07b763arow9_col0 {\n",
       "            background-color:  #053061;\n",
       "            color:  #f1f1f1;\n",
       "        }</style><table id=\"T_5cba55f4_948b_11ea_95d4_a4c3f07b763a\" ><thead>    <tr>        <th class=\"blank level0\" ></th>        <th class=\"col_heading level0 col0\" >SalePrice</th>    </tr></thead><tbody>\n",
       "                <tr>\n",
       "                        <th id=\"T_5cba55f4_948b_11ea_95d4_a4c3f07b763alevel0_row0\" class=\"row_heading level0 row0\" >KitchenAbvGr</th>\n",
       "                        <td id=\"T_5cba55f4_948b_11ea_95d4_a4c3f07b763arow0_col0\" class=\"data row0 col0\" >-0.135907</td>\n",
       "            </tr>\n",
       "            <tr>\n",
       "                        <th id=\"T_5cba55f4_948b_11ea_95d4_a4c3f07b763alevel0_row1\" class=\"row_heading level0 row1\" >EnclosedPorch</th>\n",
       "                        <td id=\"T_5cba55f4_948b_11ea_95d4_a4c3f07b763arow1_col0\" class=\"data row1 col0\" >-0.128578</td>\n",
       "            </tr>\n",
       "            <tr>\n",
       "                        <th id=\"T_5cba55f4_948b_11ea_95d4_a4c3f07b763alevel0_row2\" class=\"row_heading level0 row2\" >MSSubClass</th>\n",
       "                        <td id=\"T_5cba55f4_948b_11ea_95d4_a4c3f07b763arow2_col0\" class=\"data row2 col0\" >-0.0842841</td>\n",
       "            </tr>\n",
       "            <tr>\n",
       "                        <th id=\"T_5cba55f4_948b_11ea_95d4_a4c3f07b763alevel0_row3\" class=\"row_heading level0 row3\" >OverallCond</th>\n",
       "                        <td id=\"T_5cba55f4_948b_11ea_95d4_a4c3f07b763arow3_col0\" class=\"data row3 col0\" >-0.0778559</td>\n",
       "            </tr>\n",
       "            <tr>\n",
       "                        <th id=\"T_5cba55f4_948b_11ea_95d4_a4c3f07b763alevel0_row4\" class=\"row_heading level0 row4\" >YrSold</th>\n",
       "                        <td id=\"T_5cba55f4_948b_11ea_95d4_a4c3f07b763arow4_col0\" class=\"data row4 col0\" >-0.0289226</td>\n",
       "            </tr>\n",
       "            <tr>\n",
       "                        <th id=\"T_5cba55f4_948b_11ea_95d4_a4c3f07b763alevel0_row5\" class=\"row_heading level0 row5\" >LowQualFinSF</th>\n",
       "                        <td id=\"T_5cba55f4_948b_11ea_95d4_a4c3f07b763arow5_col0\" class=\"data row5 col0\" >-0.0256061</td>\n",
       "            </tr>\n",
       "            <tr>\n",
       "                        <th id=\"T_5cba55f4_948b_11ea_95d4_a4c3f07b763alevel0_row6\" class=\"row_heading level0 row6\" >MiscVal</th>\n",
       "                        <td id=\"T_5cba55f4_948b_11ea_95d4_a4c3f07b763arow6_col0\" class=\"data row6 col0\" >-0.0211896</td>\n",
       "            </tr>\n",
       "            <tr>\n",
       "                        <th id=\"T_5cba55f4_948b_11ea_95d4_a4c3f07b763alevel0_row7\" class=\"row_heading level0 row7\" >BsmtHalfBath</th>\n",
       "                        <td id=\"T_5cba55f4_948b_11ea_95d4_a4c3f07b763arow7_col0\" class=\"data row7 col0\" >-0.0168442</td>\n",
       "            </tr>\n",
       "            <tr>\n",
       "                        <th id=\"T_5cba55f4_948b_11ea_95d4_a4c3f07b763alevel0_row8\" class=\"row_heading level0 row8\" >BsmtFinSF2</th>\n",
       "                        <td id=\"T_5cba55f4_948b_11ea_95d4_a4c3f07b763arow8_col0\" class=\"data row8 col0\" >-0.0113781</td>\n",
       "            </tr>\n",
       "            <tr>\n",
       "                        <th id=\"T_5cba55f4_948b_11ea_95d4_a4c3f07b763alevel0_row9\" class=\"row_heading level0 row9\" >3SsnPorch</th>\n",
       "                        <td id=\"T_5cba55f4_948b_11ea_95d4_a4c3f07b763arow9_col0\" class=\"data row9 col0\" >0.0445837</td>\n",
       "            </tr>\n",
       "    </tbody></table>"
      ],
      "text/plain": [
       "<pandas.io.formats.style.Styler at 0x229017e2278>"
      ]
     },
     "execution_count": 9,
     "metadata": {},
     "output_type": "execute_result"
    }
   ],
   "source": [
    "corr[['SalePrice']].sort_values('SalePrice', ascending=True)[:10].style.background_gradient(cmap='RdBu')"
   ]
  },
  {
   "cell_type": "code",
   "execution_count": 10,
   "metadata": {},
   "outputs": [
    {
     "data": {
      "text/html": [
       "<style  type=\"text/css\" >\n",
       "    #T_5d329062_948b_11ea_8087_a4c3f07b763arow0_col0 {\n",
       "            background-color:  #67001f;\n",
       "            color:  #f1f1f1;\n",
       "        }    #T_5d329062_948b_11ea_8087_a4c3f07b763arow0_col1 {\n",
       "            background-color:  #fae9df;\n",
       "            color:  #000000;\n",
       "        }    #T_5d329062_948b_11ea_8087_a4c3f07b763arow0_col2 {\n",
       "            background-color:  #eaf1f5;\n",
       "            color:  #000000;\n",
       "        }    #T_5d329062_948b_11ea_8087_a4c3f07b763arow0_col3 {\n",
       "            background-color:  #bbdaea;\n",
       "            color:  #000000;\n",
       "        }    #T_5d329062_948b_11ea_8087_a4c3f07b763arow0_col4 {\n",
       "            background-color:  #8ac0db;\n",
       "            color:  #000000;\n",
       "        }    #T_5d329062_948b_11ea_8087_a4c3f07b763arow0_col5 {\n",
       "            background-color:  #9dcbe1;\n",
       "            color:  #000000;\n",
       "        }    #T_5d329062_948b_11ea_8087_a4c3f07b763arow1_col0 {\n",
       "            background-color:  #e7f0f4;\n",
       "            color:  #000000;\n",
       "        }    #T_5d329062_948b_11ea_8087_a4c3f07b763arow1_col1 {\n",
       "            background-color:  #67001f;\n",
       "            color:  #f1f1f1;\n",
       "        }    #T_5d329062_948b_11ea_8087_a4c3f07b763arow1_col2 {\n",
       "            background-color:  #6bacd1;\n",
       "            color:  #000000;\n",
       "        }    #T_5d329062_948b_11ea_8087_a4c3f07b763arow1_col3 {\n",
       "            background-color:  #8dc2dc;\n",
       "            color:  #000000;\n",
       "        }    #T_5d329062_948b_11ea_8087_a4c3f07b763arow1_col4 {\n",
       "            background-color:  #3a87bd;\n",
       "            color:  #000000;\n",
       "        }    #T_5d329062_948b_11ea_8087_a4c3f07b763arow1_col5 {\n",
       "            background-color:  #3c8abe;\n",
       "            color:  #000000;\n",
       "        }    #T_5d329062_948b_11ea_8087_a4c3f07b763arow2_col0 {\n",
       "            background-color:  #65a9cf;\n",
       "            color:  #000000;\n",
       "        }    #T_5d329062_948b_11ea_8087_a4c3f07b763arow2_col1 {\n",
       "            background-color:  #276eb0;\n",
       "            color:  #f1f1f1;\n",
       "        }    #T_5d329062_948b_11ea_8087_a4c3f07b763arow2_col2 {\n",
       "            background-color:  #67001f;\n",
       "            color:  #f1f1f1;\n",
       "        }    #T_5d329062_948b_11ea_8087_a4c3f07b763arow2_col3 {\n",
       "            background-color:  #144e8a;\n",
       "            color:  #f1f1f1;\n",
       "        }    #T_5d329062_948b_11ea_8087_a4c3f07b763arow2_col4 {\n",
       "            background-color:  #053061;\n",
       "            color:  #f1f1f1;\n",
       "        }    #T_5d329062_948b_11ea_8087_a4c3f07b763arow2_col5 {\n",
       "            background-color:  #0f437b;\n",
       "            color:  #f1f1f1;\n",
       "        }    #T_5d329062_948b_11ea_8087_a4c3f07b763arow3_col0 {\n",
       "            background-color:  #185493;\n",
       "            color:  #f1f1f1;\n",
       "        }    #T_5d329062_948b_11ea_8087_a4c3f07b763arow3_col1 {\n",
       "            background-color:  #2c75b4;\n",
       "            color:  #000000;\n",
       "        }    #T_5d329062_948b_11ea_8087_a4c3f07b763arow3_col2 {\n",
       "            background-color:  #0a3b70;\n",
       "            color:  #f1f1f1;\n",
       "        }    #T_5d329062_948b_11ea_8087_a4c3f07b763arow3_col3 {\n",
       "            background-color:  #67001f;\n",
       "            color:  #f1f1f1;\n",
       "        }    #T_5d329062_948b_11ea_8087_a4c3f07b763arow3_col4 {\n",
       "            background-color:  #dc6e57;\n",
       "            color:  #000000;\n",
       "        }    #T_5d329062_948b_11ea_8087_a4c3f07b763arow3_col5 {\n",
       "            background-color:  #053061;\n",
       "            color:  #f1f1f1;\n",
       "        }    #T_5d329062_948b_11ea_8087_a4c3f07b763arow4_col0 {\n",
       "            background-color:  #0c3d73;\n",
       "            color:  #f1f1f1;\n",
       "        }    #T_5d329062_948b_11ea_8087_a4c3f07b763arow4_col1 {\n",
       "            background-color:  #134c87;\n",
       "            color:  #f1f1f1;\n",
       "        }    #T_5d329062_948b_11ea_8087_a4c3f07b763arow4_col2 {\n",
       "            background-color:  #0c3d73;\n",
       "            color:  #f1f1f1;\n",
       "        }    #T_5d329062_948b_11ea_8087_a4c3f07b763arow4_col3 {\n",
       "            background-color:  #d86551;\n",
       "            color:  #000000;\n",
       "        }    #T_5d329062_948b_11ea_8087_a4c3f07b763arow4_col4 {\n",
       "            background-color:  #67001f;\n",
       "            color:  #f1f1f1;\n",
       "        }    #T_5d329062_948b_11ea_8087_a4c3f07b763arow4_col5 {\n",
       "            background-color:  #1e61a5;\n",
       "            color:  #f1f1f1;\n",
       "        }    #T_5d329062_948b_11ea_8087_a4c3f07b763arow5_col0 {\n",
       "            background-color:  #053061;\n",
       "            color:  #f1f1f1;\n",
       "        }    #T_5d329062_948b_11ea_8087_a4c3f07b763arow5_col1 {\n",
       "            background-color:  #053061;\n",
       "            color:  #f1f1f1;\n",
       "        }    #T_5d329062_948b_11ea_8087_a4c3f07b763arow5_col2 {\n",
       "            background-color:  #053061;\n",
       "            color:  #f1f1f1;\n",
       "        }    #T_5d329062_948b_11ea_8087_a4c3f07b763arow5_col3 {\n",
       "            background-color:  #053061;\n",
       "            color:  #f1f1f1;\n",
       "        }    #T_5d329062_948b_11ea_8087_a4c3f07b763arow5_col4 {\n",
       "            background-color:  #0e4179;\n",
       "            color:  #f1f1f1;\n",
       "        }    #T_5d329062_948b_11ea_8087_a4c3f07b763arow5_col5 {\n",
       "            background-color:  #67001f;\n",
       "            color:  #f1f1f1;\n",
       "        }</style><table id=\"T_5d329062_948b_11ea_8087_a4c3f07b763a\" ><thead>    <tr>        <th class=\"blank level0\" ></th>        <th class=\"col_heading level0 col0\" >SalePrice</th>        <th class=\"col_heading level0 col1\" >OverallQual</th>        <th class=\"col_heading level0 col2\" >GrLivArea</th>        <th class=\"col_heading level0 col3\" >GarageCars</th>        <th class=\"col_heading level0 col4\" >GarageArea</th>        <th class=\"col_heading level0 col5\" >TotalBsmtSF</th>    </tr></thead><tbody>\n",
       "                <tr>\n",
       "                        <th id=\"T_5d329062_948b_11ea_8087_a4c3f07b763alevel0_row0\" class=\"row_heading level0 row0\" >SalePrice</th>\n",
       "                        <td id=\"T_5d329062_948b_11ea_8087_a4c3f07b763arow0_col0\" class=\"data row0 col0\" >1</td>\n",
       "                        <td id=\"T_5d329062_948b_11ea_8087_a4c3f07b763arow0_col1\" class=\"data row0 col1\" >0.790982</td>\n",
       "                        <td id=\"T_5d329062_948b_11ea_8087_a4c3f07b763arow0_col2\" class=\"data row0 col2\" >0.708624</td>\n",
       "                        <td id=\"T_5d329062_948b_11ea_8087_a4c3f07b763arow0_col3\" class=\"data row0 col3\" >0.640409</td>\n",
       "                        <td id=\"T_5d329062_948b_11ea_8087_a4c3f07b763arow0_col4\" class=\"data row0 col4\" >0.623431</td>\n",
       "                        <td id=\"T_5d329062_948b_11ea_8087_a4c3f07b763arow0_col5\" class=\"data row0 col5\" >0.613581</td>\n",
       "            </tr>\n",
       "            <tr>\n",
       "                        <th id=\"T_5d329062_948b_11ea_8087_a4c3f07b763alevel0_row1\" class=\"row_heading level0 row1\" >OverallQual</th>\n",
       "                        <td id=\"T_5d329062_948b_11ea_8087_a4c3f07b763arow1_col0\" class=\"data row1 col0\" >0.790982</td>\n",
       "                        <td id=\"T_5d329062_948b_11ea_8087_a4c3f07b763arow1_col1\" class=\"data row1 col1\" >1</td>\n",
       "                        <td id=\"T_5d329062_948b_11ea_8087_a4c3f07b763arow1_col2\" class=\"data row1 col2\" >0.593007</td>\n",
       "                        <td id=\"T_5d329062_948b_11ea_8087_a4c3f07b763arow1_col3\" class=\"data row1 col3\" >0.600671</td>\n",
       "                        <td id=\"T_5d329062_948b_11ea_8087_a4c3f07b763arow1_col4\" class=\"data row1 col4\" >0.562022</td>\n",
       "                        <td id=\"T_5d329062_948b_11ea_8087_a4c3f07b763arow1_col5\" class=\"data row1 col5\" >0.537808</td>\n",
       "            </tr>\n",
       "            <tr>\n",
       "                        <th id=\"T_5d329062_948b_11ea_8087_a4c3f07b763alevel0_row2\" class=\"row_heading level0 row2\" >GrLivArea</th>\n",
       "                        <td id=\"T_5d329062_948b_11ea_8087_a4c3f07b763arow2_col0\" class=\"data row2 col0\" >0.708624</td>\n",
       "                        <td id=\"T_5d329062_948b_11ea_8087_a4c3f07b763arow2_col1\" class=\"data row2 col1\" >0.593007</td>\n",
       "                        <td id=\"T_5d329062_948b_11ea_8087_a4c3f07b763arow2_col2\" class=\"data row2 col2\" >1</td>\n",
       "                        <td id=\"T_5d329062_948b_11ea_8087_a4c3f07b763arow2_col3\" class=\"data row2 col3\" >0.467247</td>\n",
       "                        <td id=\"T_5d329062_948b_11ea_8087_a4c3f07b763arow2_col4\" class=\"data row2 col4\" >0.468997</td>\n",
       "                        <td id=\"T_5d329062_948b_11ea_8087_a4c3f07b763arow2_col5\" class=\"data row2 col5\" >0.454868</td>\n",
       "            </tr>\n",
       "            <tr>\n",
       "                        <th id=\"T_5d329062_948b_11ea_8087_a4c3f07b763alevel0_row3\" class=\"row_heading level0 row3\" >GarageCars</th>\n",
       "                        <td id=\"T_5d329062_948b_11ea_8087_a4c3f07b763arow3_col0\" class=\"data row3 col0\" >0.640409</td>\n",
       "                        <td id=\"T_5d329062_948b_11ea_8087_a4c3f07b763arow3_col1\" class=\"data row3 col1\" >0.600671</td>\n",
       "                        <td id=\"T_5d329062_948b_11ea_8087_a4c3f07b763arow3_col2\" class=\"data row3 col2\" >0.467247</td>\n",
       "                        <td id=\"T_5d329062_948b_11ea_8087_a4c3f07b763arow3_col3\" class=\"data row3 col3\" >1</td>\n",
       "                        <td id=\"T_5d329062_948b_11ea_8087_a4c3f07b763arow3_col4\" class=\"data row3 col4\" >0.882475</td>\n",
       "                        <td id=\"T_5d329062_948b_11ea_8087_a4c3f07b763arow3_col5\" class=\"data row3 col5\" >0.434585</td>\n",
       "            </tr>\n",
       "            <tr>\n",
       "                        <th id=\"T_5d329062_948b_11ea_8087_a4c3f07b763alevel0_row4\" class=\"row_heading level0 row4\" >GarageArea</th>\n",
       "                        <td id=\"T_5d329062_948b_11ea_8087_a4c3f07b763arow4_col0\" class=\"data row4 col0\" >0.623431</td>\n",
       "                        <td id=\"T_5d329062_948b_11ea_8087_a4c3f07b763arow4_col1\" class=\"data row4 col1\" >0.562022</td>\n",
       "                        <td id=\"T_5d329062_948b_11ea_8087_a4c3f07b763arow4_col2\" class=\"data row4 col2\" >0.468997</td>\n",
       "                        <td id=\"T_5d329062_948b_11ea_8087_a4c3f07b763arow4_col3\" class=\"data row4 col3\" >0.882475</td>\n",
       "                        <td id=\"T_5d329062_948b_11ea_8087_a4c3f07b763arow4_col4\" class=\"data row4 col4\" >1</td>\n",
       "                        <td id=\"T_5d329062_948b_11ea_8087_a4c3f07b763arow4_col5\" class=\"data row4 col5\" >0.486665</td>\n",
       "            </tr>\n",
       "            <tr>\n",
       "                        <th id=\"T_5d329062_948b_11ea_8087_a4c3f07b763alevel0_row5\" class=\"row_heading level0 row5\" >TotalBsmtSF</th>\n",
       "                        <td id=\"T_5d329062_948b_11ea_8087_a4c3f07b763arow5_col0\" class=\"data row5 col0\" >0.613581</td>\n",
       "                        <td id=\"T_5d329062_948b_11ea_8087_a4c3f07b763arow5_col1\" class=\"data row5 col1\" >0.537808</td>\n",
       "                        <td id=\"T_5d329062_948b_11ea_8087_a4c3f07b763arow5_col2\" class=\"data row5 col2\" >0.454868</td>\n",
       "                        <td id=\"T_5d329062_948b_11ea_8087_a4c3f07b763arow5_col3\" class=\"data row5 col3\" >0.434585</td>\n",
       "                        <td id=\"T_5d329062_948b_11ea_8087_a4c3f07b763arow5_col4\" class=\"data row5 col4\" >0.486665</td>\n",
       "                        <td id=\"T_5d329062_948b_11ea_8087_a4c3f07b763arow5_col5\" class=\"data row5 col5\" >1</td>\n",
       "            </tr>\n",
       "    </tbody></table>"
      ],
      "text/plain": [
       "<pandas.io.formats.style.Styler at 0x229017ffe48>"
      ]
     },
     "execution_count": 10,
     "metadata": {},
     "output_type": "execute_result"
    }
   ],
   "source": [
    "high_corr = corr[['SalePrice', 'OverallQual', 'GrLivArea', 'GarageCars', 'GarageArea', 'TotalBsmtSF']]\n",
    "high_corr = high_corr[high_corr.index.isin(['SalePrice', 'OverallQual', 'GrLivArea', 'GarageCars', 'GarageArea', 'TotalBsmtSF'])]\n",
    "high_corr.sort_values('SalePrice', ascending=False).style.background_gradient(cmap='RdBu_r')"
   ]
  },
  {
   "cell_type": "markdown",
   "metadata": {},
   "source": [
    "Inspecting the relationships further:"
   ]
  },
  {
   "cell_type": "code",
   "execution_count": 11,
   "metadata": {},
   "outputs": [
    {
     "data": {
      "text/plain": [
       "<seaborn.axisgrid.PairGrid at 0x229017c1da0>"
      ]
     },
     "execution_count": 11,
     "metadata": {},
     "output_type": "execute_result"
    },
    {
     "data": {
      "image/png": "[encoded data removed]",
      "text/plain": [
       "<Figure size 900x180 with 5 Axes>"
      ]
     },
     "metadata": {
      "needs_background": "light"
     },
     "output_type": "display_data"
    }
   ],
   "source": [
    "# top positively correlated variables\n",
    "sns.pairplot(numeric_features[['SalePrice', 'OverallQual', 'GrLivArea', 'GarageCars', 'GarageArea', 'TotalBsmtSF']], \n",
    "            y_vars=['SalePrice'],\n",
    "            x_vars=['OverallQual', 'GrLivArea', 'GarageCars', 'GarageArea', 'TotalBsmtSF'])"
   ]
  },
  {
   "cell_type": "code",
   "execution_count": 12,
   "metadata": {},
   "outputs": [
    {
     "data": {
      "text/plain": [
       "<seaborn.axisgrid.PairGrid at 0x22901985da0>"
      ]
     },
     "execution_count": 12,
     "metadata": {},
     "output_type": "execute_result"
    },
    {
     "data": {
      "image/png": "[encoded data removed]",
      "text/plain": [
       "<Figure size 900x180 with 5 Axes>"
      ]
     },
     "metadata": {
      "needs_background": "light"
     },
     "output_type": "display_data"
    }
   ],
   "source": [
    "# top negatively correlated variables\n",
    "sns.pairplot(numeric_features[['SalePrice', 'KitchenAbvGr', 'EnclosedPorch', 'MSSubClass', 'OverallCond', 'YrSold']],\n",
    "            y_vars= ['SalePrice'], \n",
    "            x_vars = ['KitchenAbvGr', 'EnclosedPorch', 'MSSubClass', 'OverallCond', 'YrSold'])"
   ]
  },
  {
   "cell_type": "markdown",
   "metadata": {},
   "source": [
    "Categorical Features"
   ]
  },
  {
   "cell_type": "code",
   "execution_count": 14,
   "metadata": {},
   "outputs": [
    {
     "data": {
      "text/html": [
       "<div>\n",
       "<style scoped>\n",
       "    .dataframe tbody tr th:only-of-type {\n",
       "        vertical-align: middle;\n",
       "    }\n",
       "\n",
       "    .dataframe tbody tr th {\n",
       "        vertical-align: top;\n",
       "    }\n",
       "\n",
       "    .dataframe thead th {\n",
       "        text-align: right;\n",
       "    }\n",
       "</style>\n",
       "<table border=\"1\" class=\"dataframe\">\n",
       "  <thead>\n",
       "    <tr style=\"text-align: right;\">\n",
       "      <th></th>\n",
       "      <th>MSZoning</th>\n",
       "      <th>Street</th>\n",
       "      <th>Alley</th>\n",
       "      <th>LotShape</th>\n",
       "      <th>LandContour</th>\n",
       "      <th>Utilities</th>\n",
       "      <th>LotConfig</th>\n",
       "      <th>LandSlope</th>\n",
       "      <th>Neighborhood</th>\n",
       "      <th>Condition1</th>\n",
       "      <th>...</th>\n",
       "      <th>GarageType</th>\n",
       "      <th>GarageFinish</th>\n",
       "      <th>GarageQual</th>\n",
       "      <th>GarageCond</th>\n",
       "      <th>PavedDrive</th>\n",
       "      <th>PoolQC</th>\n",
       "      <th>Fence</th>\n",
       "      <th>MiscFeature</th>\n",
       "      <th>SaleType</th>\n",
       "      <th>SaleCondition</th>\n",
       "    </tr>\n",
       "  </thead>\n",
       "  <tbody>\n",
       "    <tr>\n",
       "      <th>count</th>\n",
       "      <td>1460</td>\n",
       "      <td>1460</td>\n",
       "      <td>91</td>\n",
       "      <td>1460</td>\n",
       "      <td>1460</td>\n",
       "      <td>1460</td>\n",
       "      <td>1460</td>\n",
       "      <td>1460</td>\n",
       "      <td>1460</td>\n",
       "      <td>1460</td>\n",
       "      <td>...</td>\n",
       "      <td>1379</td>\n",
       "      <td>1379</td>\n",
       "      <td>1379</td>\n",
       "      <td>1379</td>\n",
       "      <td>1460</td>\n",
       "      <td>7</td>\n",
       "      <td>281</td>\n",
       "      <td>54</td>\n",
       "      <td>1460</td>\n",
       "      <td>1460</td>\n",
       "    </tr>\n",
       "    <tr>\n",
       "      <th>unique</th>\n",
       "      <td>5</td>\n",
       "      <td>2</td>\n",
       "      <td>2</td>\n",
       "      <td>4</td>\n",
       "      <td>4</td>\n",
       "      <td>2</td>\n",
       "      <td>5</td>\n",
       "      <td>3</td>\n",
       "      <td>25</td>\n",
       "      <td>9</td>\n",
       "      <td>...</td>\n",
       "      <td>6</td>\n",
       "      <td>3</td>\n",
       "      <td>5</td>\n",
       "      <td>5</td>\n",
       "      <td>3</td>\n",
       "      <td>3</td>\n",
       "      <td>4</td>\n",
       "      <td>4</td>\n",
       "      <td>9</td>\n",
       "      <td>6</td>\n",
       "    </tr>\n",
       "    <tr>\n",
       "      <th>top</th>\n",
       "      <td>RL</td>\n",
       "      <td>Pave</td>\n",
       "      <td>Grvl</td>\n",
       "      <td>Reg</td>\n",
       "      <td>Lvl</td>\n",
       "      <td>AllPub</td>\n",
       "      <td>Inside</td>\n",
       "      <td>Gtl</td>\n",
       "      <td>NAmes</td>\n",
       "      <td>Norm</td>\n",
       "      <td>...</td>\n",
       "      <td>Attchd</td>\n",
       "      <td>Unf</td>\n",
       "      <td>TA</td>\n",
       "      <td>TA</td>\n",
       "      <td>Y</td>\n",
       "      <td>Gd</td>\n",
       "      <td>MnPrv</td>\n",
       "      <td>Shed</td>\n",
       "      <td>WD</td>\n",
       "      <td>Normal</td>\n",
       "    </tr>\n",
       "    <tr>\n",
       "      <th>freq</th>\n",
       "      <td>1151</td>\n",
       "      <td>1454</td>\n",
       "      <td>50</td>\n",
       "      <td>925</td>\n",
       "      <td>1311</td>\n",
       "      <td>1459</td>\n",
       "      <td>1052</td>\n",
       "      <td>1382</td>\n",
       "      <td>225</td>\n",
       "      <td>1260</td>\n",
       "      <td>...</td>\n",
       "      <td>870</td>\n",
       "      <td>605</td>\n",
       "      <td>1311</td>\n",
       "      <td>1326</td>\n",
       "      <td>1340</td>\n",
       "      <td>3</td>\n",
       "      <td>157</td>\n",
       "      <td>49</td>\n",
       "      <td>1267</td>\n",
       "      <td>1198</td>\n",
       "    </tr>\n",
       "  </tbody>\n",
       "</table>\n",
       "<p>4 rows × 43 columns</p>\n",
       "</div>"
      ],
      "text/plain": [
       "       MSZoning Street Alley LotShape LandContour Utilities LotConfig  \\\n",
       "count      1460   1460    91     1460        1460      1460      1460   \n",
       "unique        5      2     2        4           4         2         5   \n",
       "top          RL   Pave  Grvl      Reg         Lvl    AllPub    Inside   \n",
       "freq       1151   1454    50      925        1311      1459      1052   \n",
       "\n",
       "       LandSlope Neighborhood Condition1  ... GarageType GarageFinish  \\\n",
       "count       1460         1460       1460  ...       1379         1379   \n",
       "unique         3           25          9  ...          6            3   \n",
       "top          Gtl        NAmes       Norm  ...     Attchd          Unf   \n",
       "freq        1382          225       1260  ...        870          605   \n",
       "\n",
       "       GarageQual GarageCond PavedDrive PoolQC  Fence MiscFeature SaleType  \\\n",
       "count        1379       1379       1460      7    281          54     1460   \n",
       "unique          5          5          3      3      4           4        9   \n",
       "top            TA         TA          Y     Gd  MnPrv        Shed       WD   \n",
       "freq         1311       1326       1340      3    157          49     1267   \n",
       "\n",
       "       SaleCondition  \n",
       "count           1460  \n",
       "unique             6  \n",
       "top           Normal  \n",
       "freq            1198  \n",
       "\n",
       "[4 rows x 43 columns]"
      ]
     },
     "execution_count": 14,
     "metadata": {},
     "output_type": "execute_result"
    }
   ],
   "source": [
    "categoricals = train.select_dtypes(exclude=[np.number])\n",
    "categoricals.describe()"
   ]
  },
  {
   "cell_type": "code",
   "execution_count": 15,
   "metadata": {},
   "outputs": [
    {
     "data": {
      "image/png": "[encoded data removed]",
      "text/plain": [
       "<Figure size 432x288 with 1 Axes>"
      ]
     },
     "metadata": {
      "needs_background": "light"
     },
     "output_type": "display_data"
    }
   ],
   "source": [
    "pivot = train.pivot_table(index='ExterQual', values='SalePrice', aggfunc=np.median)\n",
    "pivot = pivot.sort_values('SalePrice')\n",
    "pivot.plot(kind='bar', color='tab:olive')\n",
    "plt.xlabel('Exterior Quality')\n",
    "plt.ylabel('Median Sale Price')\n",
    "#plt.xticks(rotation=0)\n",
    "plt.show()"
   ]
  },
  {
   "cell_type": "code",
   "execution_count": 16,
   "metadata": {},
   "outputs": [
    {
     "data": {
      "image/png": "[encoded data removed]",
      "text/plain": [
       "<Figure size 432x288 with 1 Axes>"
      ]
     },
     "metadata": {
      "needs_background": "light"
     },
     "output_type": "display_data"
    }
   ],
   "source": [
    "pivot = train.pivot_table(index='KitchenQual', values='SalePrice', aggfunc=np.median)\n",
    "pivot = pivot.sort_values('SalePrice')\n",
    "pivot.plot(kind='bar', color='tab:cyan')\n",
    "plt.xlabel('Kitchen Quality')\n",
    "plt.ylabel('Median Sale Price')\n",
    "#plt.xticks(rotation=0)\n",
    "plt.show()"
   ]
  },
  {
   "cell_type": "markdown",
   "metadata": {},
   "source": [
    "# Data Processing<a class=\"anchor\" id=\"second-section\"></a>\n",
    "Handle missingness and dummify categorical variables"
   ]
  },
  {
   "cell_type": "markdown",
   "metadata": {},
   "source": [
    "### Outliers"
   ]
  },
  {
   "cell_type": "code",
   "execution_count": 17,
   "metadata": {},
   "outputs": [
    {
     "data": {
      "text/plain": [
       "Text(0, 0.5, 'Sale Price')"
      ]
     },
     "execution_count": 17,
     "metadata": {},
     "output_type": "execute_result"
    },
    {
     "data": {
      "image/png": "[encoded data removed]",
      "text/plain": [
       "<Figure size 432x288 with 1 Axes>"
      ]
     },
     "metadata": {
      "needs_background": "light"
     },
     "output_type": "display_data"
    }
   ],
   "source": [
    "plt.scatter(train.GrLivArea, train.SalePrice, color='tab:purple', marker='s')\n",
    "plt.title('Clean data without outliers')\n",
    "plt.xlabel('Living Area')\n",
    "plt.ylabel('Sale Price')"
   ]
  },
  {
   "cell_type": "code",
   "execution_count": 18,
   "metadata": {},
   "outputs": [
    {
     "data": {
      "text/plain": [
       "Text(0, 0.5, 'Sale Price')"
      ]
     },
     "execution_count": 18,
     "metadata": {},
     "output_type": "execute_result"
    },
    {
     "data": {
      "image/png": "[encoded data removed]",
      "text/plain": [
       "<Figure size 432x288 with 1 Axes>"
      ]
     },
     "metadata": {
      "needs_background": "light"
     },
     "output_type": "display_data"
    }
   ],
   "source": [
    "train = train[(train.GrLivArea<4000) & (train.SalePrice<700000)]\n",
    "plt.scatter(train.GrLivArea, train.SalePrice, color='tab:purple', marker='s')\n",
    "plt.title('Clean data without outliers')\n",
    "plt.xlabel('Living Area')\n",
    "plt.ylabel('Sale Price')"
   ]
  },
  {
   "cell_type": "markdown",
   "metadata": {},
   "source": [
    "Take the log of skewed variables and drop variables with little to no variance:"
   ]
  },
  {
   "cell_type": "code",
   "execution_count": 19,
   "metadata": {},
   "outputs": [
    {
     "name": "stderr",
     "output_type": "stream",
     "text": [
      "C:\\Users\\bdbot\\Anaconda3\\lib\\site-packages\\ipykernel_launcher.py:7: RuntimeWarning: divide by zero encountered in log\n",
      "  import sys\n"
     ]
    }
   ],
   "source": [
    "from numpy import isneginf\n",
    "\n",
    "low_variance = ['Street', 'Utilities', 'Heating', 'PoolArea','3SsnPorch', 'PoolQC', 'MiscFeature', 'RoofMatl', 'MiscVal',\n",
    "               'BsmtHalfBath', 'Alley', 'Electrical', 'Fence', 'KitchenAbvGr', 'LowQualFinSF', 'Condition2']\n",
    "train = train.drop(low_variance, axis=1)\n",
    "for v in skewed:\n",
    "    mask = np.log(train[v])\n",
    "    mask[isneginf(mask)]=0\n",
    "    train[v] = mask"
   ]
  },
  {
   "cell_type": "markdown",
   "metadata": {},
   "source": [
    "### Missingness"
   ]
  },
  {
   "cell_type": "code",
   "execution_count": 20,
   "metadata": {},
   "outputs": [
    {
     "data": {
      "text/html": [
       "<div>\n",
       "<style scoped>\n",
       "    .dataframe tbody tr th:only-of-type {\n",
       "        vertical-align: middle;\n",
       "    }\n",
       "\n",
       "    .dataframe tbody tr th {\n",
       "        vertical-align: top;\n",
       "    }\n",
       "\n",
       "    .dataframe thead th {\n",
       "        text-align: right;\n",
       "    }\n",
       "</style>\n",
       "<table border=\"1\" class=\"dataframe\">\n",
       "  <thead>\n",
       "    <tr style=\"text-align: right;\">\n",
       "      <th></th>\n",
       "      <th>Null Count</th>\n",
       "    </tr>\n",
       "    <tr>\n",
       "      <th>Feature</th>\n",
       "      <th></th>\n",
       "    </tr>\n",
       "  </thead>\n",
       "  <tbody>\n",
       "    <tr>\n",
       "      <th>FireplaceQu</th>\n",
       "      <td>690</td>\n",
       "    </tr>\n",
       "    <tr>\n",
       "      <th>LotFrontage</th>\n",
       "      <td>259</td>\n",
       "    </tr>\n",
       "    <tr>\n",
       "      <th>GarageCond</th>\n",
       "      <td>81</td>\n",
       "    </tr>\n",
       "    <tr>\n",
       "      <th>GarageQual</th>\n",
       "      <td>81</td>\n",
       "    </tr>\n",
       "    <tr>\n",
       "      <th>GarageFinish</th>\n",
       "      <td>81</td>\n",
       "    </tr>\n",
       "    <tr>\n",
       "      <th>GarageYrBlt</th>\n",
       "      <td>81</td>\n",
       "    </tr>\n",
       "    <tr>\n",
       "      <th>GarageType</th>\n",
       "      <td>81</td>\n",
       "    </tr>\n",
       "    <tr>\n",
       "      <th>BsmtFinType2</th>\n",
       "      <td>38</td>\n",
       "    </tr>\n",
       "    <tr>\n",
       "      <th>BsmtExposure</th>\n",
       "      <td>38</td>\n",
       "    </tr>\n",
       "    <tr>\n",
       "      <th>BsmtFinType1</th>\n",
       "      <td>37</td>\n",
       "    </tr>\n",
       "    <tr>\n",
       "      <th>BsmtCond</th>\n",
       "      <td>37</td>\n",
       "    </tr>\n",
       "    <tr>\n",
       "      <th>BsmtQual</th>\n",
       "      <td>37</td>\n",
       "    </tr>\n",
       "    <tr>\n",
       "      <th>MasVnrArea</th>\n",
       "      <td>8</td>\n",
       "    </tr>\n",
       "    <tr>\n",
       "      <th>MasVnrType</th>\n",
       "      <td>8</td>\n",
       "    </tr>\n",
       "  </tbody>\n",
       "</table>\n",
       "</div>"
      ],
      "text/plain": [
       "              Null Count\n",
       "Feature                 \n",
       "FireplaceQu          690\n",
       "LotFrontage          259\n",
       "GarageCond            81\n",
       "GarageQual            81\n",
       "GarageFinish          81\n",
       "GarageYrBlt           81\n",
       "GarageType            81\n",
       "BsmtFinType2          38\n",
       "BsmtExposure          38\n",
       "BsmtFinType1          37\n",
       "BsmtCond              37\n",
       "BsmtQual              37\n",
       "MasVnrArea             8\n",
       "MasVnrType             8"
      ]
     },
     "execution_count": 20,
     "metadata": {},
     "output_type": "execute_result"
    }
   ],
   "source": [
    "missingCols = train.isnull().any(axis=0)\n",
    "nulls = pd.DataFrame(train[train.columns[missingCols]].isnull().sum().sort_values(ascending=False))\n",
    "nulls.columns = ['Null Count']\n",
    "nulls.index.name = 'Feature'\n",
    "nulls"
   ]
  },
  {
   "cell_type": "markdown",
   "metadata": {},
   "source": [
    "Continuous Variables:\n",
    "Can impute mean or 0. Using mean for now, and 0 for the variable where 0 makes sense"
   ]
  },
  {
   "cell_type": "code",
   "execution_count": 21,
   "metadata": {},
   "outputs": [
    {
     "data": {
      "text/plain": [
       "Index(['LotFrontage', 'MasVnrArea', 'GarageYrBlt'], dtype='object')"
      ]
     },
     "execution_count": 21,
     "metadata": {},
     "output_type": "execute_result"
    }
   ],
   "source": [
    "numeric_features = train.select_dtypes(include=[np.number])\n",
    "numeric_features.columns[numeric_features.isnull().any(axis=0)]"
   ]
  },
  {
   "cell_type": "code",
   "execution_count": 22,
   "metadata": {},
   "outputs": [],
   "source": [
    "from sklearn.impute import KNNImputer\n",
    "imputer = KNNImputer(n_neighbors=2, weights='distance')\n",
    "numeric_features = pd.DataFrame(data=imputer.fit_transform(numeric_features), columns=numeric_features.columns, index=numeric_features.index)\n",
    "#train['LotFrontage'] = train['LotFrontage'].fillna(train['LotFrontage'].mean()) # unclear why NA \n",
    "#train['GarageYrBlt'] = train['GarageYrBlt'].fillna(train['GarageYrBlt'].mean()) # better than other options\n",
    "#train['MasVnrArea'] = train['MasVnrArea'].fillna(0) # NA is from no masonry veneer area"
   ]
  },
  {
   "cell_type": "markdown",
   "metadata": {},
   "source": [
    "Categorical Variables:\n",
    "Data description confirms that NAs here means the feature doesn't exist at the house. Since these are categorical, making the lack of feature a category is natural. One row seems to be missing completely at random from the 'Electrical' column, so I am dropping that row."
   ]
  },
  {
   "cell_type": "code",
   "execution_count": 23,
   "metadata": {},
   "outputs": [],
   "source": [
    "#train['PoolQC'] = train['PoolQC'].fillna('No Pool')\n",
    "#train['MiscFeature'] = train['MiscFeature'].fillna('None')\n",
    "#train['Alley'] = train['Alley'].fillna('No alley access')\n",
    "#train['Fence'] = train['Fence'].fillna('No Fence')\n",
    "train['FireplaceQu'] = train['FireplaceQu'].fillna('No Fireplace')\n",
    "train['GarageCond'] = train['GarageCond'].fillna('No Garage')\n",
    "train['GarageQual'] = train['GarageQual'].fillna('No Garage')\n",
    "train['GarageFinish'] = train['GarageFinish'].fillna('No Garage')\n",
    "train['GarageType'] = train['GarageType'].fillna('No Garage')\n",
    "train['BsmtFinType2'] = train['BsmtFinType2'].fillna('No Basement')\n",
    "train['BsmtExposure'] = train['BsmtExposure'].fillna('No Basement')\n",
    "train['BsmtFinType1'] = train['BsmtFinType1'].fillna('No Basement')\n",
    "train['BsmtCond'] = train['BsmtCond'].fillna('No Basement')\n",
    "train['BsmtQual'] = train['BsmtQual'].fillna('No Basement')\n",
    "train['MasVnrType'] = train['MasVnrType'].fillna('None')\n",
    "categoricals = train.select_dtypes(exclude=[np.number])"
   ]
  },
  {
   "cell_type": "markdown",
   "metadata": {},
   "source": [
    "### Dummify Categorical Variables"
   ]
  },
  {
   "cell_type": "code",
   "execution_count": 24,
   "metadata": {},
   "outputs": [],
   "source": [
    "# Features for LR use only:\n",
    "dummified_features = pd.concat([numeric_features, categoricals], axis = 1)\n",
    "dummified_features = dummified_features[train.columns].drop('SalePrice', axis =1)\n",
    "# Binary Categorical Variables can be changed to 0 or 1:\n",
    "#dummified_features['Street'] = dummified_features['Street'].apply(lambda x: 0 if x == 'Pave' else 1)\n",
    "#dummified_features['Utilities'] = dummified_features['Utilities'].apply(lambda x: 0 if x == 'AllPub' else 1)\n",
    "dummified_features['CentralAir'] = dummified_features['CentralAir'].apply(lambda x: 0 if x == 'N' else 1)\n",
    "\n",
    "# MSSubClass refers to categories, but is currently an integer type. Changing to string type, since the distance \n",
    "# between categories doesn't mean anything.\n",
    "dummified_features['MSSubClass'] = dummified_features['MSSubClass'].astype(str)"
   ]
  },
  {
   "cell_type": "code",
   "execution_count": 25,
   "metadata": {},
   "outputs": [
    {
     "data": {
      "text/plain": [
       "Index(['MSSubClass', 'MSZoning', 'LotShape', 'LandContour', 'LotConfig',\n",
       "       'LandSlope', 'Neighborhood', 'Condition1', 'BldgType', 'HouseStyle',\n",
       "       'RoofStyle', 'Exterior1st', 'Exterior2nd', 'MasVnrType', 'ExterQual',\n",
       "       'ExterCond', 'Foundation', 'BsmtQual', 'BsmtCond', 'BsmtExposure',\n",
       "       'BsmtFinType1', 'BsmtFinType2', 'HeatingQC', 'KitchenQual',\n",
       "       'Functional', 'FireplaceQu', 'GarageType', 'GarageFinish', 'GarageQual',\n",
       "       'GarageCond', 'PavedDrive', 'SaleType', 'SaleCondition'],\n",
       "      dtype='object')"
      ]
     },
     "execution_count": 25,
     "metadata": {},
     "output_type": "execute_result"
    }
   ],
   "source": [
    "categoricals = dummified_features.select_dtypes(exclude=[np.number])\n",
    "categoricals.columns"
   ]
  },
  {
   "cell_type": "code",
   "execution_count": 26,
   "metadata": {},
   "outputs": [
    {
     "name": "stdout",
     "output_type": "stream",
     "text": [
      "(1456, 63)\n",
      "(1456, 228)\n"
     ]
    }
   ],
   "source": [
    "print(dummified_features.shape)\n",
    "for variable in categoricals.columns:\n",
    "    dummy = pd.get_dummies(dummified_features[variable], prefix=variable)\n",
    "    dummy.drop('_'.join([variable, dummified_features[variable][1]]), axis=1, inplace=True) # \n",
    "    dummified_features = dummified_features.drop(variable, axis=1)  # drop the original feature\n",
    "    dummified_features = pd.concat([dummified_features, dummy], axis=1) # concat original df and dummy horizontally\n",
    "print(dummified_features.shape)"
   ]
  },
  {
   "cell_type": "code",
   "execution_count": 27,
   "metadata": {},
   "outputs": [
    {
     "name": "stdout",
     "output_type": "stream",
     "text": [
      "Index(['LotFrontage', 'LotArea', 'OverallQual', 'OverallCond', 'YearBuilt',\n",
      "       'YearRemodAdd', 'MasVnrArea', 'BsmtFinSF1', 'BsmtFinSF2', 'BsmtUnfSF',\n",
      "       ...\n",
      "       'SaleType_ConLD', 'SaleType_ConLI', 'SaleType_ConLw', 'SaleType_New',\n",
      "       'SaleType_Oth', 'SaleCondition_Abnorml', 'SaleCondition_AdjLand',\n",
      "       'SaleCondition_Alloca', 'SaleCondition_Family',\n",
      "       'SaleCondition_Partial'],\n",
      "      dtype='object', length=228)\n"
     ]
    }
   ],
   "source": [
    "print(dummified_features.columns)"
   ]
  },
  {
   "cell_type": "markdown",
   "metadata": {},
   "source": [
    "### Standarize"
   ]
  },
  {
   "cell_type": "code",
   "execution_count": 29,
   "metadata": {},
   "outputs": [],
   "source": [
    "from sklearn.preprocessing import StandardScaler\n",
    "\n",
    "scaler = StandardScaler().fit(dummified_features)\n",
    "\n",
    "dummified_features =pd.DataFrame(data=scaler.transform(dummified_features), columns=dummified_features.columns, index=dummified_features.index)"
   ]
  },
  {
   "cell_type": "code",
   "execution_count": 39,
   "metadata": {},
   "outputs": [
    {
     "data": {
      "text/html": [
       "<div>\n",
       "<style scoped>\n",
       "    .dataframe tbody tr th:only-of-type {\n",
       "        vertical-align: middle;\n",
       "    }\n",
       "\n",
       "    .dataframe tbody tr th {\n",
       "        vertical-align: top;\n",
       "    }\n",
       "\n",
       "    .dataframe thead th {\n",
       "        text-align: right;\n",
       "    }\n",
       "</style>\n",
       "<table border=\"1\" class=\"dataframe\">\n",
       "  <thead>\n",
       "    <tr style=\"text-align: right;\">\n",
       "      <th></th>\n",
       "      <th>LotFrontage</th>\n",
       "      <th>LotArea</th>\n",
       "      <th>OverallQual</th>\n",
       "      <th>OverallCond</th>\n",
       "      <th>YearBuilt</th>\n",
       "      <th>YearRemodAdd</th>\n",
       "      <th>MasVnrArea</th>\n",
       "      <th>BsmtFinSF1</th>\n",
       "      <th>BsmtFinSF2</th>\n",
       "      <th>BsmtUnfSF</th>\n",
       "      <th>...</th>\n",
       "      <th>SaleType_ConLD</th>\n",
       "      <th>SaleType_ConLI</th>\n",
       "      <th>SaleType_ConLw</th>\n",
       "      <th>SaleType_New</th>\n",
       "      <th>SaleType_Oth</th>\n",
       "      <th>SaleCondition_Abnorml</th>\n",
       "      <th>SaleCondition_AdjLand</th>\n",
       "      <th>SaleCondition_Alloca</th>\n",
       "      <th>SaleCondition_Family</th>\n",
       "      <th>SaleCondition_Partial</th>\n",
       "    </tr>\n",
       "  </thead>\n",
       "  <tbody>\n",
       "    <tr>\n",
       "      <th>count</th>\n",
       "      <td>1.456000e+03</td>\n",
       "      <td>1.456000e+03</td>\n",
       "      <td>1.456000e+03</td>\n",
       "      <td>1.456000e+03</td>\n",
       "      <td>1.456000e+03</td>\n",
       "      <td>1.456000e+03</td>\n",
       "      <td>1.456000e+03</td>\n",
       "      <td>1.456000e+03</td>\n",
       "      <td>1.456000e+03</td>\n",
       "      <td>1.456000e+03</td>\n",
       "      <td>...</td>\n",
       "      <td>1.456000e+03</td>\n",
       "      <td>1.456000e+03</td>\n",
       "      <td>1.456000e+03</td>\n",
       "      <td>1.456000e+03</td>\n",
       "      <td>1.456000e+03</td>\n",
       "      <td>1.456000e+03</td>\n",
       "      <td>1.456000e+03</td>\n",
       "      <td>1.456000e+03</td>\n",
       "      <td>1.456000e+03</td>\n",
       "      <td>1.456000e+03</td>\n",
       "    </tr>\n",
       "    <tr>\n",
       "      <th>mean</th>\n",
       "      <td>6.847392e-17</td>\n",
       "      <td>7.157164e-17</td>\n",
       "      <td>-1.633309e-16</td>\n",
       "      <td>7.434529e-17</td>\n",
       "      <td>-9.782887e-16</td>\n",
       "      <td>4.852269e-15</td>\n",
       "      <td>-2.960086e-16</td>\n",
       "      <td>2.874685e-17</td>\n",
       "      <td>-5.718869e-17</td>\n",
       "      <td>9.527635e-17</td>\n",
       "      <td>...</td>\n",
       "      <td>1.464030e-17</td>\n",
       "      <td>-7.027060e-16</td>\n",
       "      <td>-9.199753e-17</td>\n",
       "      <td>1.852913e-17</td>\n",
       "      <td>-2.054218e-16</td>\n",
       "      <td>-9.150190e-18</td>\n",
       "      <td>2.479797e-16</td>\n",
       "      <td>-6.891237e-17</td>\n",
       "      <td>-4.403529e-18</td>\n",
       "      <td>-1.002708e-16</td>\n",
       "    </tr>\n",
       "    <tr>\n",
       "      <th>std</th>\n",
       "      <td>1.000344e+00</td>\n",
       "      <td>1.000344e+00</td>\n",
       "      <td>1.000344e+00</td>\n",
       "      <td>1.000344e+00</td>\n",
       "      <td>1.000344e+00</td>\n",
       "      <td>1.000344e+00</td>\n",
       "      <td>1.000344e+00</td>\n",
       "      <td>1.000344e+00</td>\n",
       "      <td>1.000344e+00</td>\n",
       "      <td>1.000344e+00</td>\n",
       "      <td>...</td>\n",
       "      <td>1.000344e+00</td>\n",
       "      <td>1.000344e+00</td>\n",
       "      <td>1.000344e+00</td>\n",
       "      <td>1.000344e+00</td>\n",
       "      <td>1.000344e+00</td>\n",
       "      <td>1.000344e+00</td>\n",
       "      <td>1.000344e+00</td>\n",
       "      <td>1.000344e+00</td>\n",
       "      <td>1.000344e+00</td>\n",
       "      <td>1.000344e+00</td>\n",
       "    </tr>\n",
       "    <tr>\n",
       "      <th>min</th>\n",
       "      <td>-2.123086e+00</td>\n",
       "      <td>-9.281155e-01</td>\n",
       "      <td>-3.716479e+00</td>\n",
       "      <td>-4.109470e+00</td>\n",
       "      <td>-3.285242e+00</td>\n",
       "      <td>-1.686572e+00</td>\n",
       "      <td>-5.776420e-01</td>\n",
       "      <td>-1.410823e+00</td>\n",
       "      <td>-2.890821e-01</td>\n",
       "      <td>-3.040477e+00</td>\n",
       "      <td>...</td>\n",
       "      <td>-7.886549e-02</td>\n",
       "      <td>-5.870178e-02</td>\n",
       "      <td>-5.870178e-02</td>\n",
       "      <td>-2.997004e-01</td>\n",
       "      <td>-4.543890e-02</td>\n",
       "      <td>-2.715627e-01</td>\n",
       "      <td>-5.248639e-02</td>\n",
       "      <td>-9.116057e-02</td>\n",
       "      <td>-1.180152e-01</td>\n",
       "      <td>-3.037648e-01</td>\n",
       "    </tr>\n",
       "    <tr>\n",
       "      <th>25%</th>\n",
       "      <td>-4.417509e-01</td>\n",
       "      <td>-2.952139e-01</td>\n",
       "      <td>-7.950627e-01</td>\n",
       "      <td>-5.174614e-01</td>\n",
       "      <td>-5.692198e-01</td>\n",
       "      <td>-8.752398e-01</td>\n",
       "      <td>-5.776420e-01</td>\n",
       "      <td>-1.410823e+00</td>\n",
       "      <td>-2.890821e-01</td>\n",
       "      <td>-1.284536e-01</td>\n",
       "      <td>...</td>\n",
       "      <td>-7.886549e-02</td>\n",
       "      <td>-5.870178e-02</td>\n",
       "      <td>-5.870178e-02</td>\n",
       "      <td>-2.997004e-01</td>\n",
       "      <td>-4.543890e-02</td>\n",
       "      <td>-2.715627e-01</td>\n",
       "      <td>-5.248639e-02</td>\n",
       "      <td>-9.116057e-02</td>\n",
       "      <td>-1.180152e-01</td>\n",
       "      <td>-3.037648e-01</td>\n",
       "    </tr>\n",
       "    <tr>\n",
       "      <th>50%</th>\n",
       "      <td>-4.312209e-02</td>\n",
       "      <td>-9.944678e-02</td>\n",
       "      <td>-6.470858e-02</td>\n",
       "      <td>-5.174614e-01</td>\n",
       "      <td>2.698005e-02</td>\n",
       "      <td>4.204704e-01</td>\n",
       "      <td>-5.776420e-01</td>\n",
       "      <td>5.773854e-01</td>\n",
       "      <td>-2.890821e-01</td>\n",
       "      <td>2.829747e-01</td>\n",
       "      <td>...</td>\n",
       "      <td>-7.886549e-02</td>\n",
       "      <td>-5.870178e-02</td>\n",
       "      <td>-5.870178e-02</td>\n",
       "      <td>-2.997004e-01</td>\n",
       "      <td>-4.543890e-02</td>\n",
       "      <td>-2.715627e-01</td>\n",
       "      <td>-5.248639e-02</td>\n",
       "      <td>-9.116057e-02</td>\n",
       "      <td>-1.180152e-01</td>\n",
       "      <td>-3.037648e-01</td>\n",
       "    </tr>\n",
       "    <tr>\n",
       "      <th>75%</th>\n",
       "      <td>4.274874e-01</td>\n",
       "      <td>1.155699e-01</td>\n",
       "      <td>6.656456e-01</td>\n",
       "      <td>3.805408e-01</td>\n",
       "      <td>9.544021e-01</td>\n",
       "      <td>9.290669e-01</td>\n",
       "      <td>3.529798e-01</td>\n",
       "      <td>7.839824e-01</td>\n",
       "      <td>-2.890821e-01</td>\n",
       "      <td>5.663707e-01</td>\n",
       "      <td>...</td>\n",
       "      <td>-7.886549e-02</td>\n",
       "      <td>-5.870178e-02</td>\n",
       "      <td>-5.870178e-02</td>\n",
       "      <td>-2.997004e-01</td>\n",
       "      <td>-4.543890e-02</td>\n",
       "      <td>-2.715627e-01</td>\n",
       "      <td>-5.248639e-02</td>\n",
       "      <td>-9.116057e-02</td>\n",
       "      <td>-1.180152e-01</td>\n",
       "      <td>-3.037648e-01</td>\n",
       "    </tr>\n",
       "    <tr>\n",
       "      <th>max</th>\n",
       "      <td>1.050009e+01</td>\n",
       "      <td>2.077593e+01</td>\n",
       "      <td>2.856708e+00</td>\n",
       "      <td>3.074547e+00</td>\n",
       "      <td>1.285624e+00</td>\n",
       "      <td>1.219693e+00</td>\n",
       "      <td>8.432918e+00</td>\n",
       "      <td>1.162173e+00</td>\n",
       "      <td>8.839724e+00</td>\n",
       "      <td>1.138350e+00</td>\n",
       "      <td>...</td>\n",
       "      <td>1.267982e+01</td>\n",
       "      <td>1.703526e+01</td>\n",
       "      <td>1.703526e+01</td>\n",
       "      <td>3.336665e+00</td>\n",
       "      <td>2.200757e+01</td>\n",
       "      <td>3.682391e+00</td>\n",
       "      <td>1.905256e+01</td>\n",
       "      <td>1.096966e+01</td>\n",
       "      <td>8.473488e+00</td>\n",
       "      <td>3.292020e+00</td>\n",
       "    </tr>\n",
       "  </tbody>\n",
       "</table>\n",
       "<p>8 rows × 228 columns</p>\n",
       "</div>"
      ],
      "text/plain": [
       "        LotFrontage       LotArea   OverallQual   OverallCond     YearBuilt  \\\n",
       "count  1.456000e+03  1.456000e+03  1.456000e+03  1.456000e+03  1.456000e+03   \n",
       "mean   6.847392e-17  7.157164e-17 -1.633309e-16  7.434529e-17 -9.782887e-16   \n",
       "std    1.000344e+00  1.000344e+00  1.000344e+00  1.000344e+00  1.000344e+00   \n",
       "min   -2.123086e+00 -9.281155e-01 -3.716479e+00 -4.109470e+00 -3.285242e+00   \n",
       "25%   -4.417509e-01 -2.952139e-01 -7.950627e-01 -5.174614e-01 -5.692198e-01   \n",
       "50%   -4.312209e-02 -9.944678e-02 -6.470858e-02 -5.174614e-01  2.698005e-02   \n",
       "75%    4.274874e-01  1.155699e-01  6.656456e-01  3.805408e-01  9.544021e-01   \n",
       "max    1.050009e+01  2.077593e+01  2.856708e+00  3.074547e+00  1.285624e+00   \n",
       "\n",
       "       YearRemodAdd    MasVnrArea    BsmtFinSF1    BsmtFinSF2     BsmtUnfSF  \\\n",
       "count  1.456000e+03  1.456000e+03  1.456000e+03  1.456000e+03  1.456000e+03   \n",
       "mean   4.852269e-15 -2.960086e-16  2.874685e-17 -5.718869e-17  9.527635e-17   \n",
       "std    1.000344e+00  1.000344e+00  1.000344e+00  1.000344e+00  1.000344e+00   \n",
       "min   -1.686572e+00 -5.776420e-01 -1.410823e+00 -2.890821e-01 -3.040477e+00   \n",
       "25%   -8.752398e-01 -5.776420e-01 -1.410823e+00 -2.890821e-01 -1.284536e-01   \n",
       "50%    4.204704e-01 -5.776420e-01  5.773854e-01 -2.890821e-01  2.829747e-01   \n",
       "75%    9.290669e-01  3.529798e-01  7.839824e-01 -2.890821e-01  5.663707e-01   \n",
       "max    1.219693e+00  8.432918e+00  1.162173e+00  8.839724e+00  1.138350e+00   \n",
       "\n",
       "       ...  SaleType_ConLD  SaleType_ConLI  SaleType_ConLw  SaleType_New  \\\n",
       "count  ...    1.456000e+03    1.456000e+03    1.456000e+03  1.456000e+03   \n",
       "mean   ...    1.464030e-17   -7.027060e-16   -9.199753e-17  1.852913e-17   \n",
       "std    ...    1.000344e+00    1.000344e+00    1.000344e+00  1.000344e+00   \n",
       "min    ...   -7.886549e-02   -5.870178e-02   -5.870178e-02 -2.997004e-01   \n",
       "25%    ...   -7.886549e-02   -5.870178e-02   -5.870178e-02 -2.997004e-01   \n",
       "50%    ...   -7.886549e-02   -5.870178e-02   -5.870178e-02 -2.997004e-01   \n",
       "75%    ...   -7.886549e-02   -5.870178e-02   -5.870178e-02 -2.997004e-01   \n",
       "max    ...    1.267982e+01    1.703526e+01    1.703526e+01  3.336665e+00   \n",
       "\n",
       "       SaleType_Oth  SaleCondition_Abnorml  SaleCondition_AdjLand  \\\n",
       "count  1.456000e+03           1.456000e+03           1.456000e+03   \n",
       "mean  -2.054218e-16          -9.150190e-18           2.479797e-16   \n",
       "std    1.000344e+00           1.000344e+00           1.000344e+00   \n",
       "min   -4.543890e-02          -2.715627e-01          -5.248639e-02   \n",
       "25%   -4.543890e-02          -2.715627e-01          -5.248639e-02   \n",
       "50%   -4.543890e-02          -2.715627e-01          -5.248639e-02   \n",
       "75%   -4.543890e-02          -2.715627e-01          -5.248639e-02   \n",
       "max    2.200757e+01           3.682391e+00           1.905256e+01   \n",
       "\n",
       "       SaleCondition_Alloca  SaleCondition_Family  SaleCondition_Partial  \n",
       "count          1.456000e+03          1.456000e+03           1.456000e+03  \n",
       "mean          -6.891237e-17         -4.403529e-18          -1.002708e-16  \n",
       "std            1.000344e+00          1.000344e+00           1.000344e+00  \n",
       "min           -9.116057e-02         -1.180152e-01          -3.037648e-01  \n",
       "25%           -9.116057e-02         -1.180152e-01          -3.037648e-01  \n",
       "50%           -9.116057e-02         -1.180152e-01          -3.037648e-01  \n",
       "75%           -9.116057e-02         -1.180152e-01          -3.037648e-01  \n",
       "max            1.096966e+01          8.473488e+00           3.292020e+00  \n",
       "\n",
       "[8 rows x 228 columns]"
      ]
     },
     "execution_count": 39,
     "metadata": {},
     "output_type": "execute_result"
    }
   ],
   "source": [
    "dummified_features.describe()"
   ]
  },
  {
   "cell_type": "markdown",
   "metadata": {},
   "source": [
    "# Process Test Data: <a class=\"anchor\" id=\"third-section\"></a>"
   ]
  },
  {
   "cell_type": "code",
   "execution_count": 28,
   "metadata": {},
   "outputs": [
    {
     "name": "stderr",
     "output_type": "stream",
     "text": [
      "C:\\Users\\bdbot\\Anaconda3\\lib\\site-packages\\ipykernel_launcher.py:4: RuntimeWarning: divide by zero encountered in log\n",
      "  after removing the cwd from sys.path.\n"
     ]
    }
   ],
   "source": [
    "test = test.drop(low_variance, axis=1)\n",
    "\n",
    "for v in skewed:\n",
    "    mask = np.log(test[v])\n",
    "    mask[isneginf(mask)]=0\n",
    "    test[v] = mask"
   ]
  },
  {
   "cell_type": "markdown",
   "metadata": {},
   "source": [
    "### Missingness"
   ]
  },
  {
   "cell_type": "code",
   "execution_count": 29,
   "metadata": {},
   "outputs": [
    {
     "data": {
      "text/html": [
       "<div>\n",
       "<style scoped>\n",
       "    .dataframe tbody tr th:only-of-type {\n",
       "        vertical-align: middle;\n",
       "    }\n",
       "\n",
       "    .dataframe tbody tr th {\n",
       "        vertical-align: top;\n",
       "    }\n",
       "\n",
       "    .dataframe thead th {\n",
       "        text-align: right;\n",
       "    }\n",
       "</style>\n",
       "<table border=\"1\" class=\"dataframe\">\n",
       "  <thead>\n",
       "    <tr style=\"text-align: right;\">\n",
       "      <th></th>\n",
       "      <th>Null Count</th>\n",
       "    </tr>\n",
       "    <tr>\n",
       "      <th>Feature</th>\n",
       "      <th></th>\n",
       "    </tr>\n",
       "  </thead>\n",
       "  <tbody>\n",
       "    <tr>\n",
       "      <th>FireplaceQu</th>\n",
       "      <td>730</td>\n",
       "    </tr>\n",
       "    <tr>\n",
       "      <th>LotFrontage</th>\n",
       "      <td>227</td>\n",
       "    </tr>\n",
       "    <tr>\n",
       "      <th>GarageQual</th>\n",
       "      <td>78</td>\n",
       "    </tr>\n",
       "    <tr>\n",
       "      <th>GarageFinish</th>\n",
       "      <td>78</td>\n",
       "    </tr>\n",
       "    <tr>\n",
       "      <th>GarageYrBlt</th>\n",
       "      <td>78</td>\n",
       "    </tr>\n",
       "    <tr>\n",
       "      <th>GarageCond</th>\n",
       "      <td>78</td>\n",
       "    </tr>\n",
       "    <tr>\n",
       "      <th>GarageType</th>\n",
       "      <td>76</td>\n",
       "    </tr>\n",
       "    <tr>\n",
       "      <th>BsmtCond</th>\n",
       "      <td>45</td>\n",
       "    </tr>\n",
       "    <tr>\n",
       "      <th>BsmtExposure</th>\n",
       "      <td>44</td>\n",
       "    </tr>\n",
       "    <tr>\n",
       "      <th>BsmtQual</th>\n",
       "      <td>44</td>\n",
       "    </tr>\n",
       "    <tr>\n",
       "      <th>BsmtFinType1</th>\n",
       "      <td>42</td>\n",
       "    </tr>\n",
       "    <tr>\n",
       "      <th>BsmtFinType2</th>\n",
       "      <td>42</td>\n",
       "    </tr>\n",
       "    <tr>\n",
       "      <th>MasVnrType</th>\n",
       "      <td>16</td>\n",
       "    </tr>\n",
       "    <tr>\n",
       "      <th>MasVnrArea</th>\n",
       "      <td>15</td>\n",
       "    </tr>\n",
       "    <tr>\n",
       "      <th>MSZoning</th>\n",
       "      <td>4</td>\n",
       "    </tr>\n",
       "    <tr>\n",
       "      <th>BsmtFullBath</th>\n",
       "      <td>2</td>\n",
       "    </tr>\n",
       "    <tr>\n",
       "      <th>Functional</th>\n",
       "      <td>2</td>\n",
       "    </tr>\n",
       "    <tr>\n",
       "      <th>Exterior2nd</th>\n",
       "      <td>1</td>\n",
       "    </tr>\n",
       "    <tr>\n",
       "      <th>Exterior1st</th>\n",
       "      <td>1</td>\n",
       "    </tr>\n",
       "    <tr>\n",
       "      <th>SaleType</th>\n",
       "      <td>1</td>\n",
       "    </tr>\n",
       "    <tr>\n",
       "      <th>BsmtFinSF1</th>\n",
       "      <td>1</td>\n",
       "    </tr>\n",
       "    <tr>\n",
       "      <th>BsmtFinSF2</th>\n",
       "      <td>1</td>\n",
       "    </tr>\n",
       "    <tr>\n",
       "      <th>TotalBsmtSF</th>\n",
       "      <td>1</td>\n",
       "    </tr>\n",
       "    <tr>\n",
       "      <th>KitchenQual</th>\n",
       "      <td>1</td>\n",
       "    </tr>\n",
       "    <tr>\n",
       "      <th>GarageCars</th>\n",
       "      <td>1</td>\n",
       "    </tr>\n",
       "    <tr>\n",
       "      <th>GarageArea</th>\n",
       "      <td>1</td>\n",
       "    </tr>\n",
       "    <tr>\n",
       "      <th>BsmtUnfSF</th>\n",
       "      <td>1</td>\n",
       "    </tr>\n",
       "  </tbody>\n",
       "</table>\n",
       "</div>"
      ],
      "text/plain": [
       "              Null Count\n",
       "Feature                 \n",
       "FireplaceQu          730\n",
       "LotFrontage          227\n",
       "GarageQual            78\n",
       "GarageFinish          78\n",
       "GarageYrBlt           78\n",
       "GarageCond            78\n",
       "GarageType            76\n",
       "BsmtCond              45\n",
       "BsmtExposure          44\n",
       "BsmtQual              44\n",
       "BsmtFinType1          42\n",
       "BsmtFinType2          42\n",
       "MasVnrType            16\n",
       "MasVnrArea            15\n",
       "MSZoning               4\n",
       "BsmtFullBath           2\n",
       "Functional             2\n",
       "Exterior2nd            1\n",
       "Exterior1st            1\n",
       "SaleType               1\n",
       "BsmtFinSF1             1\n",
       "BsmtFinSF2             1\n",
       "TotalBsmtSF            1\n",
       "KitchenQual            1\n",
       "GarageCars             1\n",
       "GarageArea             1\n",
       "BsmtUnfSF              1"
      ]
     },
     "execution_count": 29,
     "metadata": {},
     "output_type": "execute_result"
    }
   ],
   "source": [
    "missingCols = test.isnull().any(axis=0)\n",
    "nulls = pd.DataFrame(test[test.columns[missingCols]].isnull().sum().sort_values(ascending=False))\n",
    "nulls.columns = ['Null Count']\n",
    "nulls.index.name = 'Feature'\n",
    "nulls"
   ]
  },
  {
   "cell_type": "code",
   "execution_count": 30,
   "metadata": {},
   "outputs": [
    {
     "data": {
      "text/plain": [
       "Index(['LotFrontage', 'MasVnrArea', 'BsmtFinSF1', 'BsmtFinSF2', 'BsmtUnfSF',\n",
       "       'TotalBsmtSF', 'BsmtFullBath', 'GarageYrBlt', 'GarageCars',\n",
       "       'GarageArea'],\n",
       "      dtype='object')"
      ]
     },
     "execution_count": 30,
     "metadata": {},
     "output_type": "execute_result"
    }
   ],
   "source": [
    "numeric_test = test.select_dtypes(include=[np.number])\n",
    "numeric_test.columns[numeric_test.isnull().any(axis=0)]"
   ]
  },
  {
   "cell_type": "code",
   "execution_count": 31,
   "metadata": {},
   "outputs": [
    {
     "data": {
      "text/plain": [
       "(1459, 31)"
      ]
     },
     "execution_count": 31,
     "metadata": {},
     "output_type": "execute_result"
    }
   ],
   "source": [
    "imputer = KNNImputer(n_neighbors=2, weights='distance')\n",
    "numeric_test = pd.DataFrame(data=imputer.fit_transform(numeric_test), \n",
    "                                columns=numeric_test.columns, index=numeric_test.index)\n",
    "numeric_test.shape"
   ]
  },
  {
   "cell_type": "code",
   "execution_count": 32,
   "metadata": {},
   "outputs": [
    {
     "data": {
      "text/plain": [
       "(1459, 33)"
      ]
     },
     "execution_count": 32,
     "metadata": {},
     "output_type": "execute_result"
    }
   ],
   "source": [
    "#test['PoolQC'] = test['PoolQC'].fillna('No Pool')\n",
    "#test['MiscFeature'] = test['MiscFeature'].fillna('None')\n",
    "#test['Alley'] = test['Alley'].fillna('No alley access')\n",
    "#test['Fence'] = test['Fence'].fillna('No Fence')\n",
    "test['FireplaceQu'] = test['FireplaceQu'].fillna('No Fireplace')\n",
    "test['GarageFinish'] = test['GarageFinish'].fillna('No Garage')\n",
    "test['GarageType'] = test['GarageType'].fillna('No Garage')\n",
    "test['BsmtExposure'] = test['BsmtExposure'].fillna('No Basement')\n",
    "test['BsmtFinType2'] = test['BsmtFinType2'].fillna('No Basement')\n",
    "test['BsmtFinType1'] = test['BsmtFinType1'].fillna('No Basement')\n",
    "test['MasVnrType'] = test['MasVnrType'].fillna('None')\n",
    "#test['Utilities'] = test['Utilities'].fillna(test['Utilities'].mode()[0])\n",
    "test['Functional'] = test['Functional'].fillna(test['Functional'].mode()[0])\n",
    "test['Exterior2nd'] = test['Exterior2nd'].fillna(test['Exterior2nd'].mode()[0])\n",
    "test['Exterior1st'] = test['Exterior1st'].fillna(test['Exterior1st'].mode()[0])\n",
    "\n",
    "test['GarageCond'] = test['GarageCond'].fillna('No Garage')\n",
    "test['GarageQual'] = test['GarageQual'].fillna('No Garage')\n",
    "test['BsmtCond'] = test['BsmtCond'].fillna('No Basement')\n",
    "test['BsmtQual'] = test['BsmtQual'].fillna('No Basement')\n",
    "test['MSZoning'] = test['MSZoning'].fillna(test['MSZoning'].mode()[0])\n",
    "test['KitchenQual'] = test['KitchenQual'].fillna(test['KitchenQual'].mode()[0])\n",
    "test['SaleType'] = test['SaleType'].fillna(test['SaleType'].mode()[0])\n",
    "\n",
    "test_categoricals = test.select_dtypes(exclude=[np.number])\n",
    "test_categoricals.shape"
   ]
  },
  {
   "cell_type": "markdown",
   "metadata": {},
   "source": [
    "### Dummify Categorical Variables"
   ]
  },
  {
   "cell_type": "code",
   "execution_count": 33,
   "metadata": {},
   "outputs": [],
   "source": [
    "dummified_test_features = pd.concat([numeric_test, test_categoricals], axis = 1)\n",
    "dummified_test_features = dummified_test_features[test.columns].drop('Id', axis =1)\n",
    "\n",
    "#dummified_test_features['Street'] = dummified_test_features['Street'].apply(lambda x: 0 if x == 'Pave' else 1)\n",
    "#dummified_test_features['Utilities'] = dummified_test_features['Utilities'].apply(lambda x: 0 if x == 'AllPub' else 1)\n",
    "dummified_test_features['CentralAir'] = dummified_test_features['CentralAir'].apply(lambda x: 0 if x == 'N' else 1)\n",
    "\n",
    "# MSSubClass refers to categories, but is currently an integer type. Changing to string type, since the distance \n",
    "# between categories doesn't mean anything.\n",
    "dummified_test_features['MSSubClass'] = dummified_test_features['MSSubClass'].astype(str)"
   ]
  },
  {
   "cell_type": "code",
   "execution_count": 34,
   "metadata": {},
   "outputs": [
    {
     "data": {
      "text/plain": [
       "Index(['MSSubClass', 'MSZoning', 'LotShape', 'LandContour', 'LotConfig',\n",
       "       'LandSlope', 'Neighborhood', 'Condition1', 'BldgType', 'HouseStyle',\n",
       "       'RoofStyle', 'Exterior1st', 'Exterior2nd', 'MasVnrType', 'ExterQual',\n",
       "       'ExterCond', 'Foundation', 'BsmtQual', 'BsmtCond', 'BsmtExposure',\n",
       "       'BsmtFinType1', 'BsmtFinType2', 'HeatingQC', 'KitchenQual',\n",
       "       'Functional', 'FireplaceQu', 'GarageType', 'GarageFinish', 'GarageQual',\n",
       "       'GarageCond', 'PavedDrive', 'SaleType', 'SaleCondition'],\n",
       "      dtype='object')"
      ]
     },
     "execution_count": 34,
     "metadata": {},
     "output_type": "execute_result"
    }
   ],
   "source": [
    "test_categoricals = dummified_test_features.select_dtypes(exclude=[np.number])\n",
    "test_categoricals.columns"
   ]
  },
  {
   "cell_type": "code",
   "execution_count": 35,
   "metadata": {},
   "outputs": [
    {
     "name": "stdout",
     "output_type": "stream",
     "text": [
      "(1459, 63)\n",
      "(1459, 224)\n"
     ]
    }
   ],
   "source": [
    "print(dummified_test_features.shape)\n",
    "for variable in test_categoricals:\n",
    "    dummy = pd.get_dummies(dummified_test_features[variable], prefix=variable)\n",
    "    dummy.drop('_'.join([variable, dummified_test_features[variable][1]]), axis=1, inplace=True) # \n",
    "    dummified_test_features = dummified_test_features.drop(variable, axis=1)  # drop the original feature\n",
    "    dummified_test_features = pd.concat([dummified_test_features, dummy], axis=1) # concat original df and dummy horizontally\n",
    "print(dummified_test_features.shape)"
   ]
  },
  {
   "cell_type": "markdown",
   "metadata": {},
   "source": [
    "### Match Features with Training Data (if necessary)"
   ]
  },
  {
   "cell_type": "code",
   "execution_count": 36,
   "metadata": {},
   "outputs": [
    {
     "name": "stdout",
     "output_type": "stream",
     "text": [
      "(1459, 228)\n",
      "(1456, 228)\n"
     ]
    }
   ],
   "source": [
    "# 256 columns instead of 272. Need to make these match:\n",
    "missing_cols = set(dummified_features.columns) - set(dummified_test_features.columns)\n",
    "for c in missing_cols:\n",
    "    dummified_test_features[c] = 0\n",
    "dummified_test_features = dummified_test_features[dummified_features.columns]\n",
    "print(dummified_test_features.shape)\n",
    "print(dummified_features.shape)"
   ]
  },
  {
   "cell_type": "markdown",
   "metadata": {},
   "source": [
    "# Linear Regression Models <a class=\"anchor\" id=\"fourth_section\"></a>"
   ]
  },
  {
   "cell_type": "markdown",
   "metadata": {},
   "source": [
    "## Mutiple Linear Regression <a class=\"anchor\" id=\"fifth_section\"></a>"
   ]
  },
  {
   "cell_type": "code",
   "execution_count": 37,
   "metadata": {},
   "outputs": [],
   "source": [
    "from sklearn import linear_model\n",
    "from sklearn.model_selection import train_test_split\n",
    "from sklearn.metrics import mean_squared_error\n",
    "\n",
    "y = np.log(train.SalePrice)\n",
    "X = dummified_features\n",
    "\n",
    "X_train, X_test, y_train, y_test = train_test_split(X, y, random_state=135, test_size=.20)\n",
    "mlr = linear_model.LinearRegression()\n",
    "saturated_model = mlr.fit(X_train, y_train)"
   ]
  },
  {
   "cell_type": "code",
   "execution_count": 38,
   "metadata": {},
   "outputs": [
    {
     "name": "stdout",
     "output_type": "stream",
     "text": [
      "Error for the training data :  0.05001938757397573\n",
      "Error for the test data :  0.08944862849251511\n"
     ]
    }
   ],
   "source": [
    "print (\"Error for the training data : \", 1-saturated_model.score(X_train, y_train))\n",
    "print (\"Error for the test data : \", 1-saturated_model.score(X_test, y_test))"
   ]
  },
  {
   "cell_type": "code",
   "execution_count": 39,
   "metadata": {},
   "outputs": [
    {
     "name": "stdout",
     "output_type": "stream",
     "text": [
      "Train RMSE : 0.08764116023920104\n",
      "Test RMSE : 0.1230753189790948\n"
     ]
    }
   ],
   "source": [
    "train_predictions = saturated_model.predict(X_train)\n",
    "test_predictions = saturated_model.predict(X_test)\n",
    "\n",
    "# log is already taken on predicted values and actual values, and we'll keep it that way as Kaggle's evaluation method takes \n",
    "# the log to reduce the impact of very high house prices\n",
    "print ('Train RMSE :', np.sqrt(mean_squared_error(y_train, train_predictions)))\n",
    "print ('Test RMSE :', np.sqrt(mean_squared_error(y_test, test_predictions)))"
   ]
  },
  {
   "cell_type": "markdown",
   "metadata": {},
   "source": [
    "Substantial overfitting in the saturated model / Not too bad on with the re-processed data."
   ]
  },
  {
   "cell_type": "code",
   "execution_count": 40,
   "metadata": {},
   "outputs": [
    {
     "name": "stdout",
     "output_type": "stream",
     "text": [
      "                            OLS Regression Results                            \n",
      "==============================================================================\n",
      "Dep. Variable:              SalePrice   R-squared:                       0.950\n",
      "Model:                            OLS   Adj. R-squared:                  0.939\n",
      "Method:                 Least Squares   F-statistic:                     82.80\n",
      "Date:                Tue, 12 May 2020   Prob (F-statistic):               0.00\n",
      "Time:                        13:02:46   Log-Likelihood:                 1182.1\n",
      "No. Observations:                1164   AIC:                            -1928.\n",
      "Df Residuals:                     946   BIC:                            -825.2\n",
      "Df Model:                         217                                         \n",
      "Covariance Type:            nonrobust                                         \n",
      "============================================================================================\n",
      "                               coef    std err          t      P>|t|      [0.025      0.975]\n",
      "--------------------------------------------------------------------------------------------\n",
      "const                       13.5545      5.060      2.679      0.008       3.623      23.486\n",
      "LotFrontage                  0.0004      0.000      1.921      0.055   -7.88e-06       0.001\n",
      "LotArea                   2.744e-06    4.6e-07      5.969      0.000    1.84e-06    3.65e-06\n",
      "OverallQual                  0.0389      0.005      7.889      0.000       0.029       0.049\n",
      "OverallCond                  0.0385      0.004      9.199      0.000       0.030       0.047\n",
      "YearBuilt                    0.0021      0.000      5.150      0.000       0.001       0.003\n",
      "YearRemodAdd                 0.0006      0.000      2.139      0.033    4.64e-05       0.001\n",
      "MasVnrArea                4.194e-05   2.68e-05      1.565      0.118   -1.07e-05    9.45e-05\n",
      "BsmtFinSF1                   0.0164      0.006      2.788      0.005       0.005       0.028\n",
      "BsmtFinSF2                2.585e-05   4.14e-05      0.625      0.532   -5.54e-05       0.000\n",
      "BsmtUnfSF                   -0.0089      0.003     -2.978      0.003      -0.015      -0.003\n",
      "TotalBsmtSF                  0.1142      0.020      5.674      0.000       0.075       0.154\n",
      "CentralAir                   0.0608      0.017      3.500      0.000       0.027       0.095\n",
      "1stFlrSF                     0.1180      0.051      2.322      0.020       0.018       0.218\n",
      "2ndFlrSF                     0.0001   3.51e-05      3.923      0.000    6.88e-05       0.000\n",
      "GrLivArea                    0.2932      0.060      4.885      0.000       0.175       0.411\n",
      "BsmtFullBath                 0.0182      0.009      2.005      0.045       0.000       0.036\n",
      "FullBath                     0.0089      0.011      0.841      0.400      -0.012       0.030\n",
      "HalfBath                     0.0195      0.010      1.889      0.059      -0.001       0.040\n",
      "BedroomAbvGr                -0.0049      0.007     -0.740      0.459      -0.018       0.008\n",
      "TotRmsAbvGrd                -0.0018      0.004     -0.399      0.690      -0.011       0.007\n",
      "Fireplaces                   0.0189      0.012      1.552      0.121      -0.005       0.043\n",
      "GarageYrBlt              -9.873e-05      0.000     -0.351      0.726      -0.001       0.000\n",
      "GarageCars                   0.0267      0.011      2.394      0.017       0.005       0.049\n",
      "GarageArea                4.426e-05   3.89e-05      1.139      0.255    -3.2e-05       0.000\n",
      "WoodDeckSF                8.012e-05   2.74e-05      2.921      0.004    2.63e-05       0.000\n",
      "OpenPorchSF                  0.0017      0.002      0.920      0.358      -0.002       0.005\n",
      "EnclosedPorch                0.0002   5.92e-05      2.887      0.004    5.48e-05       0.000\n",
      "ScreenPorch                  0.0002   5.99e-05      3.183      0.002    7.31e-05       0.000\n",
      "MoSold                      -0.0009      0.001     -0.786      0.432      -0.003       0.001\n",
      "YrSold                      -0.0054      0.002     -2.192      0.029      -0.010      -0.001\n",
      "MSSubClass_120.0            -0.0806      0.064     -1.259      0.208      -0.206       0.045\n",
      "MSSubClass_160.0            -0.1326      0.078     -1.699      0.090      -0.286       0.021\n",
      "MSSubClass_180.0            -0.0588      0.087     -0.674      0.501      -0.230       0.113\n",
      "MSSubClass_190.0            -0.0119      0.018     -0.657      0.511      -0.048       0.024\n",
      "MSSubClass_30.0             -0.0504      0.023     -2.200      0.028      -0.095      -0.005\n",
      "MSSubClass_40.0             -0.0115      0.058     -0.199      0.843      -0.125       0.102\n",
      "MSSubClass_45.0              0.1342      0.121      1.109      0.268      -0.103       0.372\n",
      "MSSubClass_50.0              0.0081      0.039      0.208      0.835      -0.068       0.085\n",
      "MSSubClass_60.0             -0.0074      0.036     -0.209      0.835      -0.077       0.062\n",
      "MSSubClass_70.0              0.0414      0.038      1.100      0.271      -0.032       0.115\n",
      "MSSubClass_75.0             -0.0662      0.067     -0.991      0.322      -0.197       0.065\n",
      "MSSubClass_80.0              0.0221      0.056      0.395      0.693      -0.088       0.132\n",
      "MSSubClass_85.0             -0.0058      0.048     -0.121      0.904      -0.099       0.088\n",
      "MSSubClass_90.0             -0.0466      0.013     -3.559      0.000      -0.072      -0.021\n",
      "MSZoning_C (all)            -0.4566      0.049     -9.397      0.000      -0.552      -0.361\n",
      "MSZoning_FV                  0.0549      0.032      1.717      0.086      -0.008       0.118\n",
      "MSZoning_RH                  0.0055      0.030      0.184      0.854      -0.053       0.065\n",
      "MSZoning_RM                 -0.0633      0.019     -3.396      0.001      -0.100      -0.027\n",
      "LotShape_IR1                -0.0078      0.008     -1.012      0.312      -0.023       0.007\n",
      "LotShape_IR2                 0.0040      0.020      0.200      0.842      -0.035       0.043\n",
      "LotShape_IR3                 0.0119      0.043      0.274      0.784      -0.073       0.097\n",
      "LandContour_Bnk             -0.0182      0.018     -1.019      0.309      -0.053       0.017\n",
      "LandContour_HLS              0.0036      0.019      0.190      0.849      -0.034       0.041\n",
      "LandContour_Low             -0.0101      0.026     -0.385      0.700      -0.061       0.041\n",
      "LotConfig_Corner             0.0283      0.018      1.539      0.124      -0.008       0.064\n",
      "LotConfig_CulDSac            0.0593      0.021      2.842      0.005       0.018       0.100\n",
      "LotConfig_FR3               -0.0327      0.064     -0.507      0.612      -0.159       0.094\n",
      "LotConfig_Inside             0.0230      0.017      1.341      0.180      -0.011       0.057\n",
      "LandSlope_Mod                0.0113      0.018      0.620      0.535      -0.025       0.047\n",
      "LandSlope_Sev               -0.1495      0.045     -3.316      0.001      -0.238      -0.061\n",
      "Neighborhood_Blmngtn        -0.0118      0.054     -0.220      0.826      -0.117       0.094\n",
      "Neighborhood_Blueste         0.0095      0.111      0.085      0.932      -0.209       0.228\n",
      "Neighborhood_BrDale          0.0433      0.061      0.715      0.475      -0.075       0.162\n",
      "Neighborhood_BrkSide         0.0478      0.046      1.040      0.299      -0.042       0.138\n",
      "Neighborhood_ClearCr         0.0478      0.046      1.043      0.297      -0.042       0.138\n",
      "Neighborhood_CollgCr        -0.0168      0.041     -0.413      0.679      -0.097       0.063\n",
      "Neighborhood_Crawfor         0.1121      0.044      2.548      0.011       0.026       0.198\n",
      "Neighborhood_Edwards        -0.0515      0.042     -1.223      0.222      -0.134       0.031\n",
      "Neighborhood_Gilbert        -0.0007      0.043     -0.015      0.988      -0.084       0.083\n",
      "Neighborhood_IDOTRR          0.0274      0.052      0.523      0.601      -0.076       0.130\n",
      "Neighborhood_MeadowV        -0.0890      0.060     -1.491      0.136      -0.206       0.028\n",
      "Neighborhood_Mitchel        -0.0366      0.043     -0.855      0.393      -0.120       0.047\n",
      "Neighborhood_NAmes          -0.0341      0.040     -0.844      0.399      -0.113       0.045\n",
      "Neighborhood_NPkVill         0.0160      0.067      0.239      0.811      -0.115       0.147\n",
      "Neighborhood_NWAmes         -0.0329      0.041     -0.793      0.428      -0.114       0.049\n",
      "Neighborhood_NoRidge         0.0464      0.044      1.044      0.297      -0.041       0.134\n",
      "Neighborhood_NridgHt         0.0592      0.044      1.351      0.177      -0.027       0.145\n",
      "Neighborhood_OldTown        -0.0184      0.047     -0.393      0.694      -0.110       0.074\n",
      "Neighborhood_SWISU           0.0110      0.049      0.225      0.822      -0.085       0.107\n",
      "Neighborhood_Sawyer          0.0018      0.042      0.042      0.966      -0.081       0.084\n",
      "Neighborhood_SawyerW        -0.0083      0.042     -0.198      0.843      -0.090       0.073\n",
      "Neighborhood_Somerst         0.0003      0.048      0.005      0.996      -0.094       0.094\n",
      "Neighborhood_StoneBr         0.1111      0.048      2.303      0.021       0.016       0.206\n",
      "Neighborhood_Timber         -0.0072      0.044     -0.165      0.869      -0.093       0.078\n",
      "Condition1_Artery           -0.0478      0.024     -2.031      0.043      -0.094      -0.002\n",
      "Condition1_Norm              0.0521      0.014      3.608      0.000       0.024       0.080\n",
      "Condition1_PosA              0.0229      0.042      0.548      0.584      -0.059       0.105\n",
      "Condition1_PosN              0.0839      0.033      2.511      0.012       0.018       0.149\n",
      "Condition1_RRAe             -0.0786      0.039     -2.027      0.043      -0.155      -0.002\n",
      "Condition1_RRAn              0.0213      0.029      0.733      0.463      -0.036       0.078\n",
      "Condition1_RRNe              0.0120      0.074      0.163      0.871      -0.133       0.157\n",
      "Condition1_RRNn              0.0396      0.059      0.672      0.502      -0.076       0.155\n",
      "BldgType_2fmCon             -0.0119      0.018     -0.657      0.511      -0.048       0.024\n",
      "BldgType_Duplex             -0.0466      0.013     -3.559      0.000      -0.072      -0.021\n",
      "BldgType_Twnhs               0.0018      0.069      0.026      0.979      -0.135       0.138\n",
      "BldgType_TwnhsE              0.0505      0.065      0.776      0.438      -0.077       0.178\n",
      "HouseStyle_1.5Fin           -0.0517      0.040     -1.297      0.195      -0.130       0.027\n",
      "HouseStyle_1.5Unf           -0.1192      0.117     -1.015      0.310      -0.350       0.111\n",
      "HouseStyle_2.5Fin           -0.0262      0.076     -0.346      0.729      -0.175       0.122\n",
      "HouseStyle_2.5Unf            0.0572      0.073      0.787      0.431      -0.085       0.200\n",
      "HouseStyle_2Story           -0.0577      0.041     -1.410      0.159      -0.138       0.023\n",
      "HouseStyle_SFoyer           -0.0281      0.043     -0.650      0.516      -0.113       0.057\n",
      "HouseStyle_SLvl             -0.0175      0.056     -0.313      0.754      -0.127       0.092\n",
      "RoofStyle_Flat               0.0307      0.043      0.722      0.471      -0.053       0.114\n",
      "RoofStyle_Gambrel           -0.0555      0.039     -1.413      0.158      -0.133       0.022\n",
      "RoofStyle_Hip               -0.0028      0.009     -0.307      0.759      -0.021       0.015\n",
      "RoofStyle_Mansard           -0.0219      0.049     -0.448      0.654      -0.118       0.074\n",
      "RoofStyle_Shed               0.0512      0.086      0.594      0.552      -0.118       0.220\n",
      "Exterior1st_AsbShng         -0.0392      0.068     -0.577      0.564      -0.173       0.094\n",
      "Exterior1st_AsphShn         -0.1150      0.135     -0.853      0.394      -0.380       0.150\n",
      "Exterior1st_BrkComm       2.755e-16   2.89e-16      0.954      0.340   -2.91e-16    8.42e-16\n",
      "Exterior1st_BrkFace          0.0253      0.044      0.581      0.561      -0.060       0.111\n",
      "Exterior1st_CBlock          -0.0440      0.058     -0.754      0.451      -0.158       0.071\n",
      "Exterior1st_CemntBd         -0.0662      0.113     -0.585      0.559      -0.288       0.156\n",
      "Exterior1st_HdBoard         -0.0670      0.038     -1.780      0.075      -0.141       0.007\n",
      "Exterior1st_ImStucc         -0.0193      0.116     -0.166      0.868      -0.247       0.209\n",
      "Exterior1st_Plywood         -0.0656      0.041     -1.600      0.110      -0.146       0.015\n",
      "Exterior1st_Stone           -0.0692      0.091     -0.759      0.448      -0.248       0.110\n",
      "Exterior1st_Stucco          -0.0744      0.053     -1.411      0.159      -0.178       0.029\n",
      "Exterior1st_VinylSd         -0.0627      0.050     -1.266      0.206      -0.160       0.035\n",
      "Exterior1st_Wd Sdng         -0.0816      0.038     -2.122      0.034      -0.157      -0.006\n",
      "Exterior1st_WdShing         -0.0249      0.044     -0.565      0.572      -0.111       0.062\n",
      "Exterior2nd_AsbShng          0.0132      0.065      0.201      0.840      -0.115       0.142\n",
      "Exterior2nd_AsphShn          0.1001      0.083      1.211      0.226      -0.062       0.262\n",
      "Exterior2nd_Brk Cmn          0.1052      0.087      1.216      0.224      -0.065       0.275\n",
      "Exterior2nd_BrkFace         -0.0110      0.050     -0.220      0.826      -0.109       0.087\n",
      "Exterior2nd_CBlock          -0.0440      0.058     -0.754      0.451      -0.158       0.071\n",
      "Exterior2nd_CmentBd          0.0628      0.115      0.545      0.586      -0.163       0.289\n",
      "Exterior2nd_HdBoard          0.0223      0.038      0.584      0.560      -0.053       0.097\n",
      "Exterior2nd_ImStucc          0.0035      0.056      0.063      0.950      -0.106       0.113\n",
      "Exterior2nd_Other           -0.0123      0.116     -0.106      0.915      -0.240       0.215\n",
      "Exterior2nd_Plywood          0.0177      0.040      0.441      0.660      -0.061       0.096\n",
      "Exterior2nd_Stone            0.0057      0.064      0.088      0.930      -0.121       0.132\n",
      "Exterior2nd_Stucco           0.0956      0.052      1.824      0.068      -0.007       0.198\n",
      "Exterior2nd_VinylSd          0.0516      0.050      1.022      0.307      -0.047       0.151\n",
      "Exterior2nd_Wd Sdng          0.0488      0.039      1.246      0.213      -0.028       0.126\n",
      "Exterior2nd_Wd Shng          0.0409      0.043      0.947      0.344      -0.044       0.126\n",
      "MasVnrType_BrkCmn           -0.0721      0.033     -2.164      0.031      -0.138      -0.007\n",
      "MasVnrType_BrkFace          -0.0077      0.011     -0.731      0.465      -0.028       0.013\n",
      "MasVnrType_Stone             0.0293      0.015      1.943      0.052      -0.000       0.059\n",
      "ExterQual_Ex                 0.0310      0.026      1.177      0.240      -0.021       0.083\n",
      "ExterQual_Fa                -0.0261      0.047     -0.560      0.575      -0.117       0.065\n",
      "ExterQual_Gd                 0.0004      0.012      0.031      0.975      -0.023       0.024\n",
      "ExterCond_Ex                 0.2626      0.120      2.181      0.029       0.026       0.499\n",
      "ExterCond_Fa                -0.0501      0.029     -1.715      0.087      -0.108       0.007\n",
      "ExterCond_Gd                -0.0189      0.011     -1.659      0.097      -0.041       0.003\n",
      "ExterCond_Po              2.999e-17   1.34e-16      0.224      0.823   -2.33e-16    2.92e-16\n",
      "Foundation_BrkTil           -0.0319      0.016     -2.052      0.040      -0.062      -0.001\n",
      "Foundation_PConc             0.0147      0.012      1.231      0.218      -0.009       0.038\n",
      "Foundation_Slab             -0.0074      0.042     -0.177      0.860      -0.089       0.074\n",
      "Foundation_Stone             0.1405      0.057      2.455      0.014       0.028       0.253\n",
      "Foundation_Wood             -0.1423      0.063     -2.262      0.024      -0.266      -0.019\n",
      "BsmtQual_Ex                  0.0304      0.017      1.791      0.074      -0.003       0.064\n",
      "BsmtQual_Fa                  0.0088      0.027      0.325      0.746      -0.044       0.062\n",
      "BsmtQual_No Basement         0.1530      0.047      3.268      0.001       0.061       0.245\n",
      "BsmtQual_TA                 -0.0048      0.012     -0.393      0.694      -0.029       0.019\n",
      "BsmtCond_Fa                 -0.0010      0.022     -0.045      0.964      -0.044       0.042\n",
      "BsmtCond_Gd                 -0.0102      0.016     -0.650      0.516      -0.041       0.021\n",
      "BsmtCond_No Basement         0.1530      0.047      3.268      0.001       0.061       0.245\n",
      "BsmtCond_Po                  0.2375      0.104      2.280      0.023       0.033       0.442\n",
      "BsmtExposure_Av             -0.0553      0.014     -3.834      0.000      -0.084      -0.027\n",
      "BsmtExposure_Mn             -0.0564      0.017     -3.302      0.001      -0.090      -0.023\n",
      "BsmtExposure_No             -0.0674      0.014     -4.735      0.000      -0.095      -0.039\n",
      "BsmtExposure_No Basement     0.1530      0.047      3.268      0.001       0.061       0.245\n",
      "BsmtFinType1_BLQ            -0.0002      0.013     -0.017      0.987      -0.026       0.026\n",
      "BsmtFinType1_GLQ             0.0253      0.012      2.103      0.036       0.002       0.049\n",
      "BsmtFinType1_LwQ            -0.0299      0.018     -1.632      0.103      -0.066       0.006\n",
      "BsmtFinType1_No Basement     0.1530      0.047      3.268      0.001       0.061       0.245\n",
      "BsmtFinType1_Rec            -0.0091      0.014     -0.634      0.526      -0.037       0.019\n",
      "BsmtFinType1_Unf             0.0731      0.036      2.052      0.040       0.003       0.143\n",
      "BsmtFinType2_ALQ            -0.0034      0.038     -0.091      0.928      -0.078       0.071\n",
      "BsmtFinType2_BLQ            -0.0365      0.025     -1.462      0.144      -0.085       0.012\n",
      "BsmtFinType2_GLQ             0.0604      0.049      1.241      0.215      -0.035       0.156\n",
      "BsmtFinType2_LwQ            -0.0194      0.022     -0.878      0.380      -0.063       0.024\n",
      "BsmtFinType2_No Basement     0.0132      0.103      0.127      0.899      -0.190       0.216\n",
      "BsmtFinType2_Rec            -0.0153      0.023     -0.667      0.505      -0.060       0.030\n",
      "HeatingQC_Fa                -0.0425      0.020     -2.080      0.038      -0.083      -0.002\n",
      "HeatingQC_Gd                -0.0149      0.010     -1.455      0.146      -0.035       0.005\n",
      "HeatingQC_Po                -0.1003      0.117     -0.855      0.393      -0.330       0.130\n",
      "HeatingQC_TA                -0.0305      0.010     -3.038      0.002      -0.050      -0.011\n",
      "KitchenQual_Ex               0.0630      0.019      3.242      0.001       0.025       0.101\n",
      "KitchenQual_Fa              -0.0010      0.023     -0.046      0.964      -0.046       0.044\n",
      "KitchenQual_Gd              -0.0027      0.010     -0.257      0.797      -0.023       0.018\n",
      "Functional_Maj1             -0.1067      0.035     -3.023      0.003      -0.176      -0.037\n",
      "Functional_Maj2             -0.2971      0.052     -5.707      0.000      -0.399      -0.195\n",
      "Functional_Min1             -0.0513      0.022     -2.335      0.020      -0.094      -0.008\n",
      "Functional_Min2             -0.0681      0.022     -3.086      0.002      -0.111      -0.025\n",
      "Functional_Mod              -0.0973      0.039     -2.464      0.014      -0.175      -0.020\n",
      "Functional_Sev              -0.3311      0.128     -2.585      0.010      -0.583      -0.080\n",
      "FireplaceQu_Ex               0.0007      0.029      0.025      0.980      -0.055       0.057\n",
      "FireplaceQu_Fa              -0.0366      0.022     -1.667      0.096      -0.080       0.006\n",
      "FireplaceQu_Gd               0.0015      0.011      0.136      0.892      -0.020       0.022\n",
      "FireplaceQu_No Fireplace     0.0016      0.017      0.093      0.926      -0.032       0.035\n",
      "FireplaceQu_Po               0.0655      0.033      2.012      0.045       0.002       0.129\n",
      "GarageType_2Types           -0.1418      0.057     -2.490      0.013      -0.254      -0.030\n",
      "GarageType_Basment          -0.0284      0.035     -0.807      0.420      -0.097       0.041\n",
      "GarageType_BuiltIn          -0.0110      0.016     -0.693      0.488      -0.042       0.020\n",
      "GarageType_CarPort           0.0138      0.046      0.301      0.764      -0.076       0.104\n",
      "GarageType_Detchd            0.0118      0.011      1.027      0.305      -0.011       0.034\n",
      "GarageType_No Garage        -0.0076      0.006     -1.371      0.171      -0.019       0.003\n",
      "GarageFinish_Fin             0.0007      0.009      0.076      0.940      -0.018       0.019\n",
      "GarageFinish_No Garage      -0.0076      0.006     -1.371      0.171      -0.019       0.003\n",
      "GarageFinish_Unf             0.0033      0.010      0.320      0.749      -0.017       0.023\n",
      "GarageQual_Ex                0.4731      0.119      3.978      0.000       0.240       0.707\n",
      "GarageQual_Fa               -0.0276      0.025     -1.105      0.269      -0.077       0.021\n",
      "GarageQual_Gd                0.0236      0.036      0.650      0.516      -0.048       0.095\n",
      "GarageQual_No Garage        -0.0076      0.006     -1.371      0.171      -0.019       0.003\n",
      "GarageQual_Po                0.0210      0.124      0.169      0.866      -0.223       0.265\n",
      "GarageCond_Ex               -0.3536      0.162     -2.178      0.030      -0.672      -0.035\n",
      "GarageCond_Fa               -0.0621      0.026     -2.420      0.016      -0.112      -0.012\n",
      "GarageCond_Gd                0.0313      0.043      0.730      0.465      -0.053       0.115\n",
      "GarageCond_No Garage        -0.0076      0.006     -1.371      0.171      -0.019       0.003\n",
      "GarageCond_Po               -0.1144      0.082     -1.390      0.165      -0.276       0.047\n",
      "PavedDrive_N                -0.0112      0.017     -0.666      0.505      -0.044       0.022\n",
      "PavedDrive_P                -0.0280      0.022     -1.273      0.204      -0.071       0.015\n",
      "SaleType_COD                 0.0239      0.021      1.144      0.253      -0.017       0.065\n",
      "SaleType_CWD                 0.0760      0.053      1.440      0.150      -0.028       0.180\n",
      "SaleType_Con                 0.1443      0.109      1.319      0.188      -0.070       0.359\n",
      "SaleType_ConLD               0.1107      0.041      2.721      0.007       0.031       0.191\n",
      "SaleType_ConLI              -0.0318      0.053     -0.601      0.548      -0.136       0.072\n",
      "SaleType_ConLw              -0.0200      0.054     -0.371      0.710      -0.125       0.086\n",
      "SaleType_New                 0.1241      0.064      1.941      0.053      -0.001       0.250\n",
      "SaleType_Oth                 0.0507      0.061      0.826      0.409      -0.070       0.171\n",
      "SaleCondition_Abnorml       -0.0813      0.013     -6.036      0.000      -0.108      -0.055\n",
      "SaleCondition_AdjLand        0.0767      0.059      1.301      0.194      -0.039       0.192\n",
      "SaleCondition_Alloca         0.0308      0.041      0.745      0.456      -0.050       0.112\n",
      "SaleCondition_Family        -0.0457      0.028     -1.635      0.102      -0.100       0.009\n",
      "SaleCondition_Partial       -0.0913      0.063     -1.453      0.146      -0.215       0.032\n",
      "==============================================================================\n",
      "Omnibus:                      262.498   Durbin-Watson:                   1.987\n",
      "Prob(Omnibus):                  0.000   Jarque-Bera (JB):             2293.586\n",
      "Skew:                          -0.781   Prob(JB):                         0.00\n",
      "Kurtosis:                       9.697   Cond. No.                     1.68e+20\n",
      "==============================================================================\n",
      "\n",
      "Warnings:\n",
      "[1] Standard Errors assume that the covariance matrix of the errors is correctly specified.\n",
      "[2] The smallest eigenvalue is 9.84e-30. This might indicate that there are\n",
      "strong multicollinearity problems or that the design matrix is singular.\n"
     ]
    },
    {
     "name": "stderr",
     "output_type": "stream",
     "text": [
      "C:\\Users\\bdbot\\Anaconda3\\lib\\site-packages\\numpy\\core\\fromnumeric.py:2389: FutureWarning: Method .ptp is deprecated and will be removed in a future version. Use numpy.ptp instead.\n",
      "  return ptp(axis=axis, out=out, **kwargs)\n"
     ]
    }
   ],
   "source": [
    "import statsmodels.api as sm\n",
    "X_Constant = sm.add_constant(X_train)\n",
    "model = sm.OLS(y_train, X_Constant)\n",
    "results = model.fit()\n",
    "print(results.summary()) "
   ]
  },
  {
   "cell_type": "markdown",
   "metadata": {},
   "source": [
    "### Check assumptions of MLR:"
   ]
  },
  {
   "cell_type": "markdown",
   "metadata": {},
   "source": [
    "Linearity:"
   ]
  },
  {
   "cell_type": "code",
   "execution_count": 41,
   "metadata": {},
   "outputs": [
    {
     "data": {
      "image/png": "[encoded data removed]",
      "text/plain": [
       "<Figure size 432x288 with 1 Axes>"
      ]
     },
     "metadata": {
      "needs_background": "light"
     },
     "output_type": "display_data"
    }
   ],
   "source": [
    "plt.scatter(saturated_model.predict(X), y, alpha=.7,\n",
    "            color='b') #alpha helps to show overlapping data\n",
    "plt.xlabel('Predicted Price')\n",
    "plt.ylabel('Actual Price')\n",
    "plt.title('Linear Regression Model')\n",
    "plt.show()"
   ]
  },
  {
   "cell_type": "markdown",
   "metadata": {},
   "source": [
    "Normally distributed errors:"
   ]
  },
  {
   "cell_type": "code",
   "execution_count": 42,
   "metadata": {},
   "outputs": [
    {
     "data": {
      "text/plain": [
       "(array([  1.,   0.,   1.,   0.,   2.,   1.,   0.,   1.,   0.,   1.,   3.,\n",
       "          5.,  13.,  29.,  46., 114., 245., 354., 312., 177.,  82.,  37.,\n",
       "         17.,   7.,   3.,   2.,   0.,   1.,   1.,   1.]),\n",
       " array([-0.77719269, -0.73327628, -0.68935987, -0.64544346, -0.60152705,\n",
       "        -0.55761064, -0.51369423, -0.46977782, -0.42586141, -0.38194501,\n",
       "        -0.3380286 , -0.29411219, -0.25019578, -0.20627937, -0.16236296,\n",
       "        -0.11844655, -0.07453014, -0.03061373,  0.01330268,  0.05721908,\n",
       "         0.10113549,  0.1450519 ,  0.18896831,  0.23288472,  0.27680113,\n",
       "         0.32071754,  0.36463395,  0.40855036,  0.45246677,  0.49638317,\n",
       "         0.54029958]),\n",
       " <a list of 30 Patch objects>)"
      ]
     },
     "execution_count": 42,
     "metadata": {},
     "output_type": "execute_result"
    },
    {
     "data": {
      "image/png": "[encoded data removed]",
      "text/plain": [
       "<Figure size 432x288 with 1 Axes>"
      ]
     },
     "metadata": {
      "needs_background": "light"
     },
     "output_type": "display_data"
    }
   ],
   "source": [
    "residuals = y - saturated_model.predict(X)\n",
    "plt.hist(residuals, bins = 30)"
   ]
  },
  {
   "cell_type": "markdown",
   "metadata": {},
   "source": [
    "Constant variance and independent Errors:"
   ]
  },
  {
   "cell_type": "code",
   "execution_count": 43,
   "metadata": {},
   "outputs": [
    {
     "data": {
      "text/plain": [
       "<matplotlib.collections.PathCollection at 0x229084a96a0>"
      ]
     },
     "execution_count": 43,
     "metadata": {},
     "output_type": "execute_result"
    },
    {
     "data": {
      "image/png": "[encoded data removed]",
      "text/plain": [
       "<Figure size 432x288 with 1 Axes>"
      ]
     },
     "metadata": {
      "needs_background": "light"
     },
     "output_type": "display_data"
    }
   ],
   "source": [
    "plt.scatter(y, residuals)"
   ]
  },
  {
   "cell_type": "markdown",
   "metadata": {},
   "source": [
    "Multicollinearity:"
   ]
  },
  {
   "cell_type": "markdown",
   "metadata": {},
   "source": [
    "Using all variables requires using many related variables, such as the numerous variables relating to the basement or the garage. These variables add different but related information. Penalized linear regression will be used to address multicollinearity issues, decrease variance, and increase accuracy. Lasso will have the additional benefit of feature selection."
   ]
  },
  {
   "cell_type": "markdown",
   "metadata": {},
   "source": [
    "## Ridge Linear Regression <a class=\"anchor\" id=\"sixth_section\"></a>"
   ]
  },
  {
   "cell_type": "code",
   "execution_count": 65,
   "metadata": {},
   "outputs": [
    {
     "data": {
      "text/plain": [
       "Ridge(alpha=0, copy_X=True, fit_intercept=True, max_iter=None, normalize=False,\n",
       "      random_state=None, solver='auto', tol=0.001)"
      ]
     },
     "execution_count": 65,
     "metadata": {},
     "output_type": "execute_result"
    }
   ],
   "source": [
    "from sklearn.linear_model import Lasso, Ridge\n",
    "\n",
    "ridge = Ridge()\n",
    "X_train, X_test, y_train, y_test = train_test_split(X, y, random_state=135, test_size=.20)\n",
    "\n",
    "ridge.set_params(alpha = 0, normalize = False)\n",
    "ridge.fit(X_train, y_train)"
   ]
  },
  {
   "cell_type": "code",
   "execution_count": 66,
   "metadata": {},
   "outputs": [
    {
     "name": "stdout",
     "output_type": "stream",
     "text": [
      "Error for the training data :  -242.79531104169416\n",
      "Error for the test data :  -4.778953724397249e+24\n"
     ]
    }
   ],
   "source": [
    "print (\"Error for the training data : \", ridge.score(X_train, y_train))\n",
    "print (\"Error for the test data : \", ridge.score(X_test, y_test))"
   ]
  },
  {
   "cell_type": "code",
   "execution_count": 67,
   "metadata": {},
   "outputs": [
    {
     "name": "stdout",
     "output_type": "stream",
     "text": [
      "Train RMSE : 6.1185935926668105\n"
     ]
    }
   ],
   "source": [
    "train_predictions = ridge.predict(X_train)\n",
    "test_predictions = ridge.predict(X_test)\n",
    "\n",
    "print ('Train RMSE :', np.sqrt(mean_squared_error(y_train, train_predictions)))\n",
    "#print ('Test RMSE :', np.sqrt(mean_squared_error(np.log(y_test), np.log(test_predictions))))"
   ]
  },
  {
   "cell_type": "code",
   "execution_count": 68,
   "metadata": {},
   "outputs": [],
   "source": [
    "coefs = []\n",
    "intercepts = []\n",
    "R2_train  = []\n",
    "R2_test  = []\n",
    "alphaRange = np.linspace(1e-3, 6,20)\n",
    "for alpha in alphaRange:\n",
    "        ridge.set_params(alpha=alpha, normalize=True)  \n",
    "        ridge.fit(X_train, y_train)\n",
    "        intercepts.append(ridge.intercept_)\n",
    "        coefs.append(ridge.coef_)\n",
    "        R2_train.append(ridge.score(X_train, y_train))\n",
    "        R2_test.append(ridge.score(X_test, y_test))"
   ]
  },
  {
   "cell_type": "code",
   "execution_count": 69,
   "metadata": {},
   "outputs": [
    {
     "data": {
      "text/plain": [
       "Text(0.5, 1.0, 'Change of Ridge Slopes Varying Alpha')"
      ]
     },
     "execution_count": 69,
     "metadata": {},
     "output_type": "execute_result"
    },
    {
     "data": {
      "image/png": "[encoded data removed]",
      "text/plain": [
       "<Figure size 432x288 with 1 Axes>"
      ]
     },
     "metadata": {
      "needs_background": "light"
     },
     "output_type": "display_data"
    }
   ],
   "source": [
    "coefs = pd.DataFrame(np.array(coefs), columns=X.columns)\n",
    "\n",
    "for name in coefs.columns:\n",
    "    plt.plot(alphaRange, coefs[name], label=name)  \n",
    "plt.title('Change of Ridge Slopes Varying Alpha')"
   ]
  },
  {
   "cell_type": "code",
   "execution_count": 70,
   "metadata": {},
   "outputs": [
    {
     "data": {
      "text/plain": [
       "<matplotlib.legend.Legend at 0x2290b7a57b8>"
      ]
     },
     "execution_count": 70,
     "metadata": {},
     "output_type": "execute_result"
    },
    {
     "data": {
      "image/png": "[encoded data removed]",
      "text/plain": [
       "<Figure size 432x288 with 1 Axes>"
      ]
     },
     "metadata": {
      "needs_background": "light"
     },
     "output_type": "display_data"
    }
   ],
   "source": [
    "plt.plot(alphaRange, R2_train, label=r'train set $R^2$')\n",
    "plt.plot(alphaRange, R2_test, label=r'test set $R^2$')\n",
    "plt.legend(loc=4)"
   ]
  },
  {
   "cell_type": "code",
   "execution_count": 71,
   "metadata": {},
   "outputs": [
    {
     "name": "stdout",
     "output_type": "stream",
     "text": [
      "0.9091671529741868\n",
      "0.9095628141270115\n"
     ]
    }
   ],
   "source": [
    "ridge.set_params(alpha=1.2, normalize=True)\n",
    "ridge_best_alpha = ridge.fit(X_train, y_train)\n",
    "print(ridge_best_alpha.score(X_train, y_train))\n",
    "print(ridge_best_alpha.score(X_test, y_test))"
   ]
  },
  {
   "cell_type": "code",
   "execution_count": 72,
   "metadata": {},
   "outputs": [
    {
     "data": {
      "image/png": "[encoded data removed]",
      "text/plain": [
       "<Figure size 432x288 with 1 Axes>"
      ]
     },
     "metadata": {
      "needs_background": "light"
     },
     "output_type": "display_data"
    }
   ],
   "source": [
    "predictions = ridge_best_alpha.predict(X_test)\n",
    "plt.scatter(predictions, y_test, alpha=1, color='b')\n",
    "plt.xlabel('Predicted Price')\n",
    "plt.ylabel('Actual Price')\n",
    "plt.title('Ridge Regularization with alpha = {}'.format(1.75))\n",
    "plt.show()"
   ]
  },
  {
   "cell_type": "code",
   "execution_count": 73,
   "metadata": {},
   "outputs": [
    {
     "name": "stdout",
     "output_type": "stream",
     "text": [
      "RMSE : 0.12375354460222764\n"
     ]
    }
   ],
   "source": [
    "print ('RMSE :', np.sqrt(mean_squared_error(y_test, predictions)))"
   ]
  },
  {
   "cell_type": "markdown",
   "metadata": {},
   "source": [
    "No significant improvement with ridge regression, but we do have a more robust model from it."
   ]
  },
  {
   "cell_type": "markdown",
   "metadata": {},
   "source": [
    "## Lasso Linear Regression <a class=\"anchor\" id=\"seventh_section\"></a>"
   ]
  },
  {
   "cell_type": "code",
   "execution_count": 53,
   "metadata": {},
   "outputs": [
    {
     "name": "stderr",
     "output_type": "stream",
     "text": [
      "C:\\Users\\bdbot\\Anaconda3\\lib\\site-packages\\ipykernel_launcher.py:5: UserWarning: With alpha=0, this algorithm does not converge well. You are advised to use the LinearRegression estimator\n",
      "  \"\"\"\n",
      "C:\\Users\\bdbot\\Anaconda3\\lib\\site-packages\\sklearn\\linear_model\\_coordinate_descent.py:476: UserWarning: Coordinate descent with no regularization may lead to unexpected results and is discouraged.\n",
      "  positive)\n",
      "C:\\Users\\bdbot\\Anaconda3\\lib\\site-packages\\sklearn\\linear_model\\_coordinate_descent.py:476: ConvergenceWarning: Objective did not converge. You might want to increase the number of iterations. Duality gap: 4.712877649984643, tolerance: 0.017845159866850473\n",
      "  positive)\n"
     ]
    },
    {
     "data": {
      "text/plain": [
       "Lasso(alpha=0, copy_X=True, fit_intercept=True, max_iter=1000, normalize=False,\n",
       "      positive=False, precompute=False, random_state=None, selection='cyclic',\n",
       "      tol=0.0001, warm_start=False)"
      ]
     },
     "execution_count": 53,
     "metadata": {},
     "output_type": "execute_result"
    }
   ],
   "source": [
    "lasso = Lasso()\n",
    "X_train, X_test, y_train, y_test = train_test_split(X, y, random_state=24, test_size=.20)\n",
    "\n",
    "lasso.set_params(alpha = 0,normalize = False)\n",
    "lasso.fit(X_train, y_train)"
   ]
  },
  {
   "cell_type": "code",
   "execution_count": 54,
   "metadata": {},
   "outputs": [
    {
     "name": "stdout",
     "output_type": "stream",
     "text": [
      "Error for the training data :  0.05281967418783817\n",
      "Error for the test data :  0.08089969713159872\n"
     ]
    }
   ],
   "source": [
    "print (\"Error for the training data : \", 1-lasso.score(X_train, y_train))\n",
    "print (\"Error for the test data : \", 1-lasso.score(X_test, y_test))"
   ]
  },
  {
   "cell_type": "code",
   "execution_count": 55,
   "metadata": {},
   "outputs": [
    {
     "name": "stdout",
     "output_type": "stream",
     "text": [
      "Train RMSE : 0.08998737645323263\n",
      "Test RMSE : 0.11740674729028258\n"
     ]
    }
   ],
   "source": [
    "train_predictions = lasso.predict(X_train)\n",
    "test_predictions = lasso.predict(X_test)\n",
    "\n",
    "print ('Train RMSE :', np.sqrt(mean_squared_error(y_train, train_predictions)))\n",
    "print ('Test RMSE :', np.sqrt(mean_squared_error(y_test, test_predictions)))"
   ]
  },
  {
   "cell_type": "code",
   "execution_count": 56,
   "metadata": {},
   "outputs": [],
   "source": [
    "coefs = []\n",
    "intercepts = []\n",
    "R2_train  = []\n",
    "R2_test  = []\n",
    "alphaRange = np.linspace(1e-3, 1, 10)\n",
    "for alpha in alphaRange:\n",
    "        lasso.set_params(alpha=alpha, normalize=False)  \n",
    "        lasso.fit(X_train, y_train)\n",
    "        intercepts.append(lasso.intercept_)\n",
    "        coefs.append(lasso.coef_)\n",
    "        R2_train.append(lasso.score(X_train, y_train))\n",
    "        R2_test.append(lasso.score(X_test, y_test))"
   ]
  },
  {
   "cell_type": "code",
   "execution_count": 57,
   "metadata": {},
   "outputs": [
    {
     "data": {
      "text/plain": [
       "Text(0.5, 1.0, 'Change of Lasso Slopes Varying Alpha')"
      ]
     },
     "execution_count": 57,
     "metadata": {},
     "output_type": "execute_result"
    },
    {
     "data": {
      "image/png": "[encoded data removed]",
      "text/plain": [
       "<Figure size 432x288 with 1 Axes>"
      ]
     },
     "metadata": {
      "needs_background": "light"
     },
     "output_type": "display_data"
    }
   ],
   "source": [
    "coefs = pd.DataFrame(np.array(coefs), columns=X.columns)\n",
    "\n",
    "for name in coefs.columns:\n",
    "    plt.plot(alphaRange, coefs[name], label=name)  \n",
    "plt.title('Change of Lasso Slopes Varying Alpha')"
   ]
  },
  {
   "cell_type": "code",
   "execution_count": 58,
   "metadata": {},
   "outputs": [
    {
     "data": {
      "text/plain": [
       "<matplotlib.legend.Legend at 0x2290b6b2358>"
      ]
     },
     "execution_count": 58,
     "metadata": {},
     "output_type": "execute_result"
    },
    {
     "data": {
      "image/png": "[encoded data removed]",
      "text/plain": [
       "<Figure size 432x288 with 1 Axes>"
      ]
     },
     "metadata": {
      "needs_background": "light"
     },
     "output_type": "display_data"
    }
   ],
   "source": [
    "plt.plot(alphaRange, R2_train, label=r'train set $R^2$')\n",
    "plt.plot(alphaRange, R2_test, label=r'test set $R^2$')\n",
    "plt.legend(loc=4)"
   ]
  },
  {
   "cell_type": "code",
   "execution_count": 59,
   "metadata": {},
   "outputs": [
    {
     "name": "stdout",
     "output_type": "stream",
     "text": [
      "0.7479115191225904\n",
      "0.7652806234786298\n"
     ]
    }
   ],
   "source": [
    "lasso.set_params(alpha=0.1, normalize=False)\n",
    "best_alpha = lasso.fit(X_train, y_train)\n",
    "print(best_alpha.score(X_train, y_train))\n",
    "print(best_alpha.score(X_test, y_test))"
   ]
  },
  {
   "cell_type": "code",
   "execution_count": 60,
   "metadata": {},
   "outputs": [
    {
     "data": {
      "image/png": "[encoded data removed]",
      "text/plain": [
       "<Figure size 432x288 with 1 Axes>"
      ]
     },
     "metadata": {
      "needs_background": "light"
     },
     "output_type": "display_data"
    }
   ],
   "source": [
    "predictions = best_alpha.predict(X_test)\n",
    "plt.scatter(predictions, y_test, alpha=1, color='b')\n",
    "plt.xlabel('Predicted Price')\n",
    "plt.ylabel('Actual Price')\n",
    "plt.title('Lasso Regularization with alpha = {}'.format(0.3))\n",
    "plt.show()"
   ]
  },
  {
   "cell_type": "code",
   "execution_count": 61,
   "metadata": {},
   "outputs": [
    {
     "name": "stdout",
     "output_type": "stream",
     "text": [
      "RMSE : 0.19998346083540963\n"
     ]
    }
   ],
   "source": [
    "print ('RMSE :', np.sqrt(mean_squared_error(y_test, predictions)))"
   ]
  },
  {
   "cell_type": "markdown",
   "metadata": {},
   "source": [
    "Strictly worse performance using Lasso."
   ]
  },
  {
   "cell_type": "markdown",
   "metadata": {},
   "source": [
    "### Predicting Test Set / Submission to Kaggle: <a class=\"anchor\" id=\"eighth_section\"></a>"
   ]
  },
  {
   "cell_type": "markdown",
   "metadata": {},
   "source": [
    "Best performance from the Ridge model, so I am use it to submit predictions of the test data."
   ]
  },
  {
   "cell_type": "code",
   "execution_count": 74,
   "metadata": {},
   "outputs": [],
   "source": [
    "predictions = np.exp(ridge_best_alpha.predict(dummified_test_features))\n",
    "submission = pd.DataFrame()\n",
    "submission['Id'] = test.Id\n",
    "submission['SalePrice'] = predictions\n",
    "submission.to_csv('submission1.csv', index=False)"
   ]
  },
  {
   "cell_type": "code",
   "execution_count": null,
   "metadata": {},
   "outputs": [],
   "source": [
    "# Scored: 0.15293"
   ]
  }
 ],
 "metadata": {
  "kernelspec": {
   "display_name": "Python 3",
   "language": "python",
   "name": "python3"
  },
  "language_info": {
   "codemirror_mode": {
    "name": "ipython",
    "version": 3
   },
   "file_extension": ".py",
   "mimetype": "text/x-python",
   "name": "python",
   "nbconvert_exporter": "python",
   "pygments_lexer": "ipython3",
   "version": "3.7.3"
  }
 },
 "nbformat": 4,
 "nbformat_minor": 2
}
