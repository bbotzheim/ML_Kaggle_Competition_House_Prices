{
 "cells": [
  {
   "cell_type": "markdown",
   "metadata": {},
   "source": [
    "# House Prices: Advanced Regression Techniques"
   ]
  },
  {
   "cell_type": "markdown",
   "metadata": {},
   "source": [
    "Notes:\n",
    "- Handle outliers?"
   ]
  },
  {
   "cell_type": "code",
   "execution_count": 673,
   "metadata": {},
   "outputs": [],
   "source": [
    "import numpy as np\n",
    "import pandas as pd\n",
    "from pandas.plotting import scatter_matrix\n",
    "from matplotlib import pyplot as plt\n",
    "import seaborn as sns\n",
    "\n",
    "train = pd.read_csv('data/train.csv')\n",
    "train = train.set_index('Id')\n",
    "test = pd.read_csv('data/test.csv')\n",
    "\n",
    "features = train.iloc[:, 0:79]\n",
    "target = train.SalePrice"
   ]
  },
  {
   "cell_type": "markdown",
   "metadata": {},
   "source": [
    "## Data Visualization: \n",
    "### What does the data look like?"
   ]
  },
  {
   "cell_type": "code",
   "execution_count": 114,
   "metadata": {},
   "outputs": [
    {
     "data": {
      "text/plain": [
       "count      1460.000000\n",
       "mean     180921.195890\n",
       "std       79442.502883\n",
       "min       34900.000000\n",
       "25%      129975.000000\n",
       "50%      163000.000000\n",
       "75%      214000.000000\n",
       "max      755000.000000\n",
       "Name: SalePrice, dtype: float64"
      ]
     },
     "execution_count": 114,
     "metadata": {},
     "output_type": "execute_result"
    }
   ],
   "source": [
    "target.describe()"
   ]
  },
  {
   "cell_type": "code",
   "execution_count": 115,
   "metadata": {},
   "outputs": [
    {
     "data": {
      "text/plain": [
       "(array([  5.,  11.,  13.,  61.,  58., 126., 165., 180., 122., 130., 121.,\n",
       "         78.,  61.,  64.,  49.,  36.,  36.,  25.,  13.,  25.,  16.,  11.,\n",
       "          4.,  11.,   9.,   5.,   4.,   4.,   4.,   2.,   1.,   1.,   1.,\n",
       "          0.,   1.,   0.,   2.,   0.,   1.,   0.,   2.,   0.,   0.,   0.,\n",
       "          0.,   0.,   0.,   0.,   0.,   2.]),\n",
       " array([ 34900.,  49302.,  63704.,  78106.,  92508., 106910., 121312.,\n",
       "        135714., 150116., 164518., 178920., 193322., 207724., 222126.,\n",
       "        236528., 250930., 265332., 279734., 294136., 308538., 322940.,\n",
       "        337342., 351744., 366146., 380548., 394950., 409352., 423754.,\n",
       "        438156., 452558., 466960., 481362., 495764., 510166., 524568.,\n",
       "        538970., 553372., 567774., 582176., 596578., 610980., 625382.,\n",
       "        639784., 654186., 668588., 682990., 697392., 711794., 726196.,\n",
       "        740598., 755000.]),\n",
       " <a list of 50 Patch objects>)"
      ]
     },
     "execution_count": 115,
     "metadata": {},
     "output_type": "execute_result"
    },
    {
     "data": {
      "image/png": "[encoded data removed]",
      "text/plain": [
       "<Figure size 432x288 with 1 Axes>"
      ]
     },
     "metadata": {
      "needs_background": "light"
     },
     "output_type": "display_data"
    }
   ],
   "source": [
    "plt.hist(target, bins = 50, color = \"#BD9BC2\")"
   ]
  },
  {
   "cell_type": "code",
   "execution_count": 116,
   "metadata": {},
   "outputs": [
    {
     "data": {
      "text/plain": [
       "(array([  2.,   2.,   1.,   0.,   0.,   0.,   2.,   3.,   4.,   3.,   5.,\n",
       "          1.,   5.,  21.,  22.,  23.,  18.,  29.,  58.,  56.,  65., 100.,\n",
       "        122.,  93.,  90.,  82., 108.,  91.,  64.,  55.,  58.,  51.,  46.,\n",
       "         42.,  23.,  29.,  22.,  13.,  13.,  13.,   7.,   5.,   4.,   1.,\n",
       "          2.,   2.,   2.,   0.,   0.,   2.]),\n",
       " array([10.46024211, 10.52172673, 10.58321134, 10.64469596, 10.70618058,\n",
       "        10.7676652 , 10.82914982, 10.89063444, 10.95211906, 11.01360367,\n",
       "        11.07508829, 11.13657291, 11.19805753, 11.25954215, 11.32102677,\n",
       "        11.38251138, 11.443996  , 11.50548062, 11.56696524, 11.62844986,\n",
       "        11.68993448, 11.75141909, 11.81290371, 11.87438833, 11.93587295,\n",
       "        11.99735757, 12.05884219, 12.12032681, 12.18181142, 12.24329604,\n",
       "        12.30478066, 12.36626528, 12.4277499 , 12.48923452, 12.55071913,\n",
       "        12.61220375, 12.67368837, 12.73517299, 12.79665761, 12.85814223,\n",
       "        12.91962684, 12.98111146, 13.04259608, 13.1040807 , 13.16556532,\n",
       "        13.22704994, 13.28853455, 13.35001917, 13.41150379, 13.47298841,\n",
       "        13.53447303]),\n",
       " <a list of 50 Patch objects>)"
      ]
     },
     "execution_count": 116,
     "metadata": {},
     "output_type": "execute_result"
    },
    {
     "data": {
      "image/png": "[encoded data removed]",
      "text/plain": [
       "<Figure size 432x288 with 1 Axes>"
      ]
     },
     "metadata": {
      "needs_background": "light"
     },
     "output_type": "display_data"
    }
   ],
   "source": [
    "plt.hist(np.log(target), bins = 50, color = \"#BD9BC2\")"
   ]
  },
  {
   "cell_type": "code",
   "execution_count": null,
   "metadata": {},
   "outputs": [],
   "source": [
    "# right skew to the target variable, but taking the log corrects corrects much of the issue"
   ]
  },
  {
   "cell_type": "markdown",
   "metadata": {},
   "source": [
    "### Explore the relationship between sale price and other variables:"
   ]
  },
  {
   "cell_type": "markdown",
   "metadata": {},
   "source": [
    "The top 10 correlated features:"
   ]
  },
  {
   "cell_type": "code",
   "execution_count": 118,
   "metadata": {},
   "outputs": [
    {
     "name": "stdout",
     "output_type": "stream",
     "text": [
      "SalePrice      1.000000\n",
      "OverallQual    0.790982\n",
      "GrLivArea      0.708624\n",
      "GarageCars     0.640409\n",
      "GarageArea     0.623431\n",
      "Name: SalePrice, dtype: float64 \n",
      "\n",
      "YrSold          -0.028923\n",
      "OverallCond     -0.077856\n",
      "MSSubClass      -0.084284\n",
      "EnclosedPorch   -0.128578\n",
      "KitchenAbvGr    -0.135907\n",
      "Name: SalePrice, dtype: float64\n"
     ]
    }
   ],
   "source": [
    "numeric_features = train.select_dtypes(include=[np.number])\n",
    "corr = numeric_features.corr()\n",
    "print (corr['SalePrice'].sort_values(ascending=False)[:5], '\\n')\n",
    "print (corr['SalePrice'].sort_values(ascending=False)[-5:])"
   ]
  },
  {
   "cell_type": "markdown",
   "metadata": {},
   "source": [
    "Inspecting the relationships further:"
   ]
  },
  {
   "cell_type": "code",
   "execution_count": 119,
   "metadata": {},
   "outputs": [
    {
     "data": {
      "text/plain": [
       "<seaborn.axisgrid.PairGrid at 0x227a1b6a128>"
      ]
     },
     "execution_count": 119,
     "metadata": {},
     "output_type": "execute_result"
    },
    {
     "data": {
      "image/png": "[encoded data removed]",
      "text/plain": [
       "<Figure size 900x180 with 5 Axes>"
      ]
     },
     "metadata": {
      "needs_background": "light"
     },
     "output_type": "display_data"
    }
   ],
   "source": [
    "sns.pairplot(numeric_features[['SalePrice', 'OverallQual', 'GrLivArea', 'GarageCars', 'GarageArea', 'TotalBsmtSF']], \n",
    "            y_vars=['SalePrice'],\n",
    "            x_vars=['OverallQual', 'GrLivArea', 'GarageCars', 'GarageArea', 'TotalBsmtSF'])"
   ]
  },
  {
   "cell_type": "code",
   "execution_count": 120,
   "metadata": {},
   "outputs": [
    {
     "data": {
      "text/plain": [
       "<seaborn.axisgrid.PairGrid at 0x227aa049080>"
      ]
     },
     "execution_count": 120,
     "metadata": {},
     "output_type": "execute_result"
    },
    {
     "data": {
      "image/png": "[encoded data removed]",
      "text/plain": [
       "<Figure size 900x180 with 5 Axes>"
      ]
     },
     "metadata": {
      "needs_background": "light"
     },
     "output_type": "display_data"
    }
   ],
   "source": [
    "sns.pairplot(numeric_features[['SalePrice', 'KitchenAbvGr', 'EnclosedPorch', 'MSSubClass', 'OverallCond', 'YrSold']],\n",
    "            y_vars= ['SalePrice'], \n",
    "            x_vars = ['KitchenAbvGr', 'EnclosedPorch', 'MSSubClass', 'OverallCond', 'YrSold'])"
   ]
  },
  {
   "cell_type": "code",
   "execution_count": 121,
   "metadata": {},
   "outputs": [
    {
     "data": {
      "text/html": [
       "<div>\n",
       "<style scoped>\n",
       "    .dataframe tbody tr th:only-of-type {\n",
       "        vertical-align: middle;\n",
       "    }\n",
       "\n",
       "    .dataframe tbody tr th {\n",
       "        vertical-align: top;\n",
       "    }\n",
       "\n",
       "    .dataframe thead th {\n",
       "        text-align: right;\n",
       "    }\n",
       "</style>\n",
       "<table border=\"1\" class=\"dataframe\">\n",
       "  <thead>\n",
       "    <tr style=\"text-align: right;\">\n",
       "      <th></th>\n",
       "      <th>MSZoning</th>\n",
       "      <th>Street</th>\n",
       "      <th>Alley</th>\n",
       "      <th>LotShape</th>\n",
       "      <th>LandContour</th>\n",
       "      <th>Utilities</th>\n",
       "      <th>LotConfig</th>\n",
       "      <th>LandSlope</th>\n",
       "      <th>Neighborhood</th>\n",
       "      <th>Condition1</th>\n",
       "      <th>...</th>\n",
       "      <th>GarageType</th>\n",
       "      <th>GarageFinish</th>\n",
       "      <th>GarageQual</th>\n",
       "      <th>GarageCond</th>\n",
       "      <th>PavedDrive</th>\n",
       "      <th>PoolQC</th>\n",
       "      <th>Fence</th>\n",
       "      <th>MiscFeature</th>\n",
       "      <th>SaleType</th>\n",
       "      <th>SaleCondition</th>\n",
       "    </tr>\n",
       "  </thead>\n",
       "  <tbody>\n",
       "    <tr>\n",
       "      <th>count</th>\n",
       "      <td>1460</td>\n",
       "      <td>1460</td>\n",
       "      <td>91</td>\n",
       "      <td>1460</td>\n",
       "      <td>1460</td>\n",
       "      <td>1460</td>\n",
       "      <td>1460</td>\n",
       "      <td>1460</td>\n",
       "      <td>1460</td>\n",
       "      <td>1460</td>\n",
       "      <td>...</td>\n",
       "      <td>1379</td>\n",
       "      <td>1379</td>\n",
       "      <td>1379</td>\n",
       "      <td>1379</td>\n",
       "      <td>1460</td>\n",
       "      <td>7</td>\n",
       "      <td>281</td>\n",
       "      <td>54</td>\n",
       "      <td>1460</td>\n",
       "      <td>1460</td>\n",
       "    </tr>\n",
       "    <tr>\n",
       "      <th>unique</th>\n",
       "      <td>5</td>\n",
       "      <td>2</td>\n",
       "      <td>2</td>\n",
       "      <td>4</td>\n",
       "      <td>4</td>\n",
       "      <td>2</td>\n",
       "      <td>5</td>\n",
       "      <td>3</td>\n",
       "      <td>25</td>\n",
       "      <td>9</td>\n",
       "      <td>...</td>\n",
       "      <td>6</td>\n",
       "      <td>3</td>\n",
       "      <td>5</td>\n",
       "      <td>5</td>\n",
       "      <td>3</td>\n",
       "      <td>3</td>\n",
       "      <td>4</td>\n",
       "      <td>4</td>\n",
       "      <td>9</td>\n",
       "      <td>6</td>\n",
       "    </tr>\n",
       "    <tr>\n",
       "      <th>top</th>\n",
       "      <td>RL</td>\n",
       "      <td>Pave</td>\n",
       "      <td>Grvl</td>\n",
       "      <td>Reg</td>\n",
       "      <td>Lvl</td>\n",
       "      <td>AllPub</td>\n",
       "      <td>Inside</td>\n",
       "      <td>Gtl</td>\n",
       "      <td>NAmes</td>\n",
       "      <td>Norm</td>\n",
       "      <td>...</td>\n",
       "      <td>Attchd</td>\n",
       "      <td>Unf</td>\n",
       "      <td>TA</td>\n",
       "      <td>TA</td>\n",
       "      <td>Y</td>\n",
       "      <td>Gd</td>\n",
       "      <td>MnPrv</td>\n",
       "      <td>Shed</td>\n",
       "      <td>WD</td>\n",
       "      <td>Normal</td>\n",
       "    </tr>\n",
       "    <tr>\n",
       "      <th>freq</th>\n",
       "      <td>1151</td>\n",
       "      <td>1454</td>\n",
       "      <td>50</td>\n",
       "      <td>925</td>\n",
       "      <td>1311</td>\n",
       "      <td>1459</td>\n",
       "      <td>1052</td>\n",
       "      <td>1382</td>\n",
       "      <td>225</td>\n",
       "      <td>1260</td>\n",
       "      <td>...</td>\n",
       "      <td>870</td>\n",
       "      <td>605</td>\n",
       "      <td>1311</td>\n",
       "      <td>1326</td>\n",
       "      <td>1340</td>\n",
       "      <td>3</td>\n",
       "      <td>157</td>\n",
       "      <td>49</td>\n",
       "      <td>1267</td>\n",
       "      <td>1198</td>\n",
       "    </tr>\n",
       "  </tbody>\n",
       "</table>\n",
       "<p>4 rows × 43 columns</p>\n",
       "</div>"
      ],
      "text/plain": [
       "       MSZoning Street Alley LotShape LandContour Utilities LotConfig  \\\n",
       "count      1460   1460    91     1460        1460      1460      1460   \n",
       "unique        5      2     2        4           4         2         5   \n",
       "top          RL   Pave  Grvl      Reg         Lvl    AllPub    Inside   \n",
       "freq       1151   1454    50      925        1311      1459      1052   \n",
       "\n",
       "       LandSlope Neighborhood Condition1  ... GarageType GarageFinish  \\\n",
       "count       1460         1460       1460  ...       1379         1379   \n",
       "unique         3           25          9  ...          6            3   \n",
       "top          Gtl        NAmes       Norm  ...     Attchd          Unf   \n",
       "freq        1382          225       1260  ...        870          605   \n",
       "\n",
       "       GarageQual GarageCond PavedDrive PoolQC  Fence MiscFeature SaleType  \\\n",
       "count        1379       1379       1460      7    281          54     1460   \n",
       "unique          5          5          3      3      4           4        9   \n",
       "top            TA         TA          Y     Gd  MnPrv        Shed       WD   \n",
       "freq         1311       1326       1340      3    157          49     1267   \n",
       "\n",
       "       SaleCondition  \n",
       "count           1460  \n",
       "unique             6  \n",
       "top           Normal  \n",
       "freq            1198  \n",
       "\n",
       "[4 rows x 43 columns]"
      ]
     },
     "execution_count": 121,
     "metadata": {},
     "output_type": "execute_result"
    }
   ],
   "source": [
    "categoricals = features.select_dtypes(exclude=[np.number])\n",
    "categoricals.describe()"
   ]
  },
  {
   "cell_type": "markdown",
   "metadata": {},
   "source": [
    "# Processing Data\n",
    "Handle missingness and dummify categorical variables"
   ]
  },
  {
   "cell_type": "markdown",
   "metadata": {},
   "source": [
    "*When transforming features, it’s important to remember that any transformations that you’ve applied to the training data before fitting the model must be applied to the test data.*"
   ]
  },
  {
   "cell_type": "markdown",
   "metadata": {},
   "source": [
    "### Missingness"
   ]
  },
  {
   "cell_type": "code",
   "execution_count": 122,
   "metadata": {},
   "outputs": [
    {
     "data": {
      "text/html": [
       "<div>\n",
       "<style scoped>\n",
       "    .dataframe tbody tr th:only-of-type {\n",
       "        vertical-align: middle;\n",
       "    }\n",
       "\n",
       "    .dataframe tbody tr th {\n",
       "        vertical-align: top;\n",
       "    }\n",
       "\n",
       "    .dataframe thead th {\n",
       "        text-align: right;\n",
       "    }\n",
       "</style>\n",
       "<table border=\"1\" class=\"dataframe\">\n",
       "  <thead>\n",
       "    <tr style=\"text-align: right;\">\n",
       "      <th></th>\n",
       "      <th>Null Count</th>\n",
       "    </tr>\n",
       "    <tr>\n",
       "      <th>Feature</th>\n",
       "      <th></th>\n",
       "    </tr>\n",
       "  </thead>\n",
       "  <tbody>\n",
       "    <tr>\n",
       "      <th>PoolQC</th>\n",
       "      <td>1453</td>\n",
       "    </tr>\n",
       "    <tr>\n",
       "      <th>MiscFeature</th>\n",
       "      <td>1406</td>\n",
       "    </tr>\n",
       "    <tr>\n",
       "      <th>Alley</th>\n",
       "      <td>1369</td>\n",
       "    </tr>\n",
       "    <tr>\n",
       "      <th>Fence</th>\n",
       "      <td>1179</td>\n",
       "    </tr>\n",
       "    <tr>\n",
       "      <th>FireplaceQu</th>\n",
       "      <td>690</td>\n",
       "    </tr>\n",
       "    <tr>\n",
       "      <th>LotFrontage</th>\n",
       "      <td>259</td>\n",
       "    </tr>\n",
       "    <tr>\n",
       "      <th>GarageYrBlt</th>\n",
       "      <td>81</td>\n",
       "    </tr>\n",
       "    <tr>\n",
       "      <th>GarageType</th>\n",
       "      <td>81</td>\n",
       "    </tr>\n",
       "    <tr>\n",
       "      <th>GarageFinish</th>\n",
       "      <td>81</td>\n",
       "    </tr>\n",
       "    <tr>\n",
       "      <th>GarageQual</th>\n",
       "      <td>81</td>\n",
       "    </tr>\n",
       "    <tr>\n",
       "      <th>GarageCond</th>\n",
       "      <td>81</td>\n",
       "    </tr>\n",
       "    <tr>\n",
       "      <th>BsmtFinType2</th>\n",
       "      <td>38</td>\n",
       "    </tr>\n",
       "    <tr>\n",
       "      <th>BsmtExposure</th>\n",
       "      <td>38</td>\n",
       "    </tr>\n",
       "    <tr>\n",
       "      <th>BsmtFinType1</th>\n",
       "      <td>37</td>\n",
       "    </tr>\n",
       "    <tr>\n",
       "      <th>BsmtCond</th>\n",
       "      <td>37</td>\n",
       "    </tr>\n",
       "    <tr>\n",
       "      <th>BsmtQual</th>\n",
       "      <td>37</td>\n",
       "    </tr>\n",
       "    <tr>\n",
       "      <th>MasVnrArea</th>\n",
       "      <td>8</td>\n",
       "    </tr>\n",
       "    <tr>\n",
       "      <th>MasVnrType</th>\n",
       "      <td>8</td>\n",
       "    </tr>\n",
       "    <tr>\n",
       "      <th>Electrical</th>\n",
       "      <td>1</td>\n",
       "    </tr>\n",
       "  </tbody>\n",
       "</table>\n",
       "</div>"
      ],
      "text/plain": [
       "              Null Count\n",
       "Feature                 \n",
       "PoolQC              1453\n",
       "MiscFeature         1406\n",
       "Alley               1369\n",
       "Fence               1179\n",
       "FireplaceQu          690\n",
       "LotFrontage          259\n",
       "GarageYrBlt           81\n",
       "GarageType            81\n",
       "GarageFinish          81\n",
       "GarageQual            81\n",
       "GarageCond            81\n",
       "BsmtFinType2          38\n",
       "BsmtExposure          38\n",
       "BsmtFinType1          37\n",
       "BsmtCond              37\n",
       "BsmtQual              37\n",
       "MasVnrArea             8\n",
       "MasVnrType             8\n",
       "Electrical             1"
      ]
     },
     "execution_count": 122,
     "metadata": {},
     "output_type": "execute_result"
    }
   ],
   "source": [
    "missingCols = features.isnull().any(axis=0)\n",
    "nulls = pd.DataFrame(features[features.columns[missingCols]].isnull().sum().sort_values(ascending=False))\n",
    "nulls.columns = ['Null Count']\n",
    "nulls.index.name = 'Feature'\n",
    "nulls"
   ]
  },
  {
   "cell_type": "markdown",
   "metadata": {},
   "source": [
    "Continuous Variables:\n",
    "Can impute mean or 0. Using mean for now, and 0 for the variable where 0 makes sense (No Masonry Veneer area = sqft is 0). "
   ]
  },
  {
   "cell_type": "code",
   "execution_count": 123,
   "metadata": {},
   "outputs": [
    {
     "data": {
      "text/plain": [
       "Index(['LotFrontage', 'MasVnrArea', 'GarageYrBlt'], dtype='object')"
      ]
     },
     "execution_count": 123,
     "metadata": {},
     "output_type": "execute_result"
    }
   ],
   "source": [
    "numeric_features.columns[numeric_features.isnull().any(axis=0)]"
   ]
  },
  {
   "cell_type": "code",
   "execution_count": 124,
   "metadata": {},
   "outputs": [],
   "source": [
    "features['LotFrontage'] = features['LotFrontage'].fillna(features['LotFrontage'].mean())\n",
    "features['GarageYrBlt'] = features['GarageYrBlt'].fillna(features['GarageYrBlt'].mean())\n",
    "features['MasVnrArea'] = features['MasVnrArea'].fillna(0)"
   ]
  },
  {
   "cell_type": "markdown",
   "metadata": {},
   "source": [
    "Categorical Variables:\n",
    "Data description confirms that NAs here means the feature doesn't exist at the house. Since these are categorical, making the lack of feature a category is natural. One row seems to be missing completely at random from the 'Electrical' column, so I am dropping that row."
   ]
  },
  {
   "cell_type": "code",
   "execution_count": 125,
   "metadata": {},
   "outputs": [],
   "source": [
    "features['PoolQC'] = features['PoolQC'].fillna('No Pool')\n",
    "features['MiscFeature'] = features['MiscFeature'].fillna('None')\n",
    "features['Alley'] = features['Alley'].fillna('No alley access')\n",
    "features['Fence'] = features['Fence'].fillna('No Fence')\n",
    "features['FireplaceQu'] = features['FireplaceQu'].fillna('No Fireplace')\n",
    "features['GarageCond'] = features['GarageCond'].fillna('No Garage')\n",
    "features['GarageQual'] = features['GarageQual'].fillna('No Garage')\n",
    "features['GarageFinish'] = features['GarageFinish'].fillna('No Garage')\n",
    "features['GarageType'] = features['GarageType'].fillna('No Garage')\n",
    "features['BsmtFinType2'] = features['BsmtFinType2'].fillna('No Basement')\n",
    "features['BsmtExposure'] = features['BsmtExposure'].fillna('No Basement')\n",
    "features['BsmtFinType1'] = features['BsmtFinType1'].fillna('No Basement')\n",
    "features['BsmtCond'] = features['BsmtCond'].fillna('No Basement')\n",
    "features['BsmtQual'] = features['BsmtQual'].fillna('No Basement')\n",
    "features['MasVnrType'] = features['MasVnrType'].fillna('None')"
   ]
  },
  {
   "cell_type": "code",
   "execution_count": 126,
   "metadata": {},
   "outputs": [],
   "source": [
    "#drop missing electrical row\n",
    "missingRows = features.isnull().any(axis=1)\n",
    "features = features[-missingRows]\n",
    "target = target[-missingRows]"
   ]
  },
  {
   "cell_type": "markdown",
   "metadata": {},
   "source": [
    "### Dummify Categorical Variables\n",
    "For linear regression only"
   ]
  },
  {
   "cell_type": "code",
   "execution_count": 127,
   "metadata": {},
   "outputs": [],
   "source": [
    "# Features for MLR use only:\n",
    "encoded_features = features.copy()\n",
    "# Binary Categorical Variables can be changed to 0 or 1:\n",
    "encoded_features['Street'] = encoded_features['Street'].apply(lambda x: 0 if x == 'Pave' else 1)\n",
    "encoded_features['Utilities'] = encoded_features['Utilities'].apply(lambda x: 0 if x == 'AllPub' else 1)\n",
    "encoded_features['CentralAir'] = encoded_features['CentralAir'].apply(lambda x: 0 if x == 'N' else 1)"
   ]
  },
  {
   "cell_type": "code",
   "execution_count": 128,
   "metadata": {},
   "outputs": [
    {
     "data": {
      "text/plain": [
       "['MSZoning',\n",
       " 'Alley',\n",
       " 'LotShape',\n",
       " 'LandContour',\n",
       " 'LotConfig',\n",
       " 'LandSlope',\n",
       " 'Neighborhood',\n",
       " 'Condition1',\n",
       " 'Condition2',\n",
       " 'BldgType',\n",
       " 'HouseStyle',\n",
       " 'RoofStyle',\n",
       " 'RoofMatl',\n",
       " 'Exterior1st',\n",
       " 'Exterior2nd',\n",
       " 'MasVnrType',\n",
       " 'ExterQual',\n",
       " 'ExterCond',\n",
       " 'Foundation',\n",
       " 'BsmtQual',\n",
       " 'BsmtCond',\n",
       " 'BsmtExposure',\n",
       " 'BsmtFinType1',\n",
       " 'BsmtFinType2',\n",
       " 'Heating',\n",
       " 'HeatingQC',\n",
       " 'Electrical',\n",
       " 'KitchenQual',\n",
       " 'Functional',\n",
       " 'FireplaceQu',\n",
       " 'GarageType',\n",
       " 'GarageFinish',\n",
       " 'GarageQual',\n",
       " 'GarageCond',\n",
       " 'PavedDrive',\n",
       " 'PoolQC',\n",
       " 'Fence',\n",
       " 'MiscFeature',\n",
       " 'SaleType',\n",
       " 'SaleCondition']"
      ]
     },
     "execution_count": 128,
     "metadata": {},
     "output_type": "execute_result"
    }
   ],
   "source": [
    "categoricals = encoded_features.select_dtypes(exclude=[np.number])\n",
    "cat_columns = ['MSZoning', 'Alley', 'LotShape', 'LandContour', 'LotConfig',\n",
    "       'LandSlope', 'Neighborhood', 'Condition1', 'Condition2', 'BldgType',\n",
    "       'HouseStyle', 'RoofStyle', 'RoofMatl', 'Exterior1st', 'Exterior2nd',\n",
    "       'MasVnrType', 'ExterQual', 'ExterCond', 'Foundation', 'BsmtQual',\n",
    "       'BsmtCond', 'BsmtExposure', 'BsmtFinType1', 'BsmtFinType2', 'Heating',\n",
    "       'HeatingQC', 'Electrical', 'KitchenQual', 'Functional', 'FireplaceQu',\n",
    "       'GarageType', 'GarageFinish', 'GarageQual', 'GarageCond', 'PavedDrive',\n",
    "       'PoolQC', 'Fence', 'MiscFeature', 'SaleType', 'SaleCondition']\n",
    "cat_columns"
   ]
  },
  {
   "cell_type": "code",
   "execution_count": 129,
   "metadata": {},
   "outputs": [
    {
     "data": {
      "image/png": "[encoded data removed]",
      "text/plain": [
       "<Figure size 432x288 with 1 Axes>"
      ]
     },
     "metadata": {
      "needs_background": "light"
     },
     "output_type": "display_data"
    }
   ],
   "source": [
    "pivot = train.pivot_table(index='SaleType', values='SalePrice', aggfunc=np.median)\n",
    "pivot.plot(kind='bar', color='green')\n",
    "plt.xlabel('SaleType')\n",
    "plt.ylabel('Median Sale Price')\n",
    "plt.xticks(rotation=0)\n",
    "plt.show()"
   ]
  },
  {
   "cell_type": "code",
   "execution_count": 130,
   "metadata": {},
   "outputs": [
    {
     "name": "stdout",
     "output_type": "stream",
     "text": [
      "(1459, 259)\n"
     ]
    }
   ],
   "source": [
    "for variable in cat_columns:\n",
    "    dummy = pd.get_dummies(encoded_features[variable], prefix=variable)\n",
    "    dummy.drop('_'.join([variable, encoded_features[variable][1]]), axis=1, inplace=True) # \n",
    "    encoded_features = encoded_features.drop(variable, axis=1)  # drop the original feature\n",
    "    encoded_features = pd.concat([encoded_features, dummy], axis=1) # concat original df and dummy horizontally\n",
    "print(encoded_features.shape)"
   ]
  },
  {
   "cell_type": "code",
   "execution_count": 131,
   "metadata": {},
   "outputs": [
    {
     "name": "stdout",
     "output_type": "stream",
     "text": [
      "Index(['MSSubClass', 'LotFrontage', 'LotArea', 'Street', 'Utilities',\n",
      "       'OverallQual', 'OverallCond', 'YearBuilt', 'YearRemodAdd', 'MasVnrArea',\n",
      "       ...\n",
      "       'SaleType_ConLD', 'SaleType_ConLI', 'SaleType_ConLw', 'SaleType_New',\n",
      "       'SaleType_Oth', 'SaleCondition_Abnorml', 'SaleCondition_AdjLand',\n",
      "       'SaleCondition_Alloca', 'SaleCondition_Family',\n",
      "       'SaleCondition_Partial'],\n",
      "      dtype='object', length=259)\n"
     ]
    }
   ],
   "source": [
    "print(encoded_features.columns)"
   ]
  },
  {
   "cell_type": "markdown",
   "metadata": {},
   "source": [
    "### Performing the same for the Test Data:"
   ]
  },
  {
   "cell_type": "markdown",
   "metadata": {},
   "source": [
    "Reduce test features:"
   ]
  },
  {
   "cell_type": "code",
   "execution_count": 1,
   "metadata": {},
   "outputs": [
    {
     "ename": "NameError",
     "evalue": "name 'pd' is not defined",
     "output_type": "error",
     "traceback": [
      "\u001b[1;31m---------------------------------------------------------------------------\u001b[0m",
      "\u001b[1;31mNameError\u001b[0m                                 Traceback (most recent call last)",
      "\u001b[1;32m<ipython-input-1-3b3ad94fe412>\u001b[0m in \u001b[0;36m<module>\u001b[1;34m\u001b[0m\n\u001b[1;32m----> 1\u001b[1;33m \u001b[0mtest\u001b[0m \u001b[1;33m=\u001b[0m \u001b[0mpd\u001b[0m\u001b[1;33m.\u001b[0m\u001b[0mread_csv\u001b[0m\u001b[1;33m(\u001b[0m\u001b[1;34m'data/test.csv'\u001b[0m\u001b[1;33m)\u001b[0m\u001b[1;33m\u001b[0m\u001b[1;33m\u001b[0m\u001b[0m\n\u001b[0m\u001b[0;32m      2\u001b[0m \u001b[0mfinal_test\u001b[0m \u001b[1;33m=\u001b[0m \u001b[0mtest\u001b[0m\u001b[1;33m[\u001b[0m\u001b[0mreduced_variable_names\u001b[0m\u001b[1;33m]\u001b[0m\u001b[1;33m.\u001b[0m\u001b[0mcopy\u001b[0m\u001b[1;33m(\u001b[0m\u001b[1;33m)\u001b[0m\u001b[1;33m\u001b[0m\u001b[1;33m\u001b[0m\u001b[0m\n",
      "\u001b[1;31mNameError\u001b[0m: name 'pd' is not defined"
     ]
    }
   ],
   "source": [
    "test = pd.read_csv('data/test.csv')\n",
    "final_test = test[reduced_variable_names].copy()"
   ]
  },
  {
   "cell_type": "code",
   "execution_count": 630,
   "metadata": {},
   "outputs": [
    {
     "data": {
      "text/html": [
       "<div>\n",
       "<style scoped>\n",
       "    .dataframe tbody tr th:only-of-type {\n",
       "        vertical-align: middle;\n",
       "    }\n",
       "\n",
       "    .dataframe tbody tr th {\n",
       "        vertical-align: top;\n",
       "    }\n",
       "\n",
       "    .dataframe thead th {\n",
       "        text-align: right;\n",
       "    }\n",
       "</style>\n",
       "<table border=\"1\" class=\"dataframe\">\n",
       "  <thead>\n",
       "    <tr style=\"text-align: right;\">\n",
       "      <th></th>\n",
       "      <th>Null Count</th>\n",
       "    </tr>\n",
       "    <tr>\n",
       "      <th>Feature</th>\n",
       "      <th></th>\n",
       "    </tr>\n",
       "  </thead>\n",
       "  <tbody>\n",
       "  </tbody>\n",
       "</table>\n",
       "</div>"
      ],
      "text/plain": [
       "Empty DataFrame\n",
       "Columns: [Null Count]\n",
       "Index: []"
      ]
     },
     "execution_count": 630,
     "metadata": {},
     "output_type": "execute_result"
    }
   ],
   "source": [
    "missingCols = final_test.isnull().any(axis=0)\n",
    "nulls = pd.DataFrame(final_test[final_test.columns[missingCols]].isnull().sum().sort_values(ascending=False))\n",
    "nulls.columns = ['Null Count']\n",
    "nulls.index.name = 'Feature'\n",
    "nulls"
   ]
  },
  {
   "cell_type": "code",
   "execution_count": 623,
   "metadata": {},
   "outputs": [
    {
     "data": {
      "text/plain": [
       "Index(['BsmtFinSF1', 'TotalBsmtSF', 'GarageYrBlt', 'GarageCars', 'GarageArea'], dtype='object')"
      ]
     },
     "execution_count": 623,
     "metadata": {},
     "output_type": "execute_result"
    }
   ],
   "source": [
    "numeric_test = final_test.select_dtypes(include=[np.number])\n",
    "numeric_test.columns[numeric_test.isnull().any(axis=0)]"
   ]
  },
  {
   "cell_type": "code",
   "execution_count": 626,
   "metadata": {},
   "outputs": [],
   "source": [
    "final_test['GarageCond'] = final_test['GarageCond'].fillna('No Garage')\n",
    "final_test['GarageQual'] = final_test['GarageQual'].fillna('No Garage')\n",
    "final_test['GarageArea'] = final_test['GarageArea'].fillna(0)\n",
    "final_test['GarageCars'] = final_test['GarageCars'].fillna(0)\n",
    "final_test['GarageYrBlt'] = final_test['GarageYrBlt'].fillna(features['GarageYrBlt'].mean())\n",
    "final_test['BsmtCond'] = final_test['BsmtCond'].fillna('No Basement')\n",
    "final_test['BsmtQual'] = final_test['BsmtQual'].fillna('No Basement')\n",
    "final_test['TotalBsmtSF'] = final_test['TotalBsmtSF'].fillna(final_test['TotalBsmtSF'].mean())\n",
    "final_test['BsmtFinSF1'] = final_test['BsmtFinSF1'].fillna(final_test['BsmtFinSF1'].mean())\n",
    "final_test['MSZoning'] = final_test['MSZoning'].fillna(final_test['MSZoning'].mode()[0])\n",
    "final_test['KitchenQual'] = final_test['KitchenQual'].fillna(final_test['KitchenQual'].mode()[0])\n",
    "final_test['SaleType'] = final_test['SaleType'].fillna(final_test['SaleType'].mode()[0])"
   ]
  },
  {
   "cell_type": "code",
   "execution_count": 628,
   "metadata": {},
   "outputs": [],
   "source": [
    "final_test['CentralAir'] = final_test['CentralAir'].apply(lambda x: 0 if x == 'N' else 1)\n",
    "final_test['MSSubClass'] = final_test['MSSubClass'].astype(str)"
   ]
  },
  {
   "cell_type": "code",
   "execution_count": 629,
   "metadata": {},
   "outputs": [
    {
     "name": "stdout",
     "output_type": "stream",
     "text": [
      "(1459, 124)\n"
     ]
    }
   ],
   "source": [
    "for variable in reduced_categoricals:\n",
    "    dummy = pd.get_dummies(final_test[variable], prefix=variable)\n",
    "    dummy.drop('_'.join([variable, final_test[variable][1]]), axis=1, inplace=True) # \n",
    "    final_test = final_test.drop(variable, axis=1)  # drop the original feature\n",
    "    final_test = pd.concat([final_test, dummy], axis=1) # concat original df and dummy horizontally\n",
    "print(final_test.shape)"
   ]
  },
  {
   "cell_type": "code",
   "execution_count": 646,
   "metadata": {},
   "outputs": [
    {
     "name": "stdout",
     "output_type": "stream",
     "text": [
      "(1459, 134)\n",
      "(1459, 134)\n"
     ]
    }
   ],
   "source": [
    "# 124 columns instead of 134. Need to make these match:\n",
    "missing_cols = set( reduced_features.columns ) - set(final_test.columns )\n",
    "for c in missing_cols:\n",
    "    final_test[c] = 0\n",
    "final_test = final_test[reduced_features.columns]\n",
    "print(final_test.shape)\n",
    "print(reduced_features.shape)"
   ]
  },
  {
   "cell_type": "markdown",
   "metadata": {},
   "source": [
    "### Reducing Variables:"
   ]
  },
  {
   "cell_type": "code",
   "execution_count": 464,
   "metadata": {},
   "outputs": [
    {
     "data": {
      "text/plain": [
       "Index(['MSSubClass', 'LotFrontage', 'LotArea', 'OverallQual', 'OverallCond',\n",
       "       'YearBuilt', 'YearRemodAdd', 'MasVnrArea', 'BsmtFinSF1', 'BsmtFinSF2',\n",
       "       'BsmtUnfSF', 'TotalBsmtSF', '1stFlrSF', '2ndFlrSF', 'LowQualFinSF',\n",
       "       'GrLivArea', 'BsmtFullBath', 'BsmtHalfBath', 'FullBath', 'HalfBath',\n",
       "       'BedroomAbvGr', 'KitchenAbvGr', 'TotRmsAbvGrd', 'Fireplaces',\n",
       "       'GarageYrBlt', 'GarageCars', 'GarageArea', 'WoodDeckSF', 'OpenPorchSF',\n",
       "       'EnclosedPorch', '3SsnPorch', 'ScreenPorch', 'PoolArea', 'MiscVal',\n",
       "       'MoSold', 'YrSold', 'SalePrice'],\n",
       "      dtype='object')"
      ]
     },
     "execution_count": 464,
     "metadata": {},
     "output_type": "execute_result"
    }
   ],
   "source": [
    "numeric_features.columns"
   ]
  },
  {
   "cell_type": "code",
   "execution_count": 463,
   "metadata": {},
   "outputs": [
    {
     "data": {
      "text/plain": [
       "Index(['MSZoning', 'Alley', 'LotShape', 'LandContour', 'LotConfig',\n",
       "       'LandSlope', 'Neighborhood', 'Condition1', 'Condition2', 'BldgType',\n",
       "       'HouseStyle', 'RoofStyle', 'RoofMatl', 'Exterior1st', 'Exterior2nd',\n",
       "       'MasVnrType', 'ExterQual', 'ExterCond', 'Foundation', 'BsmtQual',\n",
       "       'BsmtCond', 'BsmtExposure', 'BsmtFinType1', 'BsmtFinType2', 'Heating',\n",
       "       'HeatingQC', 'Electrical', 'KitchenQual', 'Functional', 'FireplaceQu',\n",
       "       'GarageType', 'GarageFinish', 'GarageQual', 'GarageCond', 'PavedDrive',\n",
       "       'PoolQC', 'Fence', 'MiscFeature', 'SaleType', 'SaleCondition'],\n",
       "      dtype='object')"
      ]
     },
     "execution_count": 463,
     "metadata": {},
     "output_type": "execute_result"
    }
   ],
   "source": [
    "categoricals.columns"
   ]
  },
  {
   "cell_type": "code",
   "execution_count": 486,
   "metadata": {},
   "outputs": [
    {
     "data": {
      "text/plain": [
       "(1459, 34)"
      ]
     },
     "execution_count": 486,
     "metadata": {},
     "output_type": "execute_result"
    }
   ],
   "source": [
    "reduced_numericals = ['LotArea', 'OverallQual', 'OverallCond','YearBuilt', 'YearRemodAdd', \n",
    "                      'BsmtFinSF1', 'TotalBsmtSF', '1stFlrSF', '2ndFlrSF', 'FullBath', \n",
    "                      'GrLivArea', 'GarageYrBlt', 'GarageCars', 'GarageArea', 'TotRmsAbvGrd', \n",
    "                      'Fireplaces', 'CentralAir']\n",
    "reduced_categoricals = ['MSSubClass', 'MSZoning', 'Condition1', 'Condition2', 'Neighborhood', \n",
    "                        'ExterQual', 'ExterCond', 'SaleType', 'SaleCondition',  'GarageQual', \n",
    "                        'GarageCond', 'HouseStyle', 'RoofMatl', 'BsmtQual',\n",
    "                       'BsmtCond', 'Heating', 'KitchenQual']\n",
    "reduced_variable_names = (reduced_numericals+reduced_categoricals)\n",
    "reduced_features = features[reduced_variable_names].copy()\n",
    "reduced_features.shape"
   ]
  },
  {
   "cell_type": "code",
   "execution_count": 488,
   "metadata": {},
   "outputs": [],
   "source": [
    "reduced_features['CentralAir'] = reduced_features['CentralAir'].apply(lambda x: 0 if x == 'N' else 1)\n",
    "reduced_features['MSSubClass'] = reduced_features['MSSubClass'].astype(str)"
   ]
  },
  {
   "cell_type": "code",
   "execution_count": 506,
   "metadata": {},
   "outputs": [
    {
     "name": "stdout",
     "output_type": "stream",
     "text": [
      "(1459, 134)\n"
     ]
    }
   ],
   "source": [
    "for variable in reduced_categoricals:\n",
    "    dummy = pd.get_dummies(reduced_features[variable], prefix=variable)\n",
    "    dummy.drop('_'.join([variable, reduced_features[variable][1]]), axis=1, inplace=True) # \n",
    "    reduced_features = reduced_features.drop(variable, axis=1)  # drop the original feature\n",
    "    reduced_features = pd.concat([reduced_features, dummy], axis=1) # concat original df and dummy horizontally\n",
    "print(reduced_features.shape)"
   ]
  },
  {
   "cell_type": "markdown",
   "metadata": {},
   "source": [
    "# Linear Regression"
   ]
  },
  {
   "cell_type": "code",
   "execution_count": 704,
   "metadata": {},
   "outputs": [],
   "source": [
    "from sklearn import linear_model\n",
    "from sklearn.model_selection import train_test_split\n",
    "from sklearn.metrics import mean_squared_error\n",
    "\n",
    "y = np.log(target)\n",
    "X = encoded_features\n",
    "\n",
    "X_train, X_test, y_train, y_test = train_test_split(X, y, random_state=78, test_size=.20)\n",
    "mlr = linear_model.LinearRegression()\n",
    "saturated_model = mlr.fit(X_train, y_train)"
   ]
  },
  {
   "cell_type": "code",
   "execution_count": 705,
   "metadata": {},
   "outputs": [
    {
     "name": "stdout",
     "output_type": "stream",
     "text": [
      "R^2 for the training data :  0.9456908104538988\n",
      "R^2 for the test data :  0.8872248952327703\n"
     ]
    }
   ],
   "source": [
    "print (\"R^2 for the training data : \", saturated_model.score(X_train, y_train))\n",
    "print (\"R^2 for the test data : \", saturated_model.score(X_test, y_test))"
   ]
  },
  {
   "cell_type": "code",
   "execution_count": 706,
   "metadata": {},
   "outputs": [
    {
     "name": "stdout",
     "output_type": "stream",
     "text": [
      "RMSE : 0.1332132881060071\n"
     ]
    }
   ],
   "source": [
    "from sklearn.metrics import mean_squared_error\n",
    "predictions = saturated_model.predict(X_test)\n",
    "print ('RMSE :', np.sqrt(mean_squared_error(y_test, predictions)))"
   ]
  },
  {
   "cell_type": "code",
   "execution_count": 707,
   "metadata": {},
   "outputs": [
    {
     "name": "stderr",
     "output_type": "stream",
     "text": [
      "D:\\Anaconda\\lib\\site-packages\\numpy\\core\\fromnumeric.py:2223: FutureWarning: Method .ptp is deprecated and will be removed in a future version. Use numpy.ptp instead.\n",
      "  return ptp(axis=axis, out=out, **kwargs)\n",
      "D:\\Anaconda\\lib\\site-packages\\statsmodels\\base\\model.py:1100: RuntimeWarning: invalid value encountered in true_divide\n",
      "  return self.params / self.bse\n",
      "D:\\Anaconda\\lib\\site-packages\\scipy\\stats\\_distn_infrastructure.py:877: RuntimeWarning: invalid value encountered in greater\n",
      "  return (self.a < x) & (x < self.b)\n",
      "D:\\Anaconda\\lib\\site-packages\\scipy\\stats\\_distn_infrastructure.py:877: RuntimeWarning: invalid value encountered in less\n",
      "  return (self.a < x) & (x < self.b)\n",
      "D:\\Anaconda\\lib\\site-packages\\scipy\\stats\\_distn_infrastructure.py:1831: RuntimeWarning: invalid value encountered in less_equal\n",
      "  cond2 = cond0 & (x <= self.a)\n"
     ]
    },
    {
     "name": "stdout",
     "output_type": "stream",
     "text": [
      "                            OLS Regression Results                            \n",
      "==============================================================================\n",
      "Dep. Variable:              SalePrice   R-squared:                       0.946\n",
      "Model:                            OLS   Adj. R-squared:                  0.931\n",
      "Method:                 Least Squares   F-statistic:                     66.49\n",
      "Date:                Tue, 14 Apr 2020   Prob (F-statistic):               0.00\n",
      "Time:                        18:39:25   Log-Likelihood:                 1112.8\n",
      "No. Observations:                1167   AIC:                            -1740.\n",
      "Df Residuals:                     924   BIC:                            -509.6\n",
      "Df Model:                         242                                         \n",
      "Covariance Type:            nonrobust                                         \n",
      "============================================================================================\n",
      "                               coef    std err          t      P>|t|      [0.025      0.975]\n",
      "--------------------------------------------------------------------------------------------\n",
      "const                        7.3225      5.573      1.314      0.189      -3.615      18.260\n",
      "MSSubClass                  -0.0006      0.000     -1.509      0.132      -0.001       0.000\n",
      "LotFrontage                  0.0003      0.000      1.296      0.195      -0.000       0.001\n",
      "LotArea                   4.093e-06   7.31e-07      5.595      0.000    2.66e-06    5.53e-06\n",
      "Street                       0.1324      0.121      1.091      0.275      -0.106       0.370\n",
      "Utilities                   -0.2725      0.128     -2.125      0.034      -0.524      -0.021\n",
      "OverallQual                  0.0376      0.005      6.957      0.000       0.027       0.048\n",
      "OverallCond                  0.0380      0.005      8.031      0.000       0.029       0.047\n",
      "YearBuilt                    0.0018      0.000      4.362      0.000       0.001       0.003\n",
      "YearRemodAdd                 0.0006      0.000      2.136      0.033    5.24e-05       0.001\n",
      "MasVnrArea                9.647e-06   3.02e-05      0.319      0.749   -4.96e-05    6.89e-05\n",
      "BsmtFinSF1                4.523e-05   1.52e-05      2.985      0.003    1.55e-05     7.5e-05\n",
      "BsmtFinSF2                5.503e-05   3.14e-05      1.755      0.080    -6.5e-06       0.000\n",
      "BsmtUnfSF                -4.831e-06   1.45e-05     -0.334      0.739   -3.32e-05    2.36e-05\n",
      "TotalBsmtSF               9.543e-05   2.16e-05      4.417      0.000     5.3e-05       0.000\n",
      "CentralAir                   0.0738      0.022      3.404      0.001       0.031       0.116\n",
      "1stFlrSF                  7.794e-05   3.32e-05      2.345      0.019    1.27e-05       0.000\n",
      "2ndFlrSF                  8.898e-05   2.84e-05      3.130      0.002    3.32e-05       0.000\n",
      "LowQualFinSF             -3.805e-05   7.18e-05     -0.530      0.596      -0.000       0.000\n",
      "GrLivArea                    0.0001   2.96e-05      4.360      0.000    7.09e-05       0.000\n",
      "BsmtFullBath                 0.0387      0.010      3.721      0.000       0.018       0.059\n",
      "BsmtHalfBath                 0.0129      0.016      0.817      0.414      -0.018       0.044\n",
      "FullBath                     0.0263      0.012      2.233      0.026       0.003       0.049\n",
      "HalfBath                     0.0248      0.011      2.267      0.024       0.003       0.046\n",
      "BedroomAbvGr                 0.0071      0.007      0.969      0.333      -0.007       0.021\n",
      "KitchenAbvGr                -0.0387      0.030     -1.299      0.194      -0.097       0.020\n",
      "TotRmsAbvGrd                 0.0045      0.005      0.885      0.376      -0.005       0.014\n",
      "Fireplaces                   0.0119      0.014      0.855      0.393      -0.015       0.039\n",
      "GarageYrBlt                 -0.0004      0.000     -1.244      0.214      -0.001       0.000\n",
      "GarageCars                   0.0092      0.012      0.755      0.451      -0.015       0.033\n",
      "GarageArea                   0.0002   4.43e-05      4.039      0.000    9.19e-05       0.000\n",
      "WoodDeckSF                8.259e-05   3.09e-05      2.671      0.008    2.19e-05       0.000\n",
      "OpenPorchSF               1.637e-05   5.98e-05      0.274      0.784      -0.000       0.000\n",
      "EnclosedPorch                0.0001   6.66e-05      1.609      0.108   -2.35e-05       0.000\n",
      "3SsnPorch                    0.0002      0.000      1.542      0.123   -4.65e-05       0.000\n",
      "ScreenPorch                  0.0003   6.58e-05      3.944      0.000       0.000       0.000\n",
      "PoolArea                     0.0005      0.000      3.669      0.000       0.000       0.001\n",
      "MiscVal                   -1.15e-05   3.37e-05     -0.342      0.733   -7.76e-05    5.46e-05\n",
      "MoSold                      -0.0002      0.001     -0.120      0.905      -0.003       0.002\n",
      "YrSold                      -0.0002      0.003     -0.072      0.942      -0.006       0.005\n",
      "MSZoning_C (all)            -0.4892      0.053     -9.197      0.000      -0.594      -0.385\n",
      "MSZoning_FV                  0.0316      0.035      0.908      0.364      -0.037       0.100\n",
      "MSZoning_RH                  0.0118      0.035      0.339      0.735      -0.057       0.080\n",
      "MSZoning_RM                 -0.0306      0.019     -1.596      0.111      -0.068       0.007\n",
      "Alley_Grvl                   0.0068      0.021      0.317      0.751      -0.035       0.049\n",
      "Alley_Pave                   0.0308      0.027      1.155      0.248      -0.022       0.083\n",
      "LotShape_IR1                -0.0067      0.008     -0.790      0.430      -0.023       0.010\n",
      "LotShape_IR2                -0.0250      0.025     -0.991      0.322      -0.075       0.025\n",
      "LotShape_IR3                 0.0272      0.050      0.540      0.589      -0.072       0.126\n",
      "LandContour_Bnk             -0.0538      0.021     -2.616      0.009      -0.094      -0.013\n",
      "LandContour_HLS              0.0103      0.021      0.481      0.631      -0.032       0.052\n",
      "LandContour_Low             -0.0479      0.029     -1.654      0.098      -0.105       0.009\n",
      "LotConfig_Corner             0.0095      0.010      1.003      0.316      -0.009       0.028\n",
      "LotConfig_CulDSac            0.0446      0.016      2.714      0.007       0.012       0.077\n",
      "LotConfig_FR2               -0.0134      0.020     -0.666      0.506      -0.053       0.026\n",
      "LotConfig_FR3               -0.0651      0.064     -1.015      0.310      -0.191       0.061\n",
      "LandSlope_Mod                0.0503      0.021      2.441      0.015       0.010       0.091\n",
      "LandSlope_Sev               -0.1839      0.055     -3.354      0.001      -0.292      -0.076\n",
      "Neighborhood_Blmngtn         0.0464      0.038      1.218      0.224      -0.028       0.121\n",
      "Neighborhood_Blueste        -0.0032      0.089     -0.036      0.971      -0.177       0.171\n",
      "Neighborhood_BrDale         -0.0231      0.046     -0.499      0.618      -0.114       0.068\n",
      "Neighborhood_BrkSide         0.0574      0.032      1.777      0.076      -0.006       0.121\n",
      "Neighborhood_ClearCr         0.0257      0.033      0.784      0.433      -0.039       0.090\n",
      "Neighborhood_Crawfor         0.1280      0.029      4.362      0.000       0.070       0.186\n",
      "Neighborhood_Edwards        -0.0689      0.023     -3.010      0.003      -0.114      -0.024\n",
      "Neighborhood_Gilbert         0.0049      0.021      0.231      0.817      -0.036       0.046\n",
      "Neighborhood_IDOTRR         -0.0131      0.042     -0.314      0.754      -0.095       0.069\n",
      "Neighborhood_MeadowV        -0.1723      0.049     -3.526      0.000      -0.268      -0.076\n",
      "Neighborhood_Mitchel        -0.0235      0.024     -0.962      0.336      -0.071       0.024\n",
      "Neighborhood_NAmes          -0.0191      0.020     -0.938      0.348      -0.059       0.021\n",
      "Neighborhood_NPkVill         0.0345      0.062      0.553      0.580      -0.088       0.157\n",
      "Neighborhood_NWAmes         -0.0162      0.023     -0.701      0.483      -0.061       0.029\n",
      "Neighborhood_NoRidge         0.0623      0.027      2.325      0.020       0.010       0.115\n",
      "Neighborhood_NridgHt         0.1042      0.023      4.459      0.000       0.058       0.150\n",
      "Neighborhood_OldTown        -0.0420      0.032     -1.330      0.184      -0.104       0.020\n",
      "Neighborhood_SWISU           0.0440      0.041      1.084      0.279      -0.036       0.124\n",
      "Neighborhood_Sawyer         -0.0035      0.024     -0.145      0.885      -0.051       0.044\n",
      "Neighborhood_SawyerW         0.0123      0.022      0.570      0.569      -0.030       0.055\n",
      "Neighborhood_Somerst         0.0347      0.032      1.096      0.273      -0.027       0.097\n",
      "Neighborhood_StoneBr         0.1565      0.030      5.167      0.000       0.097       0.216\n",
      "Neighborhood_Timber          0.0259      0.025      1.031      0.303      -0.023       0.075\n",
      "Neighborhood_Veenker         0.0679      0.049      1.373      0.170      -0.029       0.165\n",
      "Condition1_Artery           -0.0922      0.022     -4.216      0.000      -0.135      -0.049\n",
      "Condition1_Feedr            -0.0498      0.017     -2.932      0.003      -0.083      -0.016\n",
      "Condition1_PosA             -0.0490      0.048     -1.022      0.307      -0.143       0.045\n",
      "Condition1_PosN              0.0136      0.032      0.432      0.666      -0.048       0.076\n",
      "Condition1_RRAe             -0.1184      0.043     -2.753      0.006      -0.203      -0.034\n",
      "Condition1_RRAn             -0.0296      0.029     -1.037      0.300      -0.086       0.026\n",
      "Condition1_RRNe             -0.0607      0.080     -0.761      0.447      -0.217       0.096\n",
      "Condition1_RRNn              0.0038      0.067      0.057      0.954      -0.127       0.134\n",
      "Condition2_Artery           -0.0878      0.100     -0.881      0.379      -0.283       0.108\n",
      "Condition2_Feedr             0.0772      0.078      0.994      0.320      -0.075       0.229\n",
      "Condition2_PosA              0.1149      0.067      1.714      0.087      -0.017       0.246\n",
      "Condition2_PosN             -0.8845      0.091     -9.711      0.000      -1.063      -0.706\n",
      "Condition2_RRAe           2.219e-15   2.13e-15      1.042      0.298   -1.96e-15     6.4e-15\n",
      "Condition2_RRAn           2.003e-15   1.11e-15      1.811      0.070   -1.67e-16    4.17e-15\n",
      "Condition2_RRNn             -0.0441      0.085     -0.519      0.604      -0.211       0.123\n",
      "BldgType_2fmCon              0.0933      0.063      1.472      0.141      -0.031       0.218\n",
      "BldgType_Duplex             -0.0139      0.038     -0.367      0.714      -0.088       0.060\n",
      "BldgType_Twnhs              -0.0307      0.051     -0.602      0.547      -0.131       0.069\n",
      "BldgType_TwnhsE              0.0110      0.046      0.239      0.811      -0.079       0.101\n",
      "HouseStyle_1.5Fin            0.0204      0.019      1.091      0.275      -0.016       0.057\n",
      "HouseStyle_1.5Unf            0.0072      0.044      0.163      0.871      -0.079       0.093\n",
      "HouseStyle_1Story           -0.0117      0.029     -0.402      0.688      -0.069       0.045\n",
      "HouseStyle_2.5Fin           -0.0142      0.064     -0.224      0.823      -0.139       0.111\n",
      "HouseStyle_2.5Unf            0.0745      0.048      1.543      0.123      -0.020       0.169\n",
      "HouseStyle_SFoyer            0.0235      0.032      0.737      0.461      -0.039       0.086\n",
      "HouseStyle_SLvl              0.0284      0.028      1.030      0.303      -0.026       0.083\n",
      "RoofStyle_Flat              -0.0660      0.128     -0.517      0.605      -0.316       0.184\n",
      "RoofStyle_Gambrel           -0.0082      0.053     -0.154      0.878      -0.113       0.097\n",
      "RoofStyle_Hip               -0.0022      0.010     -0.216      0.829      -0.022       0.017\n",
      "RoofStyle_Mansard            0.0649      0.058      1.127      0.260      -0.048       0.178\n",
      "RoofStyle_Shed               0.4257      0.151      2.826      0.005       0.130       0.721\n",
      "RoofMatl_ClyTile            -2.6715      0.197    -13.563      0.000      -3.058      -2.285\n",
      "RoofMatl_Membran             0.4441      0.184      2.413      0.016       0.083       0.805\n",
      "RoofMatl_Metal             3.85e-15    1.5e-15      2.573      0.010    9.14e-16    6.79e-15\n",
      "RoofMatl_Roll                0.0377      0.122      0.308      0.758      -0.202       0.278\n",
      "RoofMatl_Tar&Grv             0.0578      0.117      0.496      0.620      -0.171       0.287\n",
      "RoofMatl_WdShake            -0.0473      0.087     -0.545      0.586      -0.218       0.123\n",
      "RoofMatl_WdShngl             0.0380      0.055      0.695      0.487      -0.069       0.145\n",
      "Exterior1st_AsbShng          0.0312      0.073      0.430      0.668      -0.111       0.174\n",
      "Exterior1st_AsphShn         -0.0326      0.183     -0.179      0.858      -0.391       0.326\n",
      "Exterior1st_BrkComm         -0.2069      0.130     -1.588      0.113      -0.463       0.049\n",
      "Exterior1st_BrkFace          0.1327      0.048      2.753      0.006       0.038       0.227\n",
      "Exterior1st_CBlock           0.0198      0.067      0.296      0.767      -0.111       0.151\n",
      "Exterior1st_CemntBd         -0.0441      0.080     -0.548      0.584      -0.202       0.114\n",
      "Exterior1st_HdBoard          0.0373      0.046      0.804      0.422      -0.054       0.128\n",
      "Exterior1st_ImStucc          0.0409      0.131      0.312      0.755      -0.216       0.298\n",
      "Exterior1st_MetalSd          0.0630      0.061      1.038      0.300      -0.056       0.182\n",
      "Exterior1st_Plywood          0.0457      0.043      1.052      0.293      -0.039       0.131\n",
      "Exterior1st_Stone        -2.881e-15    2.1e-15     -1.373      0.170      -7e-15    1.24e-15\n",
      "Exterior1st_Stucco           0.1063      0.059      1.797      0.073      -0.010       0.222\n",
      "Exterior1st_Wd Sdng         -0.0180      0.041     -0.439      0.661      -0.099       0.063\n",
      "Exterior1st_WdShing          0.0359      0.046      0.772      0.440      -0.055       0.127\n",
      "Exterior2nd_AsbShng         -0.0796      0.070     -1.131      0.258      -0.218       0.058\n",
      "Exterior2nd_AsphShn          0.0740      0.137      0.542      0.588      -0.194       0.342\n",
      "Exterior2nd_Brk Cmn         -0.0308      0.092     -0.333      0.739      -0.212       0.150\n",
      "Exterior2nd_BrkFace         -0.1094      0.055     -1.984      0.048      -0.218      -0.001\n",
      "Exterior2nd_CBlock           0.0198      0.067      0.296      0.767      -0.111       0.151\n",
      "Exterior2nd_CmentBd          0.0619      0.081      0.761      0.447      -0.098       0.222\n",
      "Exterior2nd_HdBoard         -0.0699      0.046     -1.503      0.133      -0.161       0.021\n",
      "Exterior2nd_ImStucc         -0.0191      0.066     -0.289      0.773      -0.149       0.111\n",
      "Exterior2nd_MetalSd         -0.0536      0.061     -0.877      0.380      -0.173       0.066\n",
      "Exterior2nd_Other        -6.263e-15    2.5e-15     -2.503      0.012   -1.12e-14   -1.35e-15\n",
      "Exterior2nd_Plywood         -0.0675      0.042     -1.611      0.107      -0.150       0.015\n",
      "Exterior2nd_Stone           -0.1895      0.101     -1.878      0.061      -0.388       0.009\n",
      "Exterior2nd_Stucco          -0.1201      0.060     -1.998      0.046      -0.238      -0.002\n",
      "Exterior2nd_Wd Sdng         -0.0039      0.041     -0.093      0.926      -0.085       0.077\n",
      "Exterior2nd_Wd Shng         -0.0521      0.041     -1.260      0.208      -0.133       0.029\n",
      "MasVnrType_BrkCmn           -0.0629      0.037     -1.721      0.086      -0.135       0.009\n",
      "MasVnrType_None             -0.0092      0.012     -0.780      0.436      -0.032       0.014\n",
      "MasVnrType_Stone             0.0070      0.015      0.464      0.643      -0.023       0.037\n",
      "ExterQual_Ex                 0.0157      0.026      0.594      0.553      -0.036       0.067\n",
      "ExterQual_Fa                -0.1003      0.064     -1.571      0.117      -0.226       0.025\n",
      "ExterQual_TA                 0.0076      0.013      0.573      0.567      -0.018       0.034\n",
      "ExterCond_Ex                 0.1149      0.067      1.714      0.087      -0.017       0.246\n",
      "ExterCond_Fa                -0.0562      0.031     -1.790      0.074      -0.118       0.005\n",
      "ExterCond_Gd                -0.0319      0.013     -2.529      0.012      -0.057      -0.007\n",
      "ExterCond_Po                 0.0264      0.126      0.209      0.835      -0.221       0.274\n",
      "Foundation_BrkTil           -0.0422      0.018     -2.307      0.021      -0.078      -0.006\n",
      "Foundation_CBlock           -0.0227      0.014     -1.677      0.094      -0.049       0.004\n",
      "Foundation_Slab             -0.0689      0.049     -1.394      0.164      -0.166       0.028\n",
      "Foundation_Stone             0.0692      0.056      1.227      0.220      -0.041       0.180\n",
      "Foundation_Wood             -0.2279      0.086     -2.661      0.008      -0.396      -0.060\n",
      "BsmtQual_Ex                  0.0223      0.018      1.263      0.207      -0.012       0.057\n",
      "BsmtQual_Fa                  0.0123      0.030      0.416      0.677      -0.046       0.071\n",
      "BsmtQual_No Basement         0.0678      0.058      1.176      0.240      -0.045       0.181\n",
      "BsmtQual_TA                 -0.0068      0.014     -0.485      0.628      -0.034       0.021\n",
      "BsmtCond_Fa                 -0.0032      0.026     -0.123      0.902      -0.054       0.048\n",
      "BsmtCond_Gd                  0.0096      0.018      0.544      0.586      -0.025       0.044\n",
      "BsmtCond_No Basement         0.0678      0.058      1.176      0.240      -0.045       0.181\n",
      "BsmtCond_Po                  0.3787      0.146      2.586      0.010       0.091       0.666\n",
      "BsmtExposure_Av              0.0035      0.011      0.304      0.761      -0.019       0.026\n",
      "BsmtExposure_Gd              0.0354      0.016      2.277      0.023       0.005       0.066\n",
      "BsmtExposure_Mn              0.0088      0.014      0.625      0.532      -0.019       0.036\n",
      "BsmtExposure_No Basement    -0.0445      0.107     -0.416      0.678      -0.254       0.165\n",
      "BsmtFinType1_ALQ            -0.0176      0.013     -1.327      0.185      -0.044       0.008\n",
      "BsmtFinType1_BLQ            -0.0203      0.016     -1.291      0.197      -0.051       0.011\n",
      "BsmtFinType1_LwQ            -0.0323      0.020     -1.612      0.107      -0.072       0.007\n",
      "BsmtFinType1_No Basement     0.0678      0.058      1.176      0.240      -0.045       0.181\n",
      "BsmtFinType1_Rec            -0.0168      0.017     -1.010      0.313      -0.049       0.016\n",
      "BsmtFinType1_Unf            -0.0184      0.015     -1.255      0.210      -0.047       0.010\n",
      "BsmtFinType2_ALQ             0.0144      0.039      0.373      0.709      -0.061       0.090\n",
      "BsmtFinType2_BLQ            -0.0494      0.027     -1.845      0.065      -0.102       0.003\n",
      "BsmtFinType2_GLQ             0.0060      0.056      0.109      0.914      -0.103       0.115\n",
      "BsmtFinType2_LwQ            -0.0227      0.024     -0.937      0.349      -0.070       0.025\n",
      "BsmtFinType2_No Basement    -0.1628      0.117     -1.390      0.165      -0.393       0.067\n",
      "BsmtFinType2_Rec            -0.0159      0.025     -0.632      0.528      -0.065       0.034\n",
      "Heating_Floor               -0.1688      0.122     -1.388      0.165      -0.408       0.070\n",
      "Heating_GasW                 0.1067      0.042      2.538      0.011       0.024       0.189\n",
      "Heating_Grav                -0.1787      0.058     -3.088      0.002      -0.292      -0.065\n",
      "Heating_OthW                 0.0219      0.091      0.240      0.810      -0.157       0.201\n",
      "Heating_Wall                 0.0919      0.075      1.219      0.223      -0.056       0.240\n",
      "HeatingQC_Fa                -0.0119      0.024     -0.493      0.622      -0.060       0.036\n",
      "HeatingQC_Gd                -0.0241      0.011     -2.203      0.028      -0.046      -0.003\n",
      "HeatingQC_Po                -0.1208      0.129     -0.935      0.350      -0.375       0.133\n",
      "HeatingQC_TA                -0.0337      0.011     -3.045      0.002      -0.055      -0.012\n",
      "Electrical_FuseA             0.0290      0.016      1.797      0.073      -0.003       0.061\n",
      "Electrical_FuseF             0.0572      0.036      1.600      0.110      -0.013       0.127\n",
      "Electrical_FuseP            -0.0875      0.108     -0.809      0.419      -0.300       0.125\n",
      "Electrical_Mix            1.592e-15   1.08e-15      1.475      0.141   -5.27e-16    3.71e-15\n",
      "KitchenQual_Ex               0.0727      0.019      3.786      0.000       0.035       0.110\n",
      "KitchenQual_Fa              -0.0230      0.030     -0.759      0.448      -0.083       0.037\n",
      "KitchenQual_TA              -0.0024      0.011     -0.216      0.829      -0.025       0.020\n",
      "Functional_Maj1             -0.0347      0.036     -0.954      0.340      -0.106       0.037\n",
      "Functional_Maj2             -0.3674      0.067     -5.506      0.000      -0.498      -0.236\n",
      "Functional_Min1             -0.0227      0.025     -0.892      0.373      -0.073       0.027\n",
      "Functional_Min2             -0.0399      0.025     -1.621      0.105      -0.088       0.008\n",
      "Functional_Mod              -0.1232      0.041     -3.026      0.003      -0.203      -0.043\n",
      "Functional_Sev              -0.3270      0.145     -2.252      0.025      -0.612      -0.042\n",
      "FireplaceQu_Ex               0.0097      0.034      0.287      0.774      -0.057       0.076\n",
      "FireplaceQu_Fa              -0.0059      0.030     -0.200      0.841      -0.064       0.052\n",
      "FireplaceQu_Gd               0.0215      0.019      1.147      0.252      -0.015       0.058\n",
      "FireplaceQu_Po               0.0332      0.033      1.020      0.308      -0.031       0.097\n",
      "FireplaceQu_TA               0.0166      0.019      0.852      0.394      -0.022       0.055\n",
      "GarageType_2Types           -0.1289      0.065     -1.992      0.047      -0.256      -0.002\n",
      "GarageType_Basment           0.0068      0.038      0.181      0.856      -0.067       0.081\n",
      "GarageType_BuiltIn          -0.0237      0.018     -1.340      0.181      -0.058       0.011\n",
      "GarageType_CarPort           0.0488      0.062      0.788      0.431      -0.073       0.170\n",
      "GarageType_Detchd           -0.0024      0.012     -0.200      0.842      -0.026       0.022\n",
      "GarageType_No Garage        -0.0063      0.006     -0.975      0.330      -0.019       0.006\n",
      "GarageFinish_Fin            -0.0013      0.010     -0.127      0.899      -0.022       0.019\n",
      "GarageFinish_No Garage      -0.0063      0.006     -0.975      0.330      -0.019       0.006\n",
      "GarageFinish_Unf            -0.0103      0.011     -0.904      0.366      -0.033       0.012\n",
      "GarageQual_Ex                0.4333      0.146      2.963      0.003       0.146       0.720\n",
      "GarageQual_Fa               -0.0445      0.030     -1.497      0.135      -0.103       0.014\n",
      "GarageQual_Gd                0.0166      0.038      0.431      0.667      -0.059       0.092\n",
      "GarageQual_No Garage        -0.0063      0.006     -0.975      0.330      -0.019       0.006\n",
      "GarageQual_Po                0.0020      0.130      0.015      0.988      -0.254       0.258\n",
      "GarageCond_Ex               -0.4572      0.189     -2.417      0.016      -0.829      -0.086\n",
      "GarageCond_Fa               -0.0268      0.030     -0.888      0.375      -0.086       0.032\n",
      "GarageCond_Gd                0.0197      0.048      0.410      0.682      -0.075       0.114\n",
      "GarageCond_No Garage        -0.0063      0.006     -0.975      0.330      -0.019       0.006\n",
      "GarageCond_Po                0.0834      0.099      0.841      0.400      -0.111       0.278\n",
      "PavedDrive_N                -0.0139      0.018     -0.772      0.441      -0.049       0.021\n",
      "PavedDrive_P                 0.0037      0.026      0.145      0.885      -0.047       0.054\n",
      "PoolQC_Ex                   -0.1114      0.111     -1.003      0.316      -0.329       0.107\n",
      "PoolQC_Fa                   -0.1934      0.095     -2.026      0.043      -0.381      -0.006\n",
      "PoolQC_Gd                   -0.1203      0.093     -1.294      0.196      -0.303       0.062\n",
      "Fence_GdPrv                 -0.0195      0.019     -1.006      0.315      -0.057       0.018\n",
      "Fence_GdWo                  -0.0421      0.019     -2.264      0.024      -0.079      -0.006\n",
      "Fence_MnPrv                 -0.0233      0.012     -1.926      0.054      -0.047       0.000\n",
      "Fence_MnWw                  -0.0257      0.036     -0.723      0.470      -0.095       0.044\n",
      "MiscFeature_Gar2             0.2301      0.530      0.434      0.664      -0.809       1.270\n",
      "MiscFeature_Othr             0.0563      0.098      0.574      0.566      -0.136       0.249\n",
      "MiscFeature_Shed             0.0116      0.030      0.391      0.696      -0.046       0.070\n",
      "MiscFeature_TenC                  0          0        nan        nan           0           0\n",
      "SaleType_COD                 0.0085      0.022      0.384      0.701      -0.035       0.052\n",
      "SaleType_CWD                 0.1002      0.058      1.737      0.083      -0.013       0.213\n",
      "SaleType_Con                 0.1088      0.082      1.332      0.183      -0.052       0.269\n",
      "SaleType_ConLD               0.0648      0.052      1.257      0.209      -0.036       0.166\n",
      "SaleType_ConLI              -0.0211      0.051     -0.413      0.679      -0.121       0.079\n",
      "SaleType_ConLw               0.0461      0.055      0.841      0.400      -0.061       0.154\n",
      "SaleType_New                 0.0728      0.071      1.022      0.307      -0.067       0.213\n",
      "SaleType_Oth                 0.0712      0.067      1.062      0.288      -0.060       0.203\n",
      "SaleCondition_Abnorml       -0.0614      0.015     -4.057      0.000      -0.091      -0.032\n",
      "SaleCondition_AdjLand        0.0195      0.077      0.254      0.800      -0.131       0.170\n",
      "SaleCondition_Alloca         0.0218      0.046      0.475      0.635      -0.068       0.112\n",
      "SaleCondition_Family        -0.0427      0.027     -1.559      0.119      -0.097       0.011\n",
      "SaleCondition_Partial       -0.0267      0.070     -0.381      0.703      -0.164       0.111\n",
      "==============================================================================\n",
      "Omnibus:                      345.236   Durbin-Watson:                   1.938\n",
      "Prob(Omnibus):                  0.000   Jarque-Bera (JB):             5181.583\n",
      "Skew:                          -0.942   Prob(JB):                         0.00\n",
      "Kurtosis:                      13.150   Cond. No.                     1.20e+16\n",
      "==============================================================================\n",
      "\n",
      "Warnings:\n",
      "[1] Standard Errors assume that the covariance matrix of the errors is correctly specified.\n",
      "[2] The smallest eigenvalue is 1.49e-21. This might indicate that there are\n",
      "strong multicollinearity problems or that the design matrix is singular.\n"
     ]
    }
   ],
   "source": [
    "import statsmodels.api as sm\n",
    "X_Constant = sm.add_constant(X_train)\n",
    "model = sm.OLS(y_train, X_Constant)\n",
    "results = model.fit()\n",
    "print(results.summary()) "
   ]
  },
  {
   "cell_type": "markdown",
   "metadata": {},
   "source": [
    "### Reduced Features:"
   ]
  },
  {
   "cell_type": "code",
   "execution_count": 708,
   "metadata": {},
   "outputs": [],
   "source": [
    "reduced_train, reduced_test, y_train, y_test = train_test_split(reduced_features, y, random_state=78, test_size=.20)\n",
    "mlr = linear_model.LinearRegression()\n",
    "reduced_model = mlr.fit(reduced_train, y_train)"
   ]
  },
  {
   "cell_type": "code",
   "execution_count": 709,
   "metadata": {},
   "outputs": [
    {
     "name": "stdout",
     "output_type": "stream",
     "text": [
      "R^2 for the training data :  0.9282159282766137\n",
      "R^2 for the test data :  0.9110772716618829\n",
      "RMSE : 0.1332132881060071\n"
     ]
    }
   ],
   "source": [
    "print (\"R^2 for the training data : \", reduced_model.score(reduced_train, y_train))\n",
    "print (\"R^2 for the test data : \", reduced_model.score(reduced_test, y_test))\n",
    "predictions = saturated_model.predict(X_test)\n",
    "print ('RMSE :', np.sqrt(mean_squared_error(y_test, predictions)))"
   ]
  },
  {
   "cell_type": "code",
   "execution_count": 710,
   "metadata": {},
   "outputs": [
    {
     "name": "stderr",
     "output_type": "stream",
     "text": [
      "D:\\Anaconda\\lib\\site-packages\\numpy\\core\\fromnumeric.py:2223: FutureWarning: Method .ptp is deprecated and will be removed in a future version. Use numpy.ptp instead.\n",
      "  return ptp(axis=axis, out=out, **kwargs)\n"
     ]
    },
    {
     "name": "stdout",
     "output_type": "stream",
     "text": [
      "                            OLS Regression Results                            \n",
      "==============================================================================\n",
      "Dep. Variable:              SalePrice   R-squared:                       0.928\n",
      "Model:                            OLS   Adj. R-squared:                  0.919\n",
      "Method:                 Least Squares   F-statistic:                     104.9\n",
      "Date:                Tue, 14 Apr 2020   Prob (F-statistic):               0.00\n",
      "Time:                        18:39:48   Log-Likelihood:                 950.07\n",
      "No. Observations:                1167   AIC:                            -1642.\n",
      "Df Residuals:                    1038   BIC:                            -989.1\n",
      "Df Model:                         128                                         \n",
      "Covariance Type:            nonrobust                                         \n",
      "=========================================================================================\n",
      "                            coef    std err          t      P>|t|      [0.025      0.975]\n",
      "-----------------------------------------------------------------------------------------\n",
      "const                     5.9781      0.981      6.093      0.000       4.053       7.903\n",
      "1stFlrSF               2.124e-06   5.65e-07      3.758      0.000    1.01e-06    3.23e-06\n",
      "2ndFlrSF                  0.0466      0.005      8.791      0.000       0.036       0.057\n",
      "BsmtCond_Fa               0.0413      0.005      8.865      0.000       0.032       0.050\n",
      "BsmtCond_Gd               0.0021      0.000      5.171      0.000       0.001       0.003\n",
      "BsmtCond_No Basement      0.0005      0.000      1.586      0.113      -0.000       0.001\n",
      "BsmtCond_Po             8.86e-05   1.01e-05      8.810      0.000    6.89e-05       0.000\n",
      "BsmtFinSF1                0.0001    2.3e-05      4.952      0.000    6.88e-05       0.000\n",
      "BsmtQual_Ex               0.0002      0.000      1.831      0.067   -1.32e-05       0.000\n",
      "BsmtQual_Fa               0.0002   9.61e-05      2.099      0.036    1.31e-05       0.000\n",
      "BsmtQual_No Basement      0.0104      0.011      0.973      0.331      -0.011       0.031\n",
      "BsmtQual_TA             3.07e-05   9.96e-05      0.308      0.758      -0.000       0.000\n",
      "CentralAir               -0.0002      0.000     -0.465      0.642      -0.001       0.000\n",
      "Condition1_Artery         0.0286      0.012      2.297      0.022       0.004       0.053\n",
      "Condition1_Feedr          0.0001   4.41e-05      2.911      0.004    4.18e-05       0.000\n",
      "Condition1_PosA           0.0024      0.005      0.524      0.601      -0.007       0.011\n",
      "Condition1_PosN           0.0296      0.007      4.168      0.000       0.016       0.044\n",
      "Condition1_RRAe           0.0912      0.021      4.413      0.000       0.051       0.132\n",
      "Condition1_RRAn          -0.0085      0.042     -0.202      0.840      -0.091       0.074\n",
      "Condition1_RRNe          -0.1335      0.027     -4.929      0.000      -0.187      -0.080\n",
      "Condition1_RRNn          -0.0473      0.069     -0.682      0.495      -0.183       0.089\n",
      "Condition2_Artery         0.0074      0.039      0.189      0.850      -0.069       0.084\n",
      "Condition2_Feedr          0.0278      0.038      0.724      0.469      -0.048       0.103\n",
      "Condition2_PosA          -0.0377      0.048     -0.789      0.430      -0.131       0.056\n",
      "Condition2_PosN           0.0906      0.099      0.916      0.360      -0.104       0.285\n",
      "Condition2_RRAe          -0.2196      0.135     -1.627      0.104      -0.484       0.045\n",
      "Condition2_RRAn           0.0154      0.046      0.334      0.738      -0.075       0.106\n",
      "Condition2_RRNn           0.0407      0.029      1.387      0.166      -0.017       0.098\n",
      "ExterCond_Ex             -0.0464      0.093     -0.500      0.617      -0.229       0.136\n",
      "ExterCond_Fa             -0.0488      0.060     -0.813      0.416      -0.167       0.069\n",
      "ExterCond_Gd             -0.0098      0.060     -0.163      0.870      -0.128       0.108\n",
      "ExterCond_Po             -0.0428      0.039     -1.104      0.270      -0.119       0.033\n",
      "ExterQual_Ex             -0.4270      0.054     -7.971      0.000      -0.532      -0.322\n",
      "ExterQual_Fa              0.0528      0.035      1.501      0.134      -0.016       0.122\n",
      "ExterQual_TA             -0.0009      0.036     -0.025      0.980      -0.071       0.069\n",
      "Fireplaces               -0.0476      0.019     -2.489      0.013      -0.085      -0.010\n",
      "FullBath                 -0.0618      0.022     -2.815      0.005      -0.105      -0.019\n",
      "GarageArea               -0.0441      0.017     -2.567      0.010      -0.078      -0.010\n",
      "GarageCars               -0.0238      0.048     -0.492      0.623      -0.119       0.071\n",
      "GarageCond_Ex             0.0190      0.032      0.596      0.551      -0.043       0.081\n",
      "GarageCond_Fa            -0.0987      0.042     -2.372      0.018      -0.180      -0.017\n",
      "GarageCond_Gd             0.0014      0.029      0.049      0.961      -0.056       0.058\n",
      "GarageCond_No Garage     -0.0305      0.083     -0.368      0.713      -0.193       0.132\n",
      "GarageCond_Po             0.0275      0.062      0.446      0.655      -0.093       0.148\n",
      "GarageQual_Ex            -0.2111      0.112     -1.881      0.060      -0.431       0.009\n",
      "GarageQual_Fa            -0.0766      0.075     -1.015      0.310      -0.225       0.071\n",
      "GarageQual_Gd             0.0898      0.069      1.302      0.193      -0.046       0.225\n",
      "GarageQual_No Garage     -0.9267      0.092    -10.059      0.000      -1.107      -0.746\n",
      "GarageQual_Po         -1.317e-15   1.62e-16     -8.109      0.000   -1.64e-15   -9.98e-16\n",
      "GarageYrBlt            1.464e-15   3.55e-16      4.122      0.000    7.67e-16    2.16e-15\n",
      "GrLivArea                 0.0019      0.086      0.022      0.982      -0.168       0.172\n",
      "Heating_Floor            -0.0011      0.038     -0.029      0.977      -0.076       0.074\n",
      "Heating_GasW              0.0392      0.088      0.445      0.656      -0.134       0.212\n",
      "Heating_Grav             -0.0105      0.047     -0.223      0.823      -0.102       0.081\n",
      "Heating_OthW              0.0600      0.032      1.869      0.062      -0.003       0.123\n",
      "Heating_Wall              0.0443      0.032      1.403      0.161      -0.018       0.106\n",
      "HouseStyle_1.5Fin         0.1048      0.028      3.681      0.000       0.049       0.161\n",
      "HouseStyle_1.5Unf        -0.0496      0.022     -2.220      0.027      -0.093      -0.006\n",
      "HouseStyle_1Story        -0.0012      0.020     -0.060      0.952      -0.041       0.038\n",
      "HouseStyle_2.5Fin         0.0319      0.041      0.777      0.437      -0.049       0.112\n",
      "HouseStyle_2.5Unf        -0.1438      0.049     -2.957      0.003      -0.239      -0.048\n",
      "HouseStyle_SFoyer        -0.0342      0.024     -1.439      0.150      -0.081       0.012\n",
      "HouseStyle_SLvl          -0.0216      0.019     -1.109      0.268      -0.060       0.017\n",
      "KitchenQual_Ex           -0.0097      0.048     -0.204      0.838      -0.103       0.084\n",
      "KitchenQual_Fa           -0.0404      0.022     -1.860      0.063      -0.083       0.002\n",
      "KitchenQual_TA            0.0709      0.026      2.725      0.007       0.020       0.122\n",
      "LotArea                   0.0683      0.023      3.001      0.003       0.024       0.113\n",
      "MSSubClass_120           -0.0360      0.032     -1.137      0.256      -0.098       0.026\n",
      "MSSubClass_160            0.0330      0.039      0.838      0.402      -0.044       0.110\n",
      "MSSubClass_180           -0.0175      0.024     -0.745      0.456      -0.064       0.029\n",
      "MSSubClass_190           -0.0093      0.021     -0.444      0.657      -0.051       0.032\n",
      "MSSubClass_20             0.0251      0.032      0.780      0.436      -0.038       0.088\n",
      "MSSubClass_30             0.1260      0.030      4.229      0.000       0.068       0.184\n",
      "MSSubClass_40             0.0120      0.025      0.480      0.631      -0.037       0.061\n",
      "MSSubClass_45             0.0705      0.049      1.441      0.150      -0.026       0.167\n",
      "MSSubClass_50             0.0292      0.026      1.131      0.258      -0.021       0.080\n",
      "MSSubClass_70            -0.0554      0.048     -1.154      0.249      -0.150       0.039\n",
      "MSSubClass_75            -0.0062      0.013     -0.468      0.640      -0.032       0.020\n",
      "MSSubClass_80             0.0898      0.069      1.302      0.193      -0.046       0.225\n",
      "MSSubClass_85            -0.0804      0.030     -2.646      0.008      -0.140      -0.021\n",
      "MSSubClass_90            -0.0224      0.013     -1.751      0.080      -0.047       0.003\n",
      "MSZoning_C (all)         -0.1059      0.121     -0.873      0.383      -0.344       0.132\n",
      "MSZoning_FV              -0.0169      0.023     -0.748      0.455      -0.061       0.027\n",
      "MSZoning_RH               0.0682      0.060      1.139      0.255      -0.049       0.186\n",
      "MSZoning_RM               0.1344      0.085      1.577      0.115      -0.033       0.302\n",
      "Neighborhood_Blmngtn      0.0622      0.052      1.193      0.233      -0.040       0.164\n",
      "Neighborhood_Blueste     -0.0391      0.053     -0.740      0.460      -0.143       0.065\n",
      "Neighborhood_BrDale       0.0711      0.056      1.276      0.202      -0.038       0.181\n",
      "Neighborhood_BrkSide      0.1382      0.073      1.905      0.057      -0.004       0.280\n",
      "Neighborhood_ClearCr      0.0914      0.070      1.314      0.189      -0.045       0.228\n",
      "Neighborhood_Crawfor     -0.0788      0.015     -5.198      0.000      -0.109      -0.049\n",
      "Neighborhood_Edwards      0.0974      0.073      1.341      0.180      -0.045       0.240\n",
      "Neighborhood_Gilbert     -0.0044      0.045     -0.098      0.922      -0.093       0.084\n",
      "Neighborhood_IDOTRR      -0.0536      0.028     -1.903      0.057      -0.109       0.002\n",
      "Neighborhood_MeadowV     -0.0951      0.071     -1.333      0.183      -0.235       0.045\n",
      "Neighborhood_Mitchel      0.4188      0.147      2.852      0.004       0.131       0.707\n",
      "Neighborhood_NAmes       -0.0189      0.029     -0.648      0.517      -0.076       0.038\n",
      "Neighborhood_NPkVill      0.0015      0.040      0.036      0.971      -0.077       0.080\n",
      "Neighborhood_NWAmes      -0.0050      0.012     -0.407      0.684      -0.029       0.019\n",
      "Neighborhood_NoRidge      0.1067      0.142      0.753      0.452      -0.171       0.385\n",
      "Neighborhood_NridgHt     -0.3789      0.191     -1.979      0.048      -0.755      -0.003\n",
      "Neighborhood_OldTown     -0.0227      0.030     -0.761      0.447      -0.081       0.036\n",
      "Neighborhood_SWISU        0.0173      0.049      0.354      0.723      -0.079       0.113\n",
      "Neighborhood_Sawyer      -0.0050      0.012     -0.407      0.684      -0.029       0.019\n",
      "Neighborhood_SawyerW     -0.0290      0.113     -0.258      0.797      -0.250       0.192\n",
      "Neighborhood_Somerst     -0.0211      0.042     -0.501      0.617      -0.104       0.061\n",
      "Neighborhood_StoneBr      0.1777      0.130      1.367      0.172      -0.077       0.433\n",
      "Neighborhood_Timber      -0.0323      0.042     -0.761      0.447      -0.115       0.051\n",
      "Neighborhood_Veenker      0.0471      0.091      0.519      0.604      -0.131       0.225\n",
      "OverallCond               0.0819      0.094      0.875      0.382      -0.102       0.266\n",
      "OverallQual              -0.0061      0.056     -0.109      0.914      -0.117       0.104\n",
      "RoofMatl_ClyTile          0.0548      0.060      0.914      0.361      -0.063       0.172\n",
      "RoofMatl_Membran         -2.6948      0.148    -18.230      0.000      -2.985      -2.405\n",
      "RoofMatl_Metal            0.1481      0.118      1.250      0.211      -0.084       0.381\n",
      "RoofMatl_Roll          1.548e-16   4.34e-17      3.568      0.000    6.97e-17     2.4e-16\n",
      "RoofMatl_Tar&Grv          0.0032      0.124      0.026      0.980      -0.239       0.246\n",
      "RoofMatl_WdShake         -0.0426      0.043     -0.992      0.321      -0.127       0.042\n",
      "RoofMatl_WdShngl          0.0111      0.076      0.146      0.884      -0.138       0.160\n",
      "SaleCondition_Abnorml     0.0455      0.055      0.831      0.406      -0.062       0.153\n",
      "SaleCondition_AdjLand     0.0491      0.018      2.795      0.005       0.015       0.084\n",
      "SaleCondition_Alloca      0.0088      0.029      0.303      0.762      -0.048       0.066\n",
      "SaleCondition_Family     -0.0126      0.018     -0.698      0.486      -0.048       0.023\n",
      "SaleCondition_Partial    -0.0211      0.013     -1.575      0.116      -0.047       0.005\n",
      "SaleType_COD             -0.0612      0.026     -2.318      0.021      -0.113      -0.009\n",
      "SaleType_CWD              0.0112      0.018      0.628      0.530      -0.024       0.046\n",
      "SaleType_Con             -0.0126      0.018     -0.698      0.486      -0.048       0.023\n",
      "SaleType_ConLD            0.2147      0.131      1.638      0.102      -0.043       0.472\n",
      "SaleType_ConLI           -0.1281      0.124     -1.033      0.302      -0.372       0.115\n",
      "SaleType_ConLw            0.0663      0.041      1.624      0.105      -0.014       0.147\n",
      "SaleType_New             -0.1324      0.055     -2.429      0.015      -0.239      -0.025\n",
      "SaleType_Oth              0.0267      0.091      0.293      0.770      -0.152       0.206\n",
      "TotRmsAbvGrd              0.1180      0.073      1.621      0.105      -0.025       0.261\n",
      "TotalBsmtSF               0.0553      0.019      2.852      0.004       0.017       0.093\n",
      "YearBuilt                -0.0439      0.030     -1.454      0.146      -0.103       0.015\n",
      "YearRemodAdd             -0.0229      0.011     -2.013      0.044      -0.045      -0.001\n",
      "==============================================================================\n",
      "Omnibus:                      295.810   Durbin-Watson:                   1.935\n",
      "Prob(Omnibus):                  0.000   Jarque-Bera (JB):             3439.617\n",
      "Skew:                          -0.823   Prob(JB):                         0.00\n",
      "Kurtosis:                      11.248   Cond. No.                     1.12e+19\n",
      "==============================================================================\n",
      "\n",
      "Warnings:\n",
      "[1] Standard Errors assume that the covariance matrix of the errors is correctly specified.\n",
      "[2] The smallest eigenvalue is 1.67e-27. This might indicate that there are\n",
      "strong multicollinearity problems or that the design matrix is singular.\n"
     ]
    }
   ],
   "source": [
    "X_Constant = sm.add_constant(reduced_train)\n",
    "model = sm.OLS(y_train, X_Constant)\n",
    "results = model.fit()\n",
    "print(results.summary()) "
   ]
  },
  {
   "cell_type": "markdown",
   "metadata": {},
   "source": [
    "### Check assumptions of Linear Regression:"
   ]
  },
  {
   "cell_type": "markdown",
   "metadata": {},
   "source": [
    "Linearity:"
   ]
  },
  {
   "cell_type": "code",
   "execution_count": 711,
   "metadata": {},
   "outputs": [
    {
     "data": {
      "image/png": "[encoded data removed]",
      "text/plain": [
       "<Figure size 720x360 with 1 Axes>"
      ]
     },
     "metadata": {
      "needs_background": "light"
     },
     "output_type": "display_data"
    }
   ],
   "source": [
    "plt.scatter(saturated_model.predict(X), y, alpha=.7,\n",
    "            color='b') #alpha helps to show overlapping data\n",
    "plt.xlabel('Predicted Price')\n",
    "plt.ylabel('Actual Price')\n",
    "plt.title('Linear Regression Model')\n",
    "plt.show()"
   ]
  },
  {
   "cell_type": "markdown",
   "metadata": {},
   "source": [
    "Normally distributed errors:"
   ]
  },
  {
   "cell_type": "code",
   "execution_count": 712,
   "metadata": {},
   "outputs": [
    {
     "data": {
      "text/plain": [
       "(array([  4.,   1.,   1.,   0.,   0.,   5.,   2.,   6.,   6.,  12.,  32.,\n",
       "         64., 172., 276., 383., 270., 129.,  52.,  28.,   9.,   1.,   2.,\n",
       "          1.,   1.,   0.,   0.,   0.,   0.,   1.,   1.]),\n",
       " array([-0.6700806 , -0.62341129, -0.57674198, -0.53007268, -0.48340337,\n",
       "        -0.43673406, -0.39006476, -0.34339545, -0.29672614, -0.25005684,\n",
       "        -0.20338753, -0.15671822, -0.11004892, -0.06337961, -0.0167103 ,\n",
       "         0.029959  ,  0.07662831,  0.12329762,  0.16996692,  0.21663623,\n",
       "         0.26330554,  0.30997484,  0.35664415,  0.40331346,  0.44998276,\n",
       "         0.49665207,  0.54332138,  0.58999068,  0.63665999,  0.6833293 ,\n",
       "         0.7299986 ]),\n",
       " <a list of 30 Patch objects>)"
      ]
     },
     "execution_count": 712,
     "metadata": {},
     "output_type": "execute_result"
    },
    {
     "data": {
      "image/png": "[encoded data removed]",
      "text/plain": [
       "<Figure size 720x360 with 1 Axes>"
      ]
     },
     "metadata": {
      "needs_background": "light"
     },
     "output_type": "display_data"
    }
   ],
   "source": [
    "residuals = y - saturated_model.predict(X)\n",
    "plt.hist(residuals, bins = 30)"
   ]
  },
  {
   "cell_type": "markdown",
   "metadata": {},
   "source": [
    "Constant variance and independent Errors:"
   ]
  },
  {
   "cell_type": "code",
   "execution_count": 713,
   "metadata": {},
   "outputs": [
    {
     "data": {
      "text/plain": [
       "<matplotlib.collections.PathCollection at 0x227925be898>"
      ]
     },
     "execution_count": 713,
     "metadata": {},
     "output_type": "execute_result"
    },
    {
     "data": {
      "image/png": "[encoded data removed]",
      "text/plain": [
       "<Figure size 720x360 with 1 Axes>"
      ]
     },
     "metadata": {
      "needs_background": "light"
     },
     "output_type": "display_data"
    }
   ],
   "source": [
    "plt.scatter(y, residuals)"
   ]
  },
  {
   "cell_type": "markdown",
   "metadata": {},
   "source": [
    "Multicollinearity:"
   ]
  },
  {
   "cell_type": "markdown",
   "metadata": {},
   "source": [
    "Using all variables requires using many related variables, such as the numerous variables relating to the basement or the garage. These variables add different but related information. Lasso Regression will be used to address multicollinearity issues, decrease variance, and increase accuracy. It will have the additional benefit of feature selection."
   ]
  },
  {
   "cell_type": "markdown",
   "metadata": {},
   "source": [
    "### Ridge Regression"
   ]
  },
  {
   "cell_type": "code",
   "execution_count": 723,
   "metadata": {},
   "outputs": [
    {
     "data": {
      "text/plain": [
       "0.9440278046171661"
      ]
     },
     "execution_count": 723,
     "metadata": {},
     "output_type": "execute_result"
    }
   ],
   "source": [
    "from sklearn.linear_model import Lasso, Ridge\n",
    "X_train, X_test, y_train, y_test = train_test_split(X, y, random_state=78, test_size=.20)\n",
    "ridge = Ridge()\n",
    "ridge.set_params(alpha = 0,normalize =True)\n",
    "ridge.fit(X, y)\n",
    "ridge.score(X, y)"
   ]
  },
  {
   "cell_type": "code",
   "execution_count": 724,
   "metadata": {},
   "outputs": [],
   "source": [
    "coefs = []\n",
    "intercepts = []\n",
    "R2_train  = []\n",
    "R2_test  = []\n",
    "alphaRange = np.linspace(1e-3,15,20)\n",
    "for alpha in alphaRange:\n",
    "        ridge.set_params(alpha=alpha, normalize=True)  \n",
    "        ridge.fit(X_train, y_train)\n",
    "        intercepts.append(ridge.intercept_)\n",
    "        coefs.append(ridge.coef_)\n",
    "        R2_train.append(ridge.score(X_train, y_train))\n",
    "        R2_test.append(ridge.score(X_test, y_test))"
   ]
  },
  {
   "cell_type": "code",
   "execution_count": 725,
   "metadata": {},
   "outputs": [
    {
     "data": {
      "text/plain": [
       "Text(0.5, 1.0, 'Change of Ridge Slopes Varying Alpha')"
      ]
     },
     "execution_count": 725,
     "metadata": {},
     "output_type": "execute_result"
    },
    {
     "data": {
      "image/png": "[encoded data removed]",
      "text/plain": [
       "<Figure size 720x360 with 1 Axes>"
      ]
     },
     "metadata": {
      "needs_background": "light"
     },
     "output_type": "display_data"
    }
   ],
   "source": [
    "coefs = pd.DataFrame(np.array(coefs), columns=X.columns)\n",
    "\n",
    "for name in coefs.columns:\n",
    "    plt.plot(alphaRange, coefs[name], label=name)  \n",
    "plt.title('Change of Ridge Slopes Varying Alpha')"
   ]
  },
  {
   "cell_type": "code",
   "execution_count": 726,
   "metadata": {},
   "outputs": [
    {
     "data": {
      "text/plain": [
       "<matplotlib.legend.Legend at 0x227962b8898>"
      ]
     },
     "execution_count": 726,
     "metadata": {},
     "output_type": "execute_result"
    },
    {
     "data": {
      "image/png": "[encoded data removed]",
      "text/plain": [
       "<Figure size 720x360 with 1 Axes>"
      ]
     },
     "metadata": {
      "needs_background": "light"
     },
     "output_type": "display_data"
    }
   ],
   "source": [
    "plt.plot(alphaRange, R2_train, label=r'train set $R^2$')\n",
    "plt.plot(alphaRange, R2_test, label=r'test set $R^2$')\n",
    "plt.legend(loc=4)"
   ]
  },
  {
   "cell_type": "code",
   "execution_count": 727,
   "metadata": {},
   "outputs": [
    {
     "name": "stdout",
     "output_type": "stream",
     "text": [
      "0.8916017405271287\n",
      "0.892979168009788\n"
     ]
    }
   ],
   "source": [
    "ridge.set_params(alpha=1.6, normalize=True)\n",
    "best_alpha = ridge.fit(X_train, y_train)\n",
    "print(best_alpha.score(X_train, y_train))\n",
    "print(best_alpha.score(X_test, y_test))"
   ]
  },
  {
   "cell_type": "code",
   "execution_count": 728,
   "metadata": {},
   "outputs": [
    {
     "data": {
      "image/png": "[encoded data removed]",
      "text/plain": [
       "<Figure size 720x360 with 1 Axes>"
      ]
     },
     "metadata": {
      "needs_background": "light"
     },
     "output_type": "display_data"
    }
   ],
   "source": [
    "predictions = best_alpha.predict(X_test)\n",
    "plt.scatter(predictions, y_test, alpha=.75, color='b')\n",
    "plt.xlabel('Predicted Price')\n",
    "plt.ylabel('Actual Price')\n",
    "plt.title('Ridge Regularization with alpha = {}'.format(alpha))\n",
    "plt.show()"
   ]
  },
  {
   "cell_type": "code",
   "execution_count": 720,
   "metadata": {},
   "outputs": [
    {
     "name": "stdout",
     "output_type": "stream",
     "text": [
      "RMSE : 0.1297702346630355\n"
     ]
    }
   ],
   "source": [
    "print ('RMSE :', np.sqrt(mean_squared_error(y_test, predictions)))"
   ]
  },
  {
   "cell_type": "markdown",
   "metadata": {},
   "source": [
    "### Reduced Features"
   ]
  },
  {
   "cell_type": "code",
   "execution_count": 729,
   "metadata": {},
   "outputs": [
    {
     "data": {
      "text/plain": [
       "0.9285834371301815"
      ]
     },
     "execution_count": 729,
     "metadata": {},
     "output_type": "execute_result"
    }
   ],
   "source": [
    "reduced_train, reduced_test, y_train, y_test = train_test_split(reduced_features, y, random_state=78, test_size=.20)\n",
    "ridge.set_params(alpha = 0,normalize =True)\n",
    "ridge.fit(reduced_features, y)\n",
    "ridge.score(reduced_features, y)"
   ]
  },
  {
   "cell_type": "code",
   "execution_count": 730,
   "metadata": {},
   "outputs": [],
   "source": [
    "coefs = []\n",
    "intercepts = []\n",
    "R2_train  = []\n",
    "R2_test  = []\n",
    "alphaRange = np.linspace(1e-3,15,20)\n",
    "for alpha in alphaRange:\n",
    "        ridge.set_params(alpha=alpha, normalize=True)  \n",
    "        ridge.fit(reduced_train, y_train)\n",
    "        intercepts.append(ridge.intercept_)\n",
    "        coefs.append(ridge.coef_)\n",
    "        R2_train.append(ridge.score(reduced_train, y_train))\n",
    "        R2_test.append(ridge.score(reduced_test, y_test))"
   ]
  },
  {
   "cell_type": "code",
   "execution_count": 731,
   "metadata": {},
   "outputs": [
    {
     "data": {
      "text/plain": [
       "Text(0.5, 1.0, 'Change of Ridge Slopes Varying Alpha')"
      ]
     },
     "execution_count": 731,
     "metadata": {},
     "output_type": "execute_result"
    },
    {
     "data": {
      "image/png": "[encoded data removed]",
      "text/plain": [
       "<Figure size 720x360 with 1 Axes>"
      ]
     },
     "metadata": {
      "needs_background": "light"
     },
     "output_type": "display_data"
    }
   ],
   "source": [
    "coefs = pd.DataFrame(np.array(coefs), columns=reduced_features.columns)\n",
    "\n",
    "for name in coefs.columns:\n",
    "    plt.plot(alphaRange, coefs[name], label=name)  \n",
    "plt.title('Change of Ridge Slopes Varying Alpha')"
   ]
  },
  {
   "cell_type": "code",
   "execution_count": 732,
   "metadata": {},
   "outputs": [
    {
     "data": {
      "text/plain": [
       "<matplotlib.legend.Legend at 0x22796536358>"
      ]
     },
     "execution_count": 732,
     "metadata": {},
     "output_type": "execute_result"
    },
    {
     "data": {
      "image/png": "[encoded data removed]",
      "text/plain": [
       "<Figure size 720x360 with 1 Axes>"
      ]
     },
     "metadata": {
      "needs_background": "light"
     },
     "output_type": "display_data"
    }
   ],
   "source": [
    "plt.plot(alphaRange, R2_train, label=r'train set $R^2$')\n",
    "plt.plot(alphaRange, R2_test, label=r'test set $R^2$')\n",
    "plt.legend(loc=4)"
   ]
  },
  {
   "cell_type": "code",
   "execution_count": 733,
   "metadata": {},
   "outputs": [
    {
     "name": "stdout",
     "output_type": "stream",
     "text": [
      "0.8943991990988808\n",
      "0.904443411869051\n"
     ]
    }
   ],
   "source": [
    "ridge.set_params(alpha=0.9, normalize=True)\n",
    "best_alpha = ridge.fit(reduced_train, y_train)\n",
    "print(best_alpha.score(reduced_train, y_train))\n",
    "print(best_alpha.score(reduced_test, y_test))"
   ]
  },
  {
   "cell_type": "code",
   "execution_count": 734,
   "metadata": {},
   "outputs": [
    {
     "data": {
      "image/png": "[encoded data removed]",
      "text/plain": [
       "<Figure size 720x360 with 1 Axes>"
      ]
     },
     "metadata": {
      "needs_background": "light"
     },
     "output_type": "display_data"
    }
   ],
   "source": [
    "predictions = best_alpha.predict(reduced_test)\n",
    "plt.scatter(predictions, y_test, alpha=.75, color='b')\n",
    "plt.xlabel('Predicted Price')\n",
    "plt.ylabel('Actual Price')\n",
    "plt.title('Ridge Regularization with alpha = {}'.format(alpha))\n",
    "plt.show()"
   ]
  },
  {
   "cell_type": "code",
   "execution_count": 735,
   "metadata": {},
   "outputs": [
    {
     "name": "stdout",
     "output_type": "stream",
     "text": [
      "RMSE : 0.12262280485975725\n"
     ]
    }
   ],
   "source": [
    "print ('RMSE :', np.sqrt(mean_squared_error(y_test, predictions)))"
   ]
  },
  {
   "cell_type": "markdown",
   "metadata": {},
   "source": [
    "# Tree-Based Models"
   ]
  },
  {
   "cell_type": "code",
   "execution_count": 427,
   "metadata": {},
   "outputs": [],
   "source": [
    "from sklearn import tree\n",
    "from sklearn.metrics import make_scorer\n",
    "from sklearn.metrics import mean_squared_error\n",
    "tree_model = tree.DecisionTreeRegressor()\n",
    "\n",
    "X_train, X_test, y_train, y_test = train_test_split(encoded_features,target,test_size=0.2)"
   ]
  },
  {
   "cell_type": "code",
   "execution_count": 428,
   "metadata": {},
   "outputs": [
    {
     "name": "stdout",
     "output_type": "stream",
     "text": [
      "Wall time: 3.77 s\n"
     ]
    },
    {
     "data": {
      "text/plain": [
       "GridSearchCV(cv=5, error_score='raise-deprecating',\n",
       "       estimator=DecisionTreeRegressor(criterion='mse', max_depth=None, max_features=None,\n",
       "           max_leaf_nodes=None, min_impurity_decrease=0.0,\n",
       "           min_impurity_split=None, min_samples_leaf=1,\n",
       "           min_samples_split=2, min_weight_fraction_leaf=0.0,\n",
       "           presort=False, random_state=108, splitter='best'),\n",
       "       fit_params=None, iid='warn', n_jobs=-1,\n",
       "       param_grid=[{'min_samples_leaf': range(1, 10), 'min_samples_split': array([ 2,  4,  6,  8, 10, 12, 14, 16, 18, 20, 22, 24, 26, 28, 30])}],\n",
       "       pre_dispatch='2*n_jobs', refit=True, return_train_score='warn',\n",
       "       scoring=make_scorer(mean_squared_error), verbose=0)"
      ]
     },
     "execution_count": 428,
     "metadata": {},
     "output_type": "execute_result"
    }
   ],
   "source": [
    "\n",
    "scoring = make_scorer(mean_squared_error)\n",
    "grid_para_tree = [{\n",
    "    \"min_samples_leaf\": range(1, 10),\n",
    "    \"min_samples_split\": np.linspace(start=2, stop=30, num=15, dtype=int)\n",
    "}]\n",
    "tree_model.set_params(random_state=108)\n",
    "grid_search_tree = GridSearchCV(tree_model, grid_para_tree, cv=5, scoring=scoring, n_jobs=-1)\n",
    "%time grid_search_tree.fit(X_train, y_train)"
   ]
  },
  {
   "cell_type": "code",
   "execution_count": 429,
   "metadata": {},
   "outputs": [
    {
     "data": {
      "text/plain": [
       "{'min_samples_leaf': 1, 'min_samples_split': 2}"
      ]
     },
     "execution_count": 429,
     "metadata": {},
     "output_type": "execute_result"
    }
   ],
   "source": [
    "grid_search_tree.best_params_"
   ]
  },
  {
   "cell_type": "code",
   "execution_count": 430,
   "metadata": {},
   "outputs": [
    {
     "data": {
      "text/plain": [
       "0.04651418705956034"
      ]
     },
     "execution_count": 430,
     "metadata": {},
     "output_type": "execute_result"
    }
   ],
   "source": [
    "grid_search_tree.best_score_"
   ]
  },
  {
   "cell_type": "code",
   "execution_count": 431,
   "metadata": {},
   "outputs": [
    {
     "data": {
      "text/plain": [
       "8.273871112957144e-10"
      ]
     },
     "execution_count": 431,
     "metadata": {},
     "output_type": "execute_result"
    }
   ],
   "source": [
    "grid_search_tree.score(X_train, y_train)"
   ]
  },
  {
   "cell_type": "code",
   "execution_count": 432,
   "metadata": {},
   "outputs": [
    {
     "data": {
      "text/plain": [
       "0.050686883842376546"
      ]
     },
     "execution_count": 432,
     "metadata": {},
     "output_type": "execute_result"
    }
   ],
   "source": [
    "grid_search_tree.score(X_test, y_test)"
   ]
  },
  {
   "cell_type": "markdown",
   "metadata": {},
   "source": [
    "### Random Forest"
   ]
  },
  {
   "cell_type": "code",
   "execution_count": 435,
   "metadata": {},
   "outputs": [
    {
     "name": "stderr",
     "output_type": "stream",
     "text": [
      "D:\\Anaconda\\lib\\site-packages\\sklearn\\ensemble\\forest.py:246: FutureWarning: The default value of n_estimators will change from 10 in version 0.20 to 100 in 0.22.\n",
      "  \"10 in version 0.20 to 100 in 0.22.\", FutureWarning)\n"
     ]
    },
    {
     "name": "stdout",
     "output_type": "stream",
     "text": [
      "The training error is: 0.02850\n",
      "The test     error is: 0.16857\n"
     ]
    }
   ],
   "source": [
    "from sklearn import ensemble\n",
    "\n",
    "randomForest = ensemble.RandomForestRegressor()\n",
    "randomForest.fit(X_train, y_train) \n",
    "\n",
    "print(\"The training error is: %.5f\" % (1-randomForest.score(X_train, y_train)))\n",
    "print(\"The test     error is: %.5f\" % (1-randomForest.score(X_test, y_test)))"
   ]
  },
  {
   "cell_type": "code",
   "execution_count": 449,
   "metadata": {},
   "outputs": [
    {
     "name": "stdout",
     "output_type": "stream",
     "text": [
      "Wall time: 15min 7s\n"
     ]
    },
    {
     "data": {
      "text/plain": [
       "GridSearchCV(cv=5, error_score='raise-deprecating',\n",
       "       estimator=RandomForestRegressor(bootstrap=True, criterion='mse', max_depth=None,\n",
       "           max_features='auto', max_leaf_nodes=None,\n",
       "           min_impurity_decrease=0.0, min_impurity_split=None,\n",
       "           min_samples_leaf=1, min_samples_split=2,\n",
       "           min_weight_fraction_leaf=0.0, n_estimators=10, n_jobs=None,\n",
       "           oob_score=False, random_state=None, verbose=0, warm_start=False),\n",
       "       fit_params=None, iid='warn', n_jobs=-1,\n",
       "       param_grid={'max_depth': range(1, 31), 'n_estimators': range(10, 200, 10)},\n",
       "       pre_dispatch='2*n_jobs', refit=True, return_train_score='warn',\n",
       "       scoring=make_scorer(mean_squared_error), verbose=0)"
      ]
     },
     "execution_count": 449,
     "metadata": {},
     "output_type": "execute_result"
    }
   ],
   "source": [
    "grid_para_forest = {\n",
    "    'max_depth': range(1, 31),\n",
    "    'n_estimators': range(10, 200, 10),\n",
    "}\n",
    "grid_search_forest = GridSearchCV(randomForest, grid_para_forest, scoring=scoring, cv=5, n_jobs=-1)\n",
    "%time grid_search_forest.fit(X_train, y_train)"
   ]
  },
  {
   "cell_type": "code",
   "execution_count": 450,
   "metadata": {},
   "outputs": [
    {
     "data": {
      "text/plain": [
       "{'max_depth': 1, 'n_estimators': 60}"
      ]
     },
     "execution_count": 450,
     "metadata": {},
     "output_type": "execute_result"
    }
   ],
   "source": [
    "grid_search_forest.best_params_"
   ]
  },
  {
   "cell_type": "code",
   "execution_count": 451,
   "metadata": {},
   "outputs": [
    {
     "data": {
      "text/plain": [
       "0.08787348785863298"
      ]
     },
     "execution_count": 451,
     "metadata": {},
     "output_type": "execute_result"
    }
   ],
   "source": [
    "grid_search_forest.best_score_"
   ]
  },
  {
   "cell_type": "code",
   "execution_count": 459,
   "metadata": {},
   "outputs": [
    {
     "name": "stdout",
     "output_type": "stream",
     "text": [
      "The training error is: 0.08740\n",
      "The test     error is: 0.07989\n"
     ]
    }
   ],
   "source": [
    "print(\"The training error is: %.5f\" % (grid_search_forest.score(X_train, y_train)))\n",
    "print(\"The test     error is: %.5f\" % (grid_search_forest.score(X_test, y_test)))"
   ]
  },
  {
   "cell_type": "code",
   "execution_count": 453,
   "metadata": {},
   "outputs": [
    {
     "name": "stdout",
     "output_type": "stream",
     "text": [
      "Wall time: 15.6 s\n"
     ]
    },
    {
     "data": {
      "text/plain": [
       "GridSearchCV(cv=5, error_score='raise-deprecating',\n",
       "       estimator=RandomForestRegressor(bootstrap=True, criterion='mse', max_depth=1,\n",
       "           max_features='auto', max_leaf_nodes=None,\n",
       "           min_impurity_decrease=0.0, min_impurity_split=None,\n",
       "           min_samples_leaf=1, min_samples_split=2,\n",
       "           min_weight_fraction_leaf=0.0, n_estimators=60, n_jobs=None,\n",
       "           oob_score=False, random_state=None, verbose=0, warm_start=False),\n",
       "       fit_params=None, iid='warn', n_jobs=-1,\n",
       "       param_grid={'min_samples_leaf': range(1, 10), 'min_samples_split': array([ 2,  4,  6,  8, 10, 12, 14, 16, 18, 20, 22, 24, 26, 28, 30])},\n",
       "       pre_dispatch='2*n_jobs', refit=True, return_train_score='warn',\n",
       "       scoring=make_scorer(mean_squared_error), verbose=0)"
      ]
     },
     "execution_count": 453,
     "metadata": {},
     "output_type": "execute_result"
    }
   ],
   "source": [
    "randomForest.set_params(max_depth=1, n_estimators=60)\n",
    "grid_para_forest = {\n",
    "    'min_samples_leaf': range(1, 10),\n",
    "    'min_samples_split': np.linspace(start=2, stop=30, num=15, dtype=int)\n",
    "}\n",
    "grid_search_forest = GridSearchCV(randomForest, grid_para_forest, scoring=scoring, cv=5, n_jobs=-1)\n",
    "%time grid_search_forest.fit(X_train, y_train)"
   ]
  },
  {
   "cell_type": "code",
   "execution_count": 457,
   "metadata": {},
   "outputs": [
    {
     "data": {
      "text/plain": [
       "{'min_samples_leaf': 5, 'min_samples_split': 18}"
      ]
     },
     "execution_count": 457,
     "metadata": {},
     "output_type": "execute_result"
    }
   ],
   "source": [
    "grid_search_forest.best_params_"
   ]
  },
  {
   "cell_type": "code",
   "execution_count": 458,
   "metadata": {},
   "outputs": [
    {
     "data": {
      "text/plain": [
       "0.08791011616671895"
      ]
     },
     "execution_count": 458,
     "metadata": {},
     "output_type": "execute_result"
    }
   ],
   "source": [
    "grid_search_forest.best_score_"
   ]
  },
  {
   "cell_type": "markdown",
   "metadata": {},
   "source": [
    "### Reduced Features:"
   ]
  },
  {
   "cell_type": "code",
   "execution_count": 740,
   "metadata": {},
   "outputs": [],
   "source": [
    "reduced_train, reduced_test, y_train, y_test = train_test_split(reduced_features, target, random_state=78, test_size=.20)"
   ]
  },
  {
   "cell_type": "code",
   "execution_count": 679,
   "metadata": {},
   "outputs": [
    {
     "name": "stderr",
     "output_type": "stream",
     "text": [
      "D:\\Anaconda\\lib\\site-packages\\sklearn\\ensemble\\forest.py:246: FutureWarning: The default value of n_estimators will change from 10 in version 0.20 to 100 in 0.22.\n",
      "  \"10 in version 0.20 to 100 in 0.22.\", FutureWarning)\n"
     ]
    },
    {
     "name": "stdout",
     "output_type": "stream",
     "text": [
      "The training error is: 0.02295\n",
      "The test     error is: 0.15005\n"
     ]
    }
   ],
   "source": [
    "reduced_train, reduced_test, y_train, y_test = train_test_split(reduced_features, target, random_state=78, test_size=.20)\n",
    "\n",
    "randomForest = ensemble.RandomForestRegressor()\n",
    "randomForest.fit(reduced_train, y_train) \n",
    "\n",
    "print(\"The training error is: %.5f\" % (1-randomForest.score(reduced_train, y_train)))\n",
    "print(\"The test     error is: %.5f\" % (1-randomForest.score(reduced_test, y_test)))"
   ]
  },
  {
   "cell_type": "code",
   "execution_count": 684,
   "metadata": {},
   "outputs": [
    {
     "name": "stdout",
     "output_type": "stream",
     "text": [
      "Wall time: 4min 17s\n"
     ]
    },
    {
     "data": {
      "text/plain": [
       "GridSearchCV(cv=5, error_score='raise-deprecating',\n",
       "       estimator=RandomForestRegressor(bootstrap=True, criterion='mse', max_depth=None,\n",
       "           max_features='auto', max_leaf_nodes=None,\n",
       "           min_impurity_decrease=0.0, min_impurity_split=None,\n",
       "           min_samples_leaf=1, min_samples_split=2,\n",
       "           min_weight_fraction_leaf=0.0, n_estimators=10, n_jobs=None,\n",
       "           oob_score=False, random_state=None, verbose=0, warm_start=False),\n",
       "       fit_params=None, iid='warn', n_jobs=-1,\n",
       "       param_grid={'max_depth': range(1, 31), 'n_estimators': range(10, 110, 10)},\n",
       "       pre_dispatch='2*n_jobs', refit=True, return_train_score='warn',\n",
       "       scoring='r2', verbose=0)"
      ]
     },
     "execution_count": 684,
     "metadata": {},
     "output_type": "execute_result"
    }
   ],
   "source": [
    "grid_para_forest = {\n",
    "    'max_depth': range(1, 31),\n",
    "    'n_estimators': range(10, 110, 10),\n",
    "}\n",
    "grid_search_forest = GridSearchCV(randomForest, grid_para_forest, scoring='r2', cv=5, n_jobs=-1)\n",
    "%time grid_search_forest.fit(reduced_train, y_train)"
   ]
  },
  {
   "cell_type": "code",
   "execution_count": 685,
   "metadata": {},
   "outputs": [
    {
     "data": {
      "text/plain": [
       "{'max_depth': 24, 'n_estimators': 10}"
      ]
     },
     "execution_count": 685,
     "metadata": {},
     "output_type": "execute_result"
    }
   ],
   "source": [
    "grid_search_forest.best_params_"
   ]
  },
  {
   "cell_type": "code",
   "execution_count": 686,
   "metadata": {},
   "outputs": [
    {
     "data": {
      "text/plain": [
       "0.8791005841982245"
      ]
     },
     "execution_count": 686,
     "metadata": {},
     "output_type": "execute_result"
    }
   ],
   "source": [
    "grid_search_forest.best_score_"
   ]
  },
  {
   "cell_type": "code",
   "execution_count": 687,
   "metadata": {},
   "outputs": [
    {
     "name": "stdout",
     "output_type": "stream",
     "text": [
      "The training error is: 0.97995\n",
      "The test     error is: 0.84362\n"
     ]
    }
   ],
   "source": [
    "print(\"The training error is: %.5f\" % (grid_search_forest.score(reduced_train, y_train)))\n",
    "print(\"The test     error is: %.5f\" % (grid_search_forest.score(reduced_test, y_test)))"
   ]
  },
  {
   "cell_type": "code",
   "execution_count": 696,
   "metadata": {},
   "outputs": [
    {
     "name": "stdout",
     "output_type": "stream",
     "text": [
      "Wall time: 24.7 s\n"
     ]
    },
    {
     "data": {
      "text/plain": [
       "GridSearchCV(cv=5, error_score='raise-deprecating',\n",
       "       estimator=RandomForestRegressor(bootstrap=True, criterion='mse', max_depth=24,\n",
       "           max_features='auto', max_leaf_nodes=None,\n",
       "           min_impurity_decrease=0.0, min_impurity_split=None,\n",
       "           min_samples_leaf=1, min_samples_split=2,\n",
       "           min_weight_fraction_leaf=0.0, n_estimators=10, n_jobs=None,\n",
       "           oob_score=False, random_state=None, verbose=0, warm_start=False),\n",
       "       fit_params=None, iid='warn', n_jobs=-1,\n",
       "       param_grid={'min_samples_leaf': range(1, 10), 'min_samples_split': array([ 2,  4,  6,  8, 10, 12, 14, 16, 18, 20, 22, 24, 26, 28, 30])},\n",
       "       pre_dispatch='2*n_jobs', refit=True, return_train_score='warn',\n",
       "       scoring='r2', verbose=0)"
      ]
     },
     "execution_count": 696,
     "metadata": {},
     "output_type": "execute_result"
    }
   ],
   "source": [
    "randomForest.set_params(max_depth=24, n_estimators=10)\n",
    "grid_para_forest = {\n",
    "    'min_samples_leaf': range(1, 10),\n",
    "    'min_samples_split': np.linspace(start=2, stop=30, num=15, dtype=int)\n",
    "}\n",
    "grid_search_forest = GridSearchCV(randomForest, grid_para_forest, scoring='r2', cv=5, n_jobs=-1)\n",
    "%time grid_search_forest.fit(reduced_train, y_train)"
   ]
  },
  {
   "cell_type": "code",
   "execution_count": 697,
   "metadata": {},
   "outputs": [
    {
     "data": {
      "text/plain": [
       "{'min_samples_leaf': 1, 'min_samples_split': 2}"
      ]
     },
     "execution_count": 697,
     "metadata": {},
     "output_type": "execute_result"
    }
   ],
   "source": [
    "grid_search_forest.best_params_"
   ]
  },
  {
   "cell_type": "code",
   "execution_count": 698,
   "metadata": {},
   "outputs": [
    {
     "data": {
      "text/plain": [
       "0.8627194771954515"
      ]
     },
     "execution_count": 698,
     "metadata": {},
     "output_type": "execute_result"
    }
   ],
   "source": [
    "grid_search_forest.best_score_"
   ]
  },
  {
   "cell_type": "code",
   "execution_count": 699,
   "metadata": {},
   "outputs": [
    {
     "name": "stdout",
     "output_type": "stream",
     "text": [
      "The training error is: 0.97533\n",
      "The test     error is: 0.86088\n"
     ]
    }
   ],
   "source": [
    "print(\"The training error is: %.5f\" % (grid_search_forest.score(reduced_train, y_train)))\n",
    "print(\"The test     error is: %.5f\" % (grid_search_forest.score(reduced_test, y_test)))"
   ]
  },
  {
   "cell_type": "code",
   "execution_count": 743,
   "metadata": {},
   "outputs": [
    {
     "data": {
      "text/plain": [
       "(1459,)"
      ]
     },
     "execution_count": 743,
     "metadata": {},
     "output_type": "execute_result"
    }
   ],
   "source": [
    "target.shape"
   ]
  },
  {
   "cell_type": "markdown",
   "metadata": {},
   "source": [
    "# Final Test Set / Submission:"
   ]
  },
  {
   "cell_type": "code",
   "execution_count": 748,
   "metadata": {},
   "outputs": [],
   "source": [
    "predictions = grid_search_forest.predict(final_test)"
   ]
  },
  {
   "cell_type": "code",
   "execution_count": 701,
   "metadata": {},
   "outputs": [
    {
     "data": {
      "text/plain": [
       "Id\n",
       "1       208500\n",
       "2       181500\n",
       "3       223500\n",
       "4       140000\n",
       "5       250000\n",
       "         ...  \n",
       "1456    175000\n",
       "1457    210000\n",
       "1458    266500\n",
       "1459    142125\n",
       "1460    147500\n",
       "Name: SalePrice, Length: 1459, dtype: int64"
      ]
     },
     "execution_count": 701,
     "metadata": {},
     "output_type": "execute_result"
    }
   ],
   "source": [
    "target"
   ]
  },
  {
   "cell_type": "code",
   "execution_count": 749,
   "metadata": {},
   "outputs": [],
   "source": [
    "submission = pd.DataFrame()\n",
    "submission['Id'] = test.Id\n",
    "submission['SalePrice'] = predictions"
   ]
  },
  {
   "cell_type": "code",
   "execution_count": 751,
   "metadata": {},
   "outputs": [],
   "source": [
    "submission.to_csv('submission1.csv', index=False)"
   ]
  },
  {
   "cell_type": "markdown",
   "metadata": {},
   "source": [
    "# Gradient Boosting"
   ]
  },
  {
   "cell_type": "code",
   "execution_count": 762,
   "metadata": {},
   "outputs": [],
   "source": [
    "from sklearn.ensemble import GradientBoostingRegressor\n",
    "gbmr = GradientBoostingRegressor()"
   ]
  },
  {
   "cell_type": "code",
   "execution_count": 763,
   "metadata": {},
   "outputs": [
    {
     "data": {
      "text/plain": [
       "0.9601582793807316"
      ]
     },
     "execution_count": 763,
     "metadata": {},
     "output_type": "execute_result"
    }
   ],
   "source": [
    "gbmr.fit(reduced_features, target)\n",
    "gbmr.score(reduced_features, target)"
   ]
  },
  {
   "cell_type": "code",
   "execution_count": 764,
   "metadata": {},
   "outputs": [
    {
     "name": "stdout",
     "output_type": "stream",
     "text": [
      "--------------------------------------------------\n",
      "The train set R^2 is 0.965\n",
      "The test set R^2 is 0.905\n"
     ]
    }
   ],
   "source": [
    "X_train, X_test, Y_train, Y_test = train_test_split(reduced_features, target, test_size=0.3)\n",
    "gbmr.fit(X_train,Y_train)\n",
    "print('-'*50)\n",
    "print(\"The train set R^2 is %.3f\" %(gbmr.score(X_train, Y_train)))\n",
    "print(\"The test set R^2 is %.3f\" %(gbmr.score(X_test,Y_test)))"
   ]
  },
  {
   "cell_type": "markdown",
   "metadata": {},
   "source": [
    "### Number of Trees"
   ]
  },
  {
   "cell_type": "code",
   "execution_count": 765,
   "metadata": {},
   "outputs": [],
   "source": [
    "from sklearn.metrics import r2_score \n",
    "n_estimators = 50100\n",
    "steps = range(100, 50100, 1000)\n",
    "\n",
    "gbmr.set_params(learning_rate = 1, n_estimators=n_estimators, max_depth=3)\n",
    "gbmr.fit(X_train, Y_train)\n",
    "gen = gbmr.staged_predict(X_train)\n",
    "r2_rate1 = []\n",
    "for n in range(n_estimators):\n",
    "           predicted_targets = next(gen)\n",
    "           if n not in steps: continue\n",
    "           r2_rate1.append(r2_score(Y_train, predicted_targets))"
   ]
  },
  {
   "cell_type": "code",
   "execution_count": 766,
   "metadata": {},
   "outputs": [],
   "source": [
    "gbmr.set_params(learning_rate = 0.1)\n",
    "gbmr.fit(X_train, Y_train)\n",
    "gen = gbmr.staged_predict(X_train)\n",
    "r2_rate01 = []\n",
    "for n in range(n_estimators):\n",
    "           predicted_targets = next(gen)\n",
    "           if n not in steps: continue\n",
    "           r2_rate01.append(r2_score(Y_train, predicted_targets))   "
   ]
  },
  {
   "cell_type": "code",
   "execution_count": 767,
   "metadata": {},
   "outputs": [],
   "source": [
    "gbmr.set_params(learning_rate = 0.01)\n",
    "gbmr.fit(X_train, Y_train)\n",
    "gen = gbmr.staged_predict(X_train)\n",
    "r2_rate001 = []\n",
    "for n in range(n_estimators):\n",
    "           predicted_targets = next(gen)\n",
    "           if n not in steps: continue\n",
    "           r2_rate001.append(r2_score(Y_train, predicted_targets))    "
   ]
  },
  {
   "cell_type": "code",
   "execution_count": 768,
   "metadata": {},
   "outputs": [
    {
     "data": {
      "text/plain": [
       "<matplotlib.legend.Legend at 0x22798b65e48>"
      ]
     },
     "execution_count": 768,
     "metadata": {},
     "output_type": "execute_result"
    },
    {
     "data": {
      "image/png": "[encoded data removed]",
      "text/plain": [
       "<Figure size 720x360 with 1 Axes>"
      ]
     },
     "metadata": {
      "needs_background": "light"
     },
     "output_type": "display_data"
    }
   ],
   "source": [
    "plt.plot(steps, r2_rate1,  label=r'R^2 curve for learning_rate = 1')\n",
    "plt.plot(steps, r2_rate01, label=r'R^2 curve for learning_rate = 0.1')\n",
    "plt.plot(steps, r2_rate001, label=r'R^2 curve for learning_rate = 0.01')\n",
    "plt.legend(loc=4)"
   ]
  },
  {
   "cell_type": "markdown",
   "metadata": {},
   "source": [
    "### Max Depth"
   ]
  },
  {
   "cell_type": "code",
   "execution_count": 770,
   "metadata": {},
   "outputs": [],
   "source": [
    "gbmr.set_params(learning_rate = 0.01, max_depth = 3)\n",
    "    \n",
    "gbmr.fit(X_train, Y_train)\n",
    "gen = gbmr.staged_predict(X_train)\n",
    "r2_maxdepth3 = []\n",
    "for n in range(n_estimators):\n",
    "           predicted_targets = next(gen)\n",
    "           if n not in steps: continue\n",
    "           r2_maxdepth3.append(r2_score(Y_train, predicted_targets)) "
   ]
  },
  {
   "cell_type": "code",
   "execution_count": 771,
   "metadata": {},
   "outputs": [],
   "source": [
    "gbmr.set_params(learning_rate = 0.01, max_depth = 5)\n",
    "    \n",
    "gbmr.fit(X_train, Y_train)\n",
    "gen = gbmr.staged_predict(X_train)\n",
    "r2_maxdepth5 = []\n",
    "for n in range(n_estimators):\n",
    "           predicted_targets = next(gen)\n",
    "           if n not in steps: continue\n",
    "           r2_maxdepth5.append(r2_score(Y_train, predicted_targets))     "
   ]
  },
  {
   "cell_type": "code",
   "execution_count": 772,
   "metadata": {},
   "outputs": [],
   "source": [
    "gbmr.set_params(learning_rate = 0.01, max_depth = 10)\n",
    "    \n",
    "gbmr.fit(X_train, Y_train)\n",
    "gen = gbmr.staged_predict(X_train)\n",
    "r2_maxdepth10 = []\n",
    "for n in range(n_estimators):\n",
    "           predicted_targets = next(gen)\n",
    "           if n not in steps: continue\n",
    "           r2_maxdepth10.append(r2_score(Y_train, predicted_targets))   "
   ]
  },
  {
   "cell_type": "code",
   "execution_count": 773,
   "metadata": {},
   "outputs": [
    {
     "data": {
      "text/plain": [
       "<matplotlib.legend.Legend at 0x22791b24f98>"
      ]
     },
     "execution_count": 773,
     "metadata": {},
     "output_type": "execute_result"
    },
    {
     "data": {
      "image/png": "[encoded data removed]",
      "text/plain": [
       "<Figure size 720x360 with 1 Axes>"
      ]
     },
     "metadata": {
      "needs_background": "light"
     },
     "output_type": "display_data"
    }
   ],
   "source": [
    "plt.plot(steps, r2_maxdepth3, label='max_depth = 3')\n",
    "plt.plot(steps, r2_maxdepth5, label='max_depth = 5')\n",
    "plt.plot(steps, r2_maxdepth10, label='max_depth = 10')\n",
    "plt.title('$R^2$ curves with different depths')\n",
    "plt.legend(loc=4)"
   ]
  },
  {
   "cell_type": "markdown",
   "metadata": {},
   "source": [
    "### Final Model"
   ]
  },
  {
   "cell_type": "code",
   "execution_count": 774,
   "metadata": {},
   "outputs": [],
   "source": [
    "from sklearn.model_selection import train_test_split\n",
    "X_train, X_test, Y_train, Y_test = train_test_split(reduced_features, target, test_size=0.3)"
   ]
  },
  {
   "cell_type": "code",
   "execution_count": 775,
   "metadata": {},
   "outputs": [],
   "source": [
    "n_estimators = 50100\n",
    "gbmr.set_params(learning_rate=0.01, max_depth=3, n_estimators=n_estimators)\n",
    "train_r2 = []\n",
    "test_r2  = []\n",
    "steps = range(100,50100,1000)\n",
    "\n",
    "gbmr.fit(X_train, Y_train)\n",
    "gen_train = gbmr.staged_predict(X_train)\n",
    "gen_test  = gbmr.staged_predict(X_test)\n",
    "\n",
    "for n in range(n_estimators):\n",
    "           predicted_train = next(gen_train)\n",
    "           predicted_test  = next(gen_test)\n",
    "           if n not in steps: continue\n",
    "           train_r2.append(r2_score(Y_train, predicted_train))\n",
    "           test_r2.append(r2_score(Y_test, predicted_test))    "
   ]
  },
  {
   "cell_type": "code",
   "execution_count": 776,
   "metadata": {},
   "outputs": [
    {
     "data": {
      "text/plain": [
       "<matplotlib.legend.Legend at 0x22791ad9f98>"
      ]
     },
     "execution_count": 776,
     "metadata": {},
     "output_type": "execute_result"
    },
    {
     "data": {
      "image/png": "[encoded data removed]",
      "text/plain": [
       "<Figure size 720x360 with 1 Axes>"
      ]
     },
     "metadata": {
      "needs_background": "light"
     },
     "output_type": "display_data"
    }
   ],
   "source": [
    "plt.plot(steps, train_r2, label='train set $R^2$')\n",
    "plt.plot(steps, test_r2, label='test set $R^2$')\n",
    "plt.legend(loc=7)"
   ]
  },
  {
   "cell_type": "code",
   "execution_count": null,
   "metadata": {},
   "outputs": [],
   "source": [
    "make scorer:"
   ]
  },
  {
   "cell_type": "code",
   "execution_count": 2,
   "metadata": {},
   "outputs": [],
   "source": [
    "from sklearn.metrics import make_scorer\n",
    "\n",
    "def log_rmse(actual, predict):\n",
    "    predict = np.array(np.log(predict))\n",
    "    actual = np.array(np.log(actual))\n",
    "\n",
    "    distance = predict - actual\n",
    "\n",
    "    square_distance = distance ** 2\n",
    "\n",
    "    mean_square_distance = square_distance.mean()\n",
    "\n",
    "    score = np.sqrt(mean_square_distance)\n",
    "\n",
    "    return score\n",
    "\n",
    "log_rmse_score = make_scorer(log_rmse, greater_is_better = False)"
   ]
  },
  {
   "cell_type": "code",
   "execution_count": null,
   "metadata": {},
   "outputs": [],
   "source": []
  }
 ],
 "metadata": {
  "kernelspec": {
   "display_name": "Python 3",
   "language": "python",
   "name": "python3"
  },
  "language_info": {
   "codemirror_mode": {
    "name": "ipython",
    "version": 3
   },
   "file_extension": ".py",
   "mimetype": "text/x-python",
   "name": "python",
   "nbconvert_exporter": "python",
   "pygments_lexer": "ipython3",
   "version": "3.7.3"
  }
 },
 "nbformat": 4,
 "nbformat_minor": 2
}
